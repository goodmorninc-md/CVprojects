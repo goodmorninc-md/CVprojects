{
  "nbformat": 4,
  "nbformat_minor": 0,
  "metadata": {
    "colab": {
      "provenance": [],
      "authorship_tag": "ABX9TyMGR7ttmAXmN2sTjoWAhj8Z",
      "include_colab_link": true
    },
    "kernelspec": {
      "name": "python3",
      "display_name": "Python 3"
    },
    "language_info": {
      "name": "python"
    }
  },
  "cells": [
    {
      "cell_type": "markdown",
      "metadata": {
        "id": "view-in-github",
        "colab_type": "text"
      },
      "source": [
        "<a href=\"https://colab.research.google.com/github/goodmorninc-md/CVprojects/blob/main/Pytorch03_classification.ipynb\" target=\"_parent\"><img src=\"https://colab.research.google.com/assets/colab-badge.svg\" alt=\"Open In Colab\"/></a>"
      ]
    },
    {
      "cell_type": "code",
      "execution_count": 67,
      "metadata": {
        "id": "CY0rcDbwI_bL"
      },
      "outputs": [],
      "source": [
        "from sklearn.datasets import make_circles"
      ]
    },
    {
      "cell_type": "code",
      "source": [
        "n_samples = 1000\n",
        "#random_state为可复现性\n",
        "X,y = make_circles(n_samples,noise = 0.03,random_state = 666)\n",
        "print(len(X))\n",
        "print(len(y))"
      ],
      "metadata": {
        "colab": {
          "base_uri": "https://localhost:8080/"
        },
        "id": "KoODlXHOJdoF",
        "outputId": "b0970e89-e3ca-4b39-ce4e-10b5b71031c5"
      },
      "execution_count": 68,
      "outputs": [
        {
          "output_type": "stream",
          "name": "stdout",
          "text": [
            "1000\n",
            "1000\n"
          ]
        }
      ]
    },
    {
      "cell_type": "code",
      "source": [
        "X[:10],y[:10]"
      ],
      "metadata": {
        "colab": {
          "base_uri": "https://localhost:8080/"
        },
        "id": "0xtBpMLRJOCp",
        "outputId": "3252ad18-9810-491e-fde3-842cf5515399"
      },
      "execution_count": 69,
      "outputs": [
        {
          "output_type": "execute_result",
          "data": {
            "text/plain": [
              "(array([[ 0.52325328,  0.61300511],\n",
              "        [ 0.55902611, -0.79380798],\n",
              "        [ 0.0727995 ,  1.01580096],\n",
              "        [ 0.64397546,  0.47924582],\n",
              "        [ 0.72775059, -0.33061163],\n",
              "        [ 0.81142124, -0.59478038],\n",
              "        [-0.92285668, -0.31323881],\n",
              "        [ 0.82111644, -0.52126486],\n",
              "        [-0.86263646,  0.05297522],\n",
              "        [-0.78689026,  0.10441673]]),\n",
              " array([1, 0, 0, 1, 1, 0, 0, 0, 1, 1]))"
            ]
          },
          "metadata": {},
          "execution_count": 69
        }
      ]
    },
    {
      "cell_type": "code",
      "source": [
        "import pandas as pd\n",
        "circles = pd.DataFrame({\"X1\":X [:,0],\"X2\":X[:,1],\"label\":y})\n",
        "circles.head(10)"
      ],
      "metadata": {
        "colab": {
          "base_uri": "https://localhost:8080/",
          "height": 363
        },
        "id": "p9s8jDeeJ8e2",
        "outputId": "24b16d62-fbef-40c2-aace-a259a0aeb104"
      },
      "execution_count": 70,
      "outputs": [
        {
          "output_type": "execute_result",
          "data": {
            "text/plain": [
              "         X1        X2  label\n",
              "0  0.523253  0.613005      1\n",
              "1  0.559026 -0.793808      0\n",
              "2  0.072800  1.015801      0\n",
              "3  0.643975  0.479246      1\n",
              "4  0.727751 -0.330612      1\n",
              "5  0.811421 -0.594780      0\n",
              "6 -0.922857 -0.313239      0\n",
              "7  0.821116 -0.521265      0\n",
              "8 -0.862636  0.052975      1\n",
              "9 -0.786890  0.104417      1"
            ],
            "text/html": [
              "\n",
              "  <div id=\"df-ba8dad9a-1ddc-4596-8b58-77c606d39cc8\" class=\"colab-df-container\">\n",
              "    <div>\n",
              "<style scoped>\n",
              "    .dataframe tbody tr th:only-of-type {\n",
              "        vertical-align: middle;\n",
              "    }\n",
              "\n",
              "    .dataframe tbody tr th {\n",
              "        vertical-align: top;\n",
              "    }\n",
              "\n",
              "    .dataframe thead th {\n",
              "        text-align: right;\n",
              "    }\n",
              "</style>\n",
              "<table border=\"1\" class=\"dataframe\">\n",
              "  <thead>\n",
              "    <tr style=\"text-align: right;\">\n",
              "      <th></th>\n",
              "      <th>X1</th>\n",
              "      <th>X2</th>\n",
              "      <th>label</th>\n",
              "    </tr>\n",
              "  </thead>\n",
              "  <tbody>\n",
              "    <tr>\n",
              "      <th>0</th>\n",
              "      <td>0.523253</td>\n",
              "      <td>0.613005</td>\n",
              "      <td>1</td>\n",
              "    </tr>\n",
              "    <tr>\n",
              "      <th>1</th>\n",
              "      <td>0.559026</td>\n",
              "      <td>-0.793808</td>\n",
              "      <td>0</td>\n",
              "    </tr>\n",
              "    <tr>\n",
              "      <th>2</th>\n",
              "      <td>0.072800</td>\n",
              "      <td>1.015801</td>\n",
              "      <td>0</td>\n",
              "    </tr>\n",
              "    <tr>\n",
              "      <th>3</th>\n",
              "      <td>0.643975</td>\n",
              "      <td>0.479246</td>\n",
              "      <td>1</td>\n",
              "    </tr>\n",
              "    <tr>\n",
              "      <th>4</th>\n",
              "      <td>0.727751</td>\n",
              "      <td>-0.330612</td>\n",
              "      <td>1</td>\n",
              "    </tr>\n",
              "    <tr>\n",
              "      <th>5</th>\n",
              "      <td>0.811421</td>\n",
              "      <td>-0.594780</td>\n",
              "      <td>0</td>\n",
              "    </tr>\n",
              "    <tr>\n",
              "      <th>6</th>\n",
              "      <td>-0.922857</td>\n",
              "      <td>-0.313239</td>\n",
              "      <td>0</td>\n",
              "    </tr>\n",
              "    <tr>\n",
              "      <th>7</th>\n",
              "      <td>0.821116</td>\n",
              "      <td>-0.521265</td>\n",
              "      <td>0</td>\n",
              "    </tr>\n",
              "    <tr>\n",
              "      <th>8</th>\n",
              "      <td>-0.862636</td>\n",
              "      <td>0.052975</td>\n",
              "      <td>1</td>\n",
              "    </tr>\n",
              "    <tr>\n",
              "      <th>9</th>\n",
              "      <td>-0.786890</td>\n",
              "      <td>0.104417</td>\n",
              "      <td>1</td>\n",
              "    </tr>\n",
              "  </tbody>\n",
              "</table>\n",
              "</div>\n",
              "    <div class=\"colab-df-buttons\">\n",
              "\n",
              "  <div class=\"colab-df-container\">\n",
              "    <button class=\"colab-df-convert\" onclick=\"convertToInteractive('df-ba8dad9a-1ddc-4596-8b58-77c606d39cc8')\"\n",
              "            title=\"Convert this dataframe to an interactive table.\"\n",
              "            style=\"display:none;\">\n",
              "\n",
              "  <svg xmlns=\"http://www.w3.org/2000/svg\" height=\"24px\" viewBox=\"0 -960 960 960\">\n",
              "    <path d=\"M120-120v-720h720v720H120Zm60-500h600v-160H180v160Zm220 220h160v-160H400v160Zm0 220h160v-160H400v160ZM180-400h160v-160H180v160Zm440 0h160v-160H620v160ZM180-180h160v-160H180v160Zm440 0h160v-160H620v160Z\"/>\n",
              "  </svg>\n",
              "    </button>\n",
              "\n",
              "  <style>\n",
              "    .colab-df-container {\n",
              "      display:flex;\n",
              "      gap: 12px;\n",
              "    }\n",
              "\n",
              "    .colab-df-convert {\n",
              "      background-color: #E8F0FE;\n",
              "      border: none;\n",
              "      border-radius: 50%;\n",
              "      cursor: pointer;\n",
              "      display: none;\n",
              "      fill: #1967D2;\n",
              "      height: 32px;\n",
              "      padding: 0 0 0 0;\n",
              "      width: 32px;\n",
              "    }\n",
              "\n",
              "    .colab-df-convert:hover {\n",
              "      background-color: #E2EBFA;\n",
              "      box-shadow: 0px 1px 2px rgba(60, 64, 67, 0.3), 0px 1px 3px 1px rgba(60, 64, 67, 0.15);\n",
              "      fill: #174EA6;\n",
              "    }\n",
              "\n",
              "    .colab-df-buttons div {\n",
              "      margin-bottom: 4px;\n",
              "    }\n",
              "\n",
              "    [theme=dark] .colab-df-convert {\n",
              "      background-color: #3B4455;\n",
              "      fill: #D2E3FC;\n",
              "    }\n",
              "\n",
              "    [theme=dark] .colab-df-convert:hover {\n",
              "      background-color: #434B5C;\n",
              "      box-shadow: 0px 1px 3px 1px rgba(0, 0, 0, 0.15);\n",
              "      filter: drop-shadow(0px 1px 2px rgba(0, 0, 0, 0.3));\n",
              "      fill: #FFFFFF;\n",
              "    }\n",
              "  </style>\n",
              "\n",
              "    <script>\n",
              "      const buttonEl =\n",
              "        document.querySelector('#df-ba8dad9a-1ddc-4596-8b58-77c606d39cc8 button.colab-df-convert');\n",
              "      buttonEl.style.display =\n",
              "        google.colab.kernel.accessAllowed ? 'block' : 'none';\n",
              "\n",
              "      async function convertToInteractive(key) {\n",
              "        const element = document.querySelector('#df-ba8dad9a-1ddc-4596-8b58-77c606d39cc8');\n",
              "        const dataTable =\n",
              "          await google.colab.kernel.invokeFunction('convertToInteractive',\n",
              "                                                    [key], {});\n",
              "        if (!dataTable) return;\n",
              "\n",
              "        const docLinkHtml = 'Like what you see? Visit the ' +\n",
              "          '<a target=\"_blank\" href=https://colab.research.google.com/notebooks/data_table.ipynb>data table notebook</a>'\n",
              "          + ' to learn more about interactive tables.';\n",
              "        element.innerHTML = '';\n",
              "        dataTable['output_type'] = 'display_data';\n",
              "        await google.colab.output.renderOutput(dataTable, element);\n",
              "        const docLink = document.createElement('div');\n",
              "        docLink.innerHTML = docLinkHtml;\n",
              "        element.appendChild(docLink);\n",
              "      }\n",
              "    </script>\n",
              "  </div>\n",
              "\n",
              "\n",
              "<div id=\"df-21b8cea7-593d-4bc3-865f-4220f99889fa\">\n",
              "  <button class=\"colab-df-quickchart\" onclick=\"quickchart('df-21b8cea7-593d-4bc3-865f-4220f99889fa')\"\n",
              "            title=\"Suggest charts\"\n",
              "            style=\"display:none;\">\n",
              "\n",
              "<svg xmlns=\"http://www.w3.org/2000/svg\" height=\"24px\"viewBox=\"0 0 24 24\"\n",
              "     width=\"24px\">\n",
              "    <g>\n",
              "        <path d=\"M19 3H5c-1.1 0-2 .9-2 2v14c0 1.1.9 2 2 2h14c1.1 0 2-.9 2-2V5c0-1.1-.9-2-2-2zM9 17H7v-7h2v7zm4 0h-2V7h2v10zm4 0h-2v-4h2v4z\"/>\n",
              "    </g>\n",
              "</svg>\n",
              "  </button>\n",
              "\n",
              "<style>\n",
              "  .colab-df-quickchart {\n",
              "      --bg-color: #E8F0FE;\n",
              "      --fill-color: #1967D2;\n",
              "      --hover-bg-color: #E2EBFA;\n",
              "      --hover-fill-color: #174EA6;\n",
              "      --disabled-fill-color: #AAA;\n",
              "      --disabled-bg-color: #DDD;\n",
              "  }\n",
              "\n",
              "  [theme=dark] .colab-df-quickchart {\n",
              "      --bg-color: #3B4455;\n",
              "      --fill-color: #D2E3FC;\n",
              "      --hover-bg-color: #434B5C;\n",
              "      --hover-fill-color: #FFFFFF;\n",
              "      --disabled-bg-color: #3B4455;\n",
              "      --disabled-fill-color: #666;\n",
              "  }\n",
              "\n",
              "  .colab-df-quickchart {\n",
              "    background-color: var(--bg-color);\n",
              "    border: none;\n",
              "    border-radius: 50%;\n",
              "    cursor: pointer;\n",
              "    display: none;\n",
              "    fill: var(--fill-color);\n",
              "    height: 32px;\n",
              "    padding: 0;\n",
              "    width: 32px;\n",
              "  }\n",
              "\n",
              "  .colab-df-quickchart:hover {\n",
              "    background-color: var(--hover-bg-color);\n",
              "    box-shadow: 0 1px 2px rgba(60, 64, 67, 0.3), 0 1px 3px 1px rgba(60, 64, 67, 0.15);\n",
              "    fill: var(--button-hover-fill-color);\n",
              "  }\n",
              "\n",
              "  .colab-df-quickchart-complete:disabled,\n",
              "  .colab-df-quickchart-complete:disabled:hover {\n",
              "    background-color: var(--disabled-bg-color);\n",
              "    fill: var(--disabled-fill-color);\n",
              "    box-shadow: none;\n",
              "  }\n",
              "\n",
              "  .colab-df-spinner {\n",
              "    border: 2px solid var(--fill-color);\n",
              "    border-color: transparent;\n",
              "    border-bottom-color: var(--fill-color);\n",
              "    animation:\n",
              "      spin 1s steps(1) infinite;\n",
              "  }\n",
              "\n",
              "  @keyframes spin {\n",
              "    0% {\n",
              "      border-color: transparent;\n",
              "      border-bottom-color: var(--fill-color);\n",
              "      border-left-color: var(--fill-color);\n",
              "    }\n",
              "    20% {\n",
              "      border-color: transparent;\n",
              "      border-left-color: var(--fill-color);\n",
              "      border-top-color: var(--fill-color);\n",
              "    }\n",
              "    30% {\n",
              "      border-color: transparent;\n",
              "      border-left-color: var(--fill-color);\n",
              "      border-top-color: var(--fill-color);\n",
              "      border-right-color: var(--fill-color);\n",
              "    }\n",
              "    40% {\n",
              "      border-color: transparent;\n",
              "      border-right-color: var(--fill-color);\n",
              "      border-top-color: var(--fill-color);\n",
              "    }\n",
              "    60% {\n",
              "      border-color: transparent;\n",
              "      border-right-color: var(--fill-color);\n",
              "    }\n",
              "    80% {\n",
              "      border-color: transparent;\n",
              "      border-right-color: var(--fill-color);\n",
              "      border-bottom-color: var(--fill-color);\n",
              "    }\n",
              "    90% {\n",
              "      border-color: transparent;\n",
              "      border-bottom-color: var(--fill-color);\n",
              "    }\n",
              "  }\n",
              "</style>\n",
              "\n",
              "  <script>\n",
              "    async function quickchart(key) {\n",
              "      const quickchartButtonEl =\n",
              "        document.querySelector('#' + key + ' button');\n",
              "      quickchartButtonEl.disabled = true;  // To prevent multiple clicks.\n",
              "      quickchartButtonEl.classList.add('colab-df-spinner');\n",
              "      try {\n",
              "        const charts = await google.colab.kernel.invokeFunction(\n",
              "            'suggestCharts', [key], {});\n",
              "      } catch (error) {\n",
              "        console.error('Error during call to suggestCharts:', error);\n",
              "      }\n",
              "      quickchartButtonEl.classList.remove('colab-df-spinner');\n",
              "      quickchartButtonEl.classList.add('colab-df-quickchart-complete');\n",
              "    }\n",
              "    (() => {\n",
              "      let quickchartButtonEl =\n",
              "        document.querySelector('#df-21b8cea7-593d-4bc3-865f-4220f99889fa button');\n",
              "      quickchartButtonEl.style.display =\n",
              "        google.colab.kernel.accessAllowed ? 'block' : 'none';\n",
              "    })();\n",
              "  </script>\n",
              "</div>\n",
              "\n",
              "    </div>\n",
              "  </div>\n"
            ],
            "application/vnd.google.colaboratory.intrinsic+json": {
              "type": "dataframe",
              "variable_name": "circles",
              "summary": "{\n  \"name\": \"circles\",\n  \"rows\": 1000,\n  \"fields\": [\n    {\n      \"column\": \"X1\",\n      \"properties\": {\n        \"dtype\": \"number\",\n        \"std\": 0.644279732585628,\n        \"min\": -1.0446999537184951,\n        \"max\": 1.0832411308871286,\n        \"num_unique_values\": 1000,\n        \"samples\": [\n          -0.7692001489087714,\n          0.4123727774794669,\n          0.8669761552612386\n        ],\n        \"semantic_type\": \"\",\n        \"description\": \"\"\n      }\n    },\n    {\n      \"column\": \"X2\",\n      \"properties\": {\n        \"dtype\": \"number\",\n        \"std\": 0.641678928755352,\n        \"min\": -1.053241785199372,\n        \"max\": 1.0388433176816443,\n        \"num_unique_values\": 1000,\n        \"samples\": [\n          -0.034483104104177834,\n          -0.8616052287105368,\n          -0.030620371012451828\n        ],\n        \"semantic_type\": \"\",\n        \"description\": \"\"\n      }\n    },\n    {\n      \"column\": \"label\",\n      \"properties\": {\n        \"dtype\": \"number\",\n        \"std\": 0,\n        \"min\": 0,\n        \"max\": 1,\n        \"num_unique_values\": 2,\n        \"samples\": [\n          0,\n          1\n        ],\n        \"semantic_type\": \"\",\n        \"description\": \"\"\n      }\n    }\n  ]\n}"
            }
          },
          "metadata": {},
          "execution_count": 70
        }
      ]
    },
    {
      "cell_type": "code",
      "source": [
        "circles.label.value_counts()"
      ],
      "metadata": {
        "colab": {
          "base_uri": "https://localhost:8080/"
        },
        "id": "FaBOrO3SKpSV",
        "outputId": "34f3e3af-b251-473c-c1eb-837c63180d2b"
      },
      "execution_count": 71,
      "outputs": [
        {
          "output_type": "execute_result",
          "data": {
            "text/plain": [
              "1    500\n",
              "0    500\n",
              "Name: label, dtype: int64"
            ]
          },
          "metadata": {},
          "execution_count": 71
        }
      ]
    },
    {
      "cell_type": "code",
      "source": [
        "import matplotlib.pyplot as plt\n",
        "plt.scatter(x=X[:,0],y=X[:,1],c=y,cmap = plt.cm.RdYlBu)"
      ],
      "metadata": {
        "colab": {
          "base_uri": "https://localhost:8080/",
          "height": 447
        },
        "id": "TfSoKjy0KxQ_",
        "outputId": "ce9e50bd-6387-4b00-9c37-fac44c52cfb2"
      },
      "execution_count": 72,
      "outputs": [
        {
          "output_type": "execute_result",
          "data": {
            "text/plain": [
              "<matplotlib.collections.PathCollection at 0x7d432dc88eb0>"
            ]
          },
          "metadata": {},
          "execution_count": 72
        },
        {
          "output_type": "display_data",
          "data": {
            "text/plain": [
              "<Figure size 640x480 with 1 Axes>"
            ],
            "image/png": "[encoded data removed]"
          },
          "metadata": {}
        }
      ]
    },
    {
      "cell_type": "code",
      "source": [
        "import torch\n",
        "#numpy 和 tensor默认精度可能不一样，要转成一样的精度\n",
        "X = torch.from_numpy(X).type(torch.float)\n",
        "y = torch.from_numpy(y).type(torch.float)\n",
        "#这里x和y就是tensor了\n",
        "X,y"
      ],
      "metadata": {
        "colab": {
          "base_uri": "https://localhost:8080/"
        },
        "id": "nVKyHL0P7Ou5",
        "outputId": "70c9aabb-ca3f-4ecf-c39d-1d89f64d93d2"
      },
      "execution_count": 73,
      "outputs": [
        {
          "output_type": "execute_result",
          "data": {
            "text/plain": [
              "(tensor([[ 0.5233,  0.6130],\n",
              "         [ 0.5590, -0.7938],\n",
              "         [ 0.0728,  1.0158],\n",
              "         ...,\n",
              "         [ 0.6323, -0.8384],\n",
              "         [ 0.1728, -0.7774],\n",
              "         [-1.0002,  0.1315]]),\n",
              " tensor([1., 0., 0., 1., 1., 0., 0., 0., 1., 1., 0., 0., 0., 1., 0., 1., 1., 0.,\n",
              "         0., 0., 0., 1., 1., 1., 1., 0., 1., 1., 1., 0., 1., 1., 0., 0., 0., 1.,\n",
              "         1., 0., 1., 0., 1., 0., 0., 0., 1., 1., 1., 0., 1., 1., 1., 1., 0., 0.,\n",
              "         1., 0., 1., 1., 1., 0., 1., 1., 1., 1., 1., 0., 0., 1., 0., 1., 0., 1.,\n",
              "         1., 1., 1., 0., 0., 1., 1., 1., 1., 0., 1., 1., 0., 1., 0., 0., 0., 1.,\n",
              "         1., 0., 0., 0., 1., 1., 1., 1., 0., 0., 0., 1., 1., 0., 0., 0., 0., 1.,\n",
              "         1., 1., 0., 1., 0., 1., 0., 0., 0., 1., 1., 0., 0., 0., 0., 0., 1., 1.,\n",
              "         1., 1., 1., 1., 1., 1., 1., 0., 1., 1., 1., 0., 0., 1., 0., 0., 0., 1.,\n",
              "         1., 1., 1., 1., 1., 0., 0., 0., 0., 0., 1., 0., 0., 1., 1., 0., 0., 1.,\n",
              "         1., 1., 1., 1., 0., 0., 1., 1., 0., 1., 1., 1., 1., 1., 1., 0., 1., 1.,\n",
              "         1., 1., 1., 0., 1., 0., 1., 1., 0., 1., 1., 0., 0., 0., 1., 0., 0., 0.,\n",
              "         0., 1., 0., 0., 1., 1., 1., 0., 0., 0., 0., 1., 0., 0., 0., 0., 0., 0.,\n",
              "         0., 0., 0., 0., 0., 1., 0., 0., 1., 1., 1., 1., 1., 0., 1., 0., 1., 1.,\n",
              "         0., 1., 0., 1., 1., 0., 0., 0., 0., 0., 0., 0., 0., 0., 1., 1., 0., 1.,\n",
              "         0., 1., 0., 1., 1., 0., 0., 0., 0., 1., 0., 1., 0., 0., 1., 1., 1., 1.,\n",
              "         0., 0., 1., 1., 0., 1., 1., 1., 0., 0., 0., 0., 0., 0., 1., 1., 1., 1.,\n",
              "         0., 1., 1., 0., 0., 0., 1., 1., 1., 0., 1., 1., 0., 1., 0., 1., 0., 0.,\n",
              "         0., 0., 0., 0., 1., 1., 0., 0., 1., 1., 1., 0., 0., 0., 0., 0., 1., 0.,\n",
              "         0., 0., 1., 0., 1., 1., 0., 0., 0., 1., 0., 1., 1., 0., 1., 0., 0., 0.,\n",
              "         0., 0., 1., 1., 0., 1., 1., 1., 0., 0., 1., 0., 1., 0., 1., 1., 1., 0.,\n",
              "         0., 0., 0., 0., 1., 0., 1., 1., 1., 0., 0., 0., 0., 0., 1., 1., 0., 0.,\n",
              "         1., 1., 0., 0., 0., 0., 0., 1., 1., 0., 0., 1., 0., 0., 0., 1., 1., 0.,\n",
              "         0., 1., 1., 0., 1., 1., 0., 0., 1., 1., 1., 1., 1., 0., 1., 1., 0., 0.,\n",
              "         0., 1., 1., 0., 0., 0., 1., 0., 0., 1., 0., 0., 0., 0., 0., 1., 0., 1.,\n",
              "         1., 1., 1., 1., 1., 1., 0., 0., 1., 0., 1., 1., 1., 0., 1., 1., 0., 0.,\n",
              "         1., 0., 1., 0., 1., 1., 0., 0., 0., 0., 1., 1., 1., 1., 0., 1., 1., 0.,\n",
              "         1., 0., 1., 0., 1., 0., 0., 0., 0., 1., 0., 0., 1., 1., 0., 1., 0., 0.,\n",
              "         1., 1., 0., 1., 1., 1., 0., 1., 1., 0., 0., 1., 0., 0., 1., 0., 1., 1.,\n",
              "         1., 1., 0., 0., 0., 0., 1., 0., 1., 0., 1., 1., 0., 0., 0., 0., 1., 1.,\n",
              "         1., 1., 1., 0., 0., 0., 1., 0., 0., 0., 1., 1., 0., 1., 0., 0., 0., 0.,\n",
              "         0., 0., 1., 1., 0., 0., 1., 1., 0., 0., 0., 0., 0., 1., 1., 1., 0., 0.,\n",
              "         1., 0., 0., 1., 0., 1., 1., 0., 1., 1., 0., 1., 1., 1., 1., 1., 1., 0.,\n",
              "         1., 1., 0., 0., 0., 1., 1., 1., 0., 0., 1., 0., 0., 1., 1., 1., 1., 1.,\n",
              "         1., 0., 0., 0., 0., 1., 1., 0., 1., 0., 0., 0., 1., 0., 1., 0., 1., 0.,\n",
              "         1., 0., 1., 1., 1., 0., 0., 0., 0., 1., 1., 1., 1., 1., 0., 1., 1., 0.,\n",
              "         1., 0., 1., 1., 1., 0., 1., 0., 1., 0., 0., 0., 1., 0., 1., 0., 1., 1.,\n",
              "         1., 0., 0., 1., 1., 1., 0., 1., 0., 0., 1., 1., 1., 1., 1., 1., 1., 1.,\n",
              "         0., 0., 1., 1., 0., 1., 0., 1., 1., 0., 1., 1., 0., 0., 0., 0., 0., 1.,\n",
              "         1., 0., 0., 1., 0., 1., 1., 1., 1., 0., 0., 0., 0., 1., 1., 0., 1., 0.,\n",
              "         1., 1., 1., 0., 0., 1., 1., 0., 1., 0., 0., 1., 0., 1., 1., 1., 0., 0.,\n",
              "         1., 1., 1., 1., 1., 1., 1., 1., 1., 0., 1., 0., 1., 1., 1., 0., 0., 0.,\n",
              "         0., 0., 1., 1., 1., 0., 1., 1., 0., 1., 1., 1., 1., 1., 0., 0., 1., 0.,\n",
              "         1., 1., 0., 1., 1., 1., 1., 0., 1., 1., 0., 0., 1., 0., 0., 1., 0., 1.,\n",
              "         0., 1., 0., 0., 0., 0., 1., 0., 0., 0., 0., 0., 0., 1., 0., 0., 1., 0.,\n",
              "         0., 1., 0., 0., 1., 0., 1., 0., 0., 0., 1., 0., 1., 0., 0., 0., 0., 0.,\n",
              "         1., 0., 0., 1., 0., 1., 0., 0., 0., 1., 0., 1., 0., 0., 1., 1., 0., 0.,\n",
              "         0., 1., 0., 1., 0., 1., 0., 1., 0., 0., 0., 1., 1., 1., 0., 1., 1., 0.,\n",
              "         0., 0., 1., 0., 0., 0., 1., 1., 0., 1., 1., 0., 0., 0., 0., 0., 1., 0.,\n",
              "         1., 1., 0., 1., 1., 1., 1., 0., 1., 0., 0., 0., 1., 0., 0., 0., 1., 0.,\n",
              "         1., 0., 1., 0., 0., 1., 1., 0., 0., 1., 0., 1., 1., 1., 0., 1., 1., 0.,\n",
              "         1., 0., 1., 0., 0., 0., 1., 1., 0., 1., 1., 1., 1., 0., 1., 1., 1., 0.,\n",
              "         0., 0., 1., 0., 1., 0., 0., 1., 0., 1., 0., 0., 1., 0., 1., 1., 1., 0.,\n",
              "         0., 1., 0., 1., 0., 0., 1., 1., 1., 1., 0., 1., 1., 1., 1., 0., 1., 1.,\n",
              "         0., 1., 1., 0., 0., 1., 0., 0., 1., 1., 0., 1., 0., 0., 0., 0., 0., 1.,\n",
              "         1., 0., 0., 1., 0., 1., 0., 0., 0., 1., 1., 1., 0., 1., 0., 1., 0., 0.,\n",
              "         0., 1., 0., 1., 0., 1., 1., 0., 1., 0.]))"
            ]
          },
          "metadata": {},
          "execution_count": 73
        }
      ]
    },
    {
      "cell_type": "code",
      "source": [
        "from sklearn.model_selection import train_test_split"
      ],
      "metadata": {
        "id": "er6j8ITt8R2X"
      },
      "execution_count": 74,
      "outputs": []
    },
    {
      "cell_type": "code",
      "source": [
        "X_train,X_test,y_train,y_test = train_test_split(X,y,test_size=0.2,random_state = 666)\n",
        "len(X_test)"
      ],
      "metadata": {
        "colab": {
          "base_uri": "https://localhost:8080/"
        },
        "id": "Vk-trGrW8tbH",
        "outputId": "6e4ac445-70e5-46b3-9d3c-275115432642"
      },
      "execution_count": 75,
      "outputs": [
        {
          "output_type": "execute_result",
          "data": {
            "text/plain": [
              "200"
            ]
          },
          "metadata": {},
          "execution_count": 75
        }
      ]
    },
    {
      "cell_type": "markdown",
      "source": [
        "#建立分类模型\n"
      ],
      "metadata": {
        "id": "oOLQXvg09dvm"
      }
    },
    {
      "cell_type": "code",
      "source": [
        "from torch import nn\n",
        "device = \"cuda\" if torch.cuda.is_available() else \"cpu\"\n",
        "device"
      ],
      "metadata": {
        "colab": {
          "base_uri": "https://localhost:8080/",
          "height": 35
        },
        "id": "PGiSquDn9fS3",
        "outputId": "30ec65b3-0b71-46b0-a005-b9e028b62a7a"
      },
      "execution_count": 76,
      "outputs": [
        {
          "output_type": "execute_result",
          "data": {
            "text/plain": [
              "'cpu'"
            ],
            "application/vnd.google.colaboratory.intrinsic+json": {
              "type": "string"
            }
          },
          "metadata": {},
          "execution_count": 76
        }
      ]
    },
    {
      "cell_type": "code",
      "source": [
        "class CircleModelV0(nn.Module):\n",
        "  def __init__(self):\n",
        "    super().__init__()\n",
        "    #全连接层,因为x有两个列，是两个输入的特征\n",
        "    self.layer_1 = nn.Linear(in_features = 2,out_features = 5)\n",
        "    self.layer_2 = nn.Linear(in_features = 5,out_features= 1)\n",
        "    #重新定义了层，线性整流函数\n",
        "    #正数保留，负数变0 ，使得两层之间有弧度\n",
        "    self.relu = nn.ReLU()\n",
        "  # Y = WX(WX+B) +B\n",
        "  #还是线性的\n",
        "  def forward(self,x):\n",
        "    #layer_1出来进去layer_2\n",
        "    return self.layer_2(self.relu(self.layer_1(x)))"
      ],
      "metadata": {
        "id": "IIhMOg7y905i"
      },
      "execution_count": 77,
      "outputs": []
    },
    {
      "cell_type": "code",
      "source": [
        "#to(devide)不管有没有GPU都可以运行\n",
        "model_0 = CircleModelV0().to(device)\n",
        "model_0.state_dict()"
      ],
      "metadata": {
        "colab": {
          "base_uri": "https://localhost:8080/"
        },
        "id": "dyJNorRY_DKI",
        "outputId": "44cc476d-6e32-4249-aa26-2a3bdd07a75c"
      },
      "execution_count": 78,
      "outputs": [
        {
          "output_type": "execute_result",
          "data": {
            "text/plain": [
              "OrderedDict([('layer_1.weight',\n",
              "              tensor([[ 0.0397, -0.1405],\n",
              "                      [ 0.6362,  0.3636],\n",
              "                      [-0.2153,  0.3460],\n",
              "                      [ 0.5180, -0.4351],\n",
              "                      [-0.1212, -0.6256]])),\n",
              "             ('layer_1.bias',\n",
              "              tensor([ 0.0560,  0.2632, -0.0484, -0.4397,  0.3711])),\n",
              "             ('layer_2.weight',\n",
              "              tensor([[ 0.0185,  0.4164,  0.0522,  0.1595, -0.2398]])),\n",
              "             ('layer_2.bias', tensor([0.3631]))])"
            ]
          },
          "metadata": {},
          "execution_count": 78
        }
      ]
    },
    {
      "cell_type": "code",
      "source": [
        "untrained_preds = model_0(X_test.to(device))\n",
        "untrained_preds[:10]"
      ],
      "metadata": {
        "colab": {
          "base_uri": "https://localhost:8080/"
        },
        "id": "qcU6ZpdR_hAc",
        "outputId": "f2ceca34-dd70-4d29-a323-8ee995d22589"
      },
      "execution_count": 79,
      "outputs": [
        {
          "output_type": "execute_result",
          "data": {
            "text/plain": [
              "tensor([[0.2037],\n",
              "        [0.4518],\n",
              "        [0.6920],\n",
              "        [0.6849],\n",
              "        [0.7852],\n",
              "        [0.4559],\n",
              "        [0.4994],\n",
              "        [0.3120],\n",
              "        [0.6797],\n",
              "        [0.5459]], grad_fn=<SliceBackward0>)"
            ]
          },
          "metadata": {},
          "execution_count": 79
        }
      ]
    },
    {
      "cell_type": "code",
      "source": [
        "y_test[:10]"
      ],
      "metadata": {
        "colab": {
          "base_uri": "https://localhost:8080/"
        },
        "id": "9uRy1Oi3_wiJ",
        "outputId": "99140130-f721-43d2-a65e-ff51795aebe3"
      },
      "execution_count": 80,
      "outputs": [
        {
          "output_type": "execute_result",
          "data": {
            "text/plain": [
              "tensor([1., 1., 0., 0., 0., 0., 0., 1., 0., 0.])"
            ]
          },
          "metadata": {},
          "execution_count": 80
        }
      ]
    },
    {
      "cell_type": "code",
      "source": [
        "# torch.nn.BCELoss()\n",
        "#逻辑斯蒂回归\n",
        "loss_fn = torch.nn.BCEWithLogitsLoss()\n",
        "optimizer= torch.optim.SGD(params = model_0.parameters(),lr=0.5)\n",
        "#sigmoid = 1/(1+e^(-x))"
      ],
      "metadata": {
        "id": "l5CGL0YrAwgB"
      },
      "execution_count": 81,
      "outputs": []
    },
    {
      "cell_type": "code",
      "source": [
        "y_logits = model_0(X_test.to(device))\n",
        "y_pred_prob = torch.sigmoid(y_logits)\n",
        "#模型预测到的概率在0.5附近，则说明模型预测值不准\n",
        "y_pred_prob"
      ],
      "metadata": {
        "colab": {
          "base_uri": "https://localhost:8080/"
        },
        "id": "SYiUOSHlBQ7H",
        "outputId": "bd59a7f8-6522-4898-db98-27dc95c1f6e0"
      },
      "execution_count": 82,
      "outputs": [
        {
          "output_type": "execute_result",
          "data": {
            "text/plain": [
              "tensor([[0.5507],\n",
              "        [0.6111],\n",
              "        [0.6664],\n",
              "        [0.6648],\n",
              "        [0.6868],\n",
              "        [0.6120],\n",
              "        [0.6223],\n",
              "        [0.5774],\n",
              "        [0.6637],\n",
              "        [0.6332],\n",
              "        [0.5636],\n",
              "        [0.6160],\n",
              "        [0.6168],\n",
              "        [0.5661],\n",
              "        [0.5317],\n",
              "        [0.6723],\n",
              "        [0.6053],\n",
              "        [0.5406],\n",
              "        [0.5630],\n",
              "        [0.6724],\n",
              "        [0.6740],\n",
              "        [0.5721],\n",
              "        [0.6462],\n",
              "        [0.6665],\n",
              "        [0.5437],\n",
              "        [0.6587],\n",
              "        [0.6528],\n",
              "        [0.5380],\n",
              "        [0.6689],\n",
              "        [0.5390],\n",
              "        [0.6666],\n",
              "        [0.6333],\n",
              "        [0.6060],\n",
              "        [0.6858],\n",
              "        [0.5562],\n",
              "        [0.6398],\n",
              "        [0.5384],\n",
              "        [0.6672],\n",
              "        [0.5354],\n",
              "        [0.5412],\n",
              "        [0.5313],\n",
              "        [0.6608],\n",
              "        [0.5693],\n",
              "        [0.6212],\n",
              "        [0.5733],\n",
              "        [0.6309],\n",
              "        [0.5641],\n",
              "        [0.6681],\n",
              "        [0.5373],\n",
              "        [0.5539],\n",
              "        [0.5736],\n",
              "        [0.5514],\n",
              "        [0.6464],\n",
              "        [0.5851],\n",
              "        [0.5390],\n",
              "        [0.6297],\n",
              "        [0.5335],\n",
              "        [0.5925],\n",
              "        [0.6717],\n",
              "        [0.5891],\n",
              "        [0.5505],\n",
              "        [0.5754],\n",
              "        [0.6836],\n",
              "        [0.6617],\n",
              "        [0.6716],\n",
              "        [0.6739],\n",
              "        [0.5798],\n",
              "        [0.6705],\n",
              "        [0.6095],\n",
              "        [0.5589],\n",
              "        [0.6653],\n",
              "        [0.5939],\n",
              "        [0.5323],\n",
              "        [0.6356],\n",
              "        [0.6688],\n",
              "        [0.5481],\n",
              "        [0.5992],\n",
              "        [0.6304],\n",
              "        [0.6653],\n",
              "        [0.6732],\n",
              "        [0.6493],\n",
              "        [0.5788],\n",
              "        [0.6562],\n",
              "        [0.6690],\n",
              "        [0.6075],\n",
              "        [0.6115],\n",
              "        [0.6861],\n",
              "        [0.5659],\n",
              "        [0.5636],\n",
              "        [0.6844],\n",
              "        [0.6184],\n",
              "        [0.6585],\n",
              "        [0.6646],\n",
              "        [0.6775],\n",
              "        [0.5400],\n",
              "        [0.6374],\n",
              "        [0.5328],\n",
              "        [0.6555],\n",
              "        [0.6273],\n",
              "        [0.5995],\n",
              "        [0.6149],\n",
              "        [0.5459],\n",
              "        [0.5387],\n",
              "        [0.6856],\n",
              "        [0.6407],\n",
              "        [0.6676],\n",
              "        [0.6696],\n",
              "        [0.6224],\n",
              "        [0.5356],\n",
              "        [0.5867],\n",
              "        [0.6242],\n",
              "        [0.6615],\n",
              "        [0.6141],\n",
              "        [0.5434],\n",
              "        [0.5585],\n",
              "        [0.5392],\n",
              "        [0.6689],\n",
              "        [0.5928],\n",
              "        [0.5660],\n",
              "        [0.5882],\n",
              "        [0.6689],\n",
              "        [0.6405],\n",
              "        [0.5760],\n",
              "        [0.6689],\n",
              "        [0.6503],\n",
              "        [0.5396],\n",
              "        [0.5555],\n",
              "        [0.5569],\n",
              "        [0.6771],\n",
              "        [0.5447],\n",
              "        [0.5463],\n",
              "        [0.6607],\n",
              "        [0.5381],\n",
              "        [0.5436],\n",
              "        [0.5307],\n",
              "        [0.6701],\n",
              "        [0.6571],\n",
              "        [0.6589],\n",
              "        [0.5744],\n",
              "        [0.6505],\n",
              "        [0.5766],\n",
              "        [0.5430],\n",
              "        [0.5559],\n",
              "        [0.6680],\n",
              "        [0.5839],\n",
              "        [0.5540],\n",
              "        [0.6875],\n",
              "        [0.6257],\n",
              "        [0.5299],\n",
              "        [0.6632],\n",
              "        [0.6138],\n",
              "        [0.6688],\n",
              "        [0.5486],\n",
              "        [0.6848],\n",
              "        [0.6261],\n",
              "        [0.6647],\n",
              "        [0.5903],\n",
              "        [0.6149],\n",
              "        [0.6691],\n",
              "        [0.6345],\n",
              "        [0.5460],\n",
              "        [0.5745],\n",
              "        [0.6845],\n",
              "        [0.6179],\n",
              "        [0.6852],\n",
              "        [0.6041],\n",
              "        [0.6253],\n",
              "        [0.5326],\n",
              "        [0.5508],\n",
              "        [0.5322],\n",
              "        [0.5358],\n",
              "        [0.6774],\n",
              "        [0.6124],\n",
              "        [0.5606],\n",
              "        [0.5696],\n",
              "        [0.5420],\n",
              "        [0.6805],\n",
              "        [0.5891],\n",
              "        [0.5431],\n",
              "        [0.6369],\n",
              "        [0.6455],\n",
              "        [0.6759],\n",
              "        [0.6188],\n",
              "        [0.5321],\n",
              "        [0.6621],\n",
              "        [0.6512],\n",
              "        [0.5419],\n",
              "        [0.6470],\n",
              "        [0.5419],\n",
              "        [0.5309],\n",
              "        [0.6719],\n",
              "        [0.6768],\n",
              "        [0.5332],\n",
              "        [0.6721],\n",
              "        [0.5297],\n",
              "        [0.6533],\n",
              "        [0.6638],\n",
              "        [0.6654],\n",
              "        [0.5441],\n",
              "        [0.5601]], grad_fn=<SigmoidBackward0>)"
            ]
          },
          "metadata": {},
          "execution_count": 82
        }
      ]
    },
    {
      "cell_type": "code",
      "source": [
        "#压缩到01之间\n",
        "y_pred_labels = torch.round(y_pred_prob)\n",
        "#因为这里要预测正确率，而当前形状不一样，所以要squeeze一下\n",
        "y_pred_labels.shape,y_test.shape\n"
      ],
      "metadata": {
        "colab": {
          "base_uri": "https://localhost:8080/"
        },
        "id": "9PnoYM0xBve9",
        "outputId": "3b40ce56-51c8-464b-e58b-fb4035816f09"
      },
      "execution_count": 83,
      "outputs": [
        {
          "output_type": "execute_result",
          "data": {
            "text/plain": [
              "(torch.Size([200, 1]), torch.Size([200]))"
            ]
          },
          "metadata": {},
          "execution_count": 83
        }
      ]
    },
    {
      "cell_type": "code",
      "source": [
        "y_pred_labels = y_pred_labels.squeeze()\n",
        "y_pred_labels.shape,y_test.shape"
      ],
      "metadata": {
        "colab": {
          "base_uri": "https://localhost:8080/"
        },
        "id": "_ZvcjmaVCnVQ",
        "outputId": "96a5a34d-0798-4af2-de6f-f8c37a7f41de"
      },
      "execution_count": 84,
      "outputs": [
        {
          "output_type": "execute_result",
          "data": {
            "text/plain": [
              "(torch.Size([200]), torch.Size([200]))"
            ]
          },
          "metadata": {},
          "execution_count": 84
        }
      ]
    },
    {
      "cell_type": "code",
      "source": [
        "#y_pred_labels仅有200个数据\n",
        "torch.sum(y_pred_labels == y_test)"
      ],
      "metadata": {
        "colab": {
          "base_uri": "https://localhost:8080/"
        },
        "id": "ZpNdHWDaCsfK",
        "outputId": "f8e35924-8846-433e-ac50-c63c99f88be8"
      },
      "execution_count": 85,
      "outputs": [
        {
          "output_type": "execute_result",
          "data": {
            "text/plain": [
              "tensor(93)"
            ]
          },
          "metadata": {},
          "execution_count": 85
        }
      ]
    },
    {
      "cell_type": "code",
      "source": [
        "def accuracy_fn(y_true,y_pred):\n",
        "  correct = torch.sum(y_true == y_pred).item()\n",
        "\n",
        "  acc = (correct/len(y_true)) *100\n",
        "  return acc"
      ],
      "metadata": {
        "id": "TbEQJ2gyEK8R"
      },
      "execution_count": 86,
      "outputs": []
    },
    {
      "cell_type": "code",
      "source": [
        "torch.manual_seed(666)\n",
        "#开始训练\n",
        "X_train,y_train = X_train.to(device),y_train.to(device)\n",
        "X_test,y_test = X_test.to(device),y_test.to(device)\n",
        "\n",
        "epochs = 200\n",
        "for epoch in range(epochs):\n",
        "  model_0.train()\n",
        "  y_logits = model_0(X_train).squeeze()\n",
        "  y_pred = torch.round(torch.sigmoid(y_logits))\n",
        "\n",
        "  loss= loss_fn(y_logits,y_train)\n",
        "  acc = accuracy_fn(y_train,y_pred)\n",
        "\n",
        "  optimizer.zero_grad()\n",
        "\n",
        "  loss.backward()\n",
        "  optimizer.step()\n",
        "  model_0.eval()\n",
        "\n",
        "  with torch.inference_mode():\n",
        "    test_logits = model_0(X_test).squeeze()\n",
        "    test_pred = torch.round(torch.sigmoid(test_logits))\n",
        "\n",
        "    test_loss = loss_fn(test_logits,y_test)\n",
        "    test_acc = accuracy_fn(y_test,test_pred)\n",
        "  print(f\"{epoch} | Loss:{loss} | acc:{acc} | Test Loss:{test_loss} | Test Acc:{test_acc}\")"
      ],
      "metadata": {
        "colab": {
          "base_uri": "https://localhost:8080/"
        },
        "id": "0K_wskJxDC6j",
        "outputId": "8bb43469-410e-4717-d918-93912e7b71eb"
      },
      "execution_count": 87,
      "outputs": [
        {
          "output_type": "stream",
          "name": "stdout",
          "text": [
            "0 | Loss:0.7212522625923157 | acc:50.875 | Test Loss:0.7319015264511108 | Test Acc:46.5\n",
            "1 | Loss:0.7142159938812256 | acc:50.875 | Test Loss:0.7238346934318542 | Test Acc:46.5\n",
            "2 | Loss:0.7093379497528076 | acc:51.0 | Test Loss:0.7178401350975037 | Test Acc:54.50000000000001\n",
            "3 | Loss:0.7059174180030823 | acc:57.62500000000001 | Test Loss:0.7133151888847351 | Test Acc:49.5\n",
            "4 | Loss:0.7034843564033508 | acc:53.5 | Test Loss:0.7098385691642761 | Test Acc:51.0\n",
            "5 | Loss:0.7017149925231934 | acc:52.0 | Test Loss:0.7071287035942078 | Test Acc:50.5\n",
            "6 | Loss:0.7003983855247498 | acc:51.74999999999999 | Test Loss:0.7049756646156311 | Test Acc:50.0\n",
            "7 | Loss:0.6993879675865173 | acc:50.74999999999999 | Test Loss:0.7032405138015747 | Test Acc:50.0\n",
            "8 | Loss:0.6985895037651062 | acc:50.375 | Test Loss:0.7018193006515503 | Test Acc:50.0\n",
            "9 | Loss:0.697938859462738 | acc:51.0 | Test Loss:0.7006394863128662 | Test Acc:50.0\n",
            "10 | Loss:0.6973944306373596 | acc:50.125 | Test Loss:0.699647068977356 | Test Acc:50.0\n",
            "11 | Loss:0.6969282627105713 | acc:50.125 | Test Loss:0.6987982988357544 | Test Acc:50.0\n",
            "12 | Loss:0.6965180039405823 | acc:50.5 | Test Loss:0.6980661153793335 | Test Acc:49.5\n",
            "13 | Loss:0.6961522698402405 | acc:50.24999999999999 | Test Loss:0.697425365447998 | Test Acc:49.0\n",
            "14 | Loss:0.695819616317749 | acc:50.74999999999999 | Test Loss:0.6968586444854736 | Test Acc:49.5\n",
            "15 | Loss:0.6955143213272095 | acc:50.74999999999999 | Test Loss:0.6963547468185425 | Test Acc:49.5\n",
            "16 | Loss:0.695229709148407 | acc:50.74999999999999 | Test Loss:0.6959021091461182 | Test Acc:49.0\n",
            "17 | Loss:0.6949626207351685 | acc:50.625 | Test Loss:0.6954890489578247 | Test Acc:50.0\n",
            "18 | Loss:0.694709300994873 | acc:50.625 | Test Loss:0.6951079368591309 | Test Acc:50.0\n",
            "19 | Loss:0.6944672465324402 | acc:50.625 | Test Loss:0.6947571635246277 | Test Acc:50.0\n",
            "20 | Loss:0.6942343711853027 | acc:50.5 | Test Loss:0.6944313049316406 | Test Acc:50.0\n",
            "21 | Loss:0.6940124034881592 | acc:50.375 | Test Loss:0.6941270232200623 | Test Acc:50.0\n",
            "22 | Loss:0.6937989592552185 | acc:50.74999999999999 | Test Loss:0.6938378810882568 | Test Acc:50.0\n",
            "23 | Loss:0.6935907006263733 | acc:50.5 | Test Loss:0.693564772605896 | Test Acc:50.5\n",
            "24 | Loss:0.6933873891830444 | acc:50.5 | Test Loss:0.6933041214942932 | Test Acc:50.5\n",
            "25 | Loss:0.6931915879249573 | acc:50.5 | Test Loss:0.6930553913116455 | Test Acc:50.5\n",
            "26 | Loss:0.6930028796195984 | acc:50.375 | Test Loss:0.6928167939186096 | Test Acc:51.0\n",
            "27 | Loss:0.6928204894065857 | acc:50.375 | Test Loss:0.6925860643386841 | Test Acc:50.5\n",
            "28 | Loss:0.6926428079605103 | acc:50.375 | Test Loss:0.6923615336418152 | Test Acc:50.5\n",
            "29 | Loss:0.6924688816070557 | acc:50.375 | Test Loss:0.6921476721763611 | Test Acc:50.5\n",
            "30 | Loss:0.6922996640205383 | acc:50.375 | Test Loss:0.6919427514076233 | Test Acc:50.5\n",
            "31 | Loss:0.6921337246894836 | acc:50.74999999999999 | Test Loss:0.6917428374290466 | Test Acc:51.0\n",
            "32 | Loss:0.6919708847999573 | acc:51.125 | Test Loss:0.6915472149848938 | Test Acc:50.0\n",
            "33 | Loss:0.691811203956604 | acc:51.24999999999999 | Test Loss:0.6913571953773499 | Test Acc:50.5\n",
            "34 | Loss:0.6916552782058716 | acc:51.37500000000001 | Test Loss:0.6911720037460327 | Test Acc:50.5\n",
            "35 | Loss:0.6915000677108765 | acc:51.0 | Test Loss:0.6909920573234558 | Test Acc:50.5\n",
            "36 | Loss:0.6913489699363708 | acc:50.74999999999999 | Test Loss:0.6908149719238281 | Test Acc:51.0\n",
            "37 | Loss:0.6912012696266174 | acc:50.875 | Test Loss:0.6906432509422302 | Test Acc:51.5\n",
            "38 | Loss:0.6910547018051147 | acc:51.0 | Test Loss:0.6904757618904114 | Test Acc:51.5\n",
            "39 | Loss:0.690910279750824 | acc:51.0 | Test Loss:0.6903116703033447 | Test Acc:51.5\n",
            "40 | Loss:0.6907688975334167 | acc:51.37500000000001 | Test Loss:0.6901484727859497 | Test Acc:52.0\n",
            "41 | Loss:0.6906301975250244 | acc:51.5 | Test Loss:0.6899869441986084 | Test Acc:51.5\n",
            "42 | Loss:0.690493643283844 | acc:51.625 | Test Loss:0.6898269653320312 | Test Acc:51.5\n",
            "43 | Loss:0.6903588771820068 | acc:52.0 | Test Loss:0.6896688938140869 | Test Acc:52.5\n",
            "44 | Loss:0.690226137638092 | acc:52.125 | Test Loss:0.6895138025283813 | Test Acc:53.0\n",
            "45 | Loss:0.690093994140625 | acc:52.25 | Test Loss:0.6893619298934937 | Test Acc:53.0\n",
            "46 | Loss:0.6899627447128296 | acc:52.37500000000001 | Test Loss:0.6892095804214478 | Test Acc:53.0\n",
            "47 | Loss:0.6898324489593506 | acc:52.37500000000001 | Test Loss:0.689059317111969 | Test Acc:53.0\n",
            "48 | Loss:0.6897026896476746 | acc:52.625 | Test Loss:0.6889110803604126 | Test Acc:53.0\n",
            "49 | Loss:0.6895726919174194 | acc:52.87500000000001 | Test Loss:0.688763439655304 | Test Acc:52.5\n",
            "50 | Loss:0.6894431114196777 | acc:53.125 | Test Loss:0.6886183023452759 | Test Acc:52.5\n",
            "51 | Loss:0.689314067363739 | acc:53.125 | Test Loss:0.6884729862213135 | Test Acc:52.5\n",
            "52 | Loss:0.6891855001449585 | acc:53.0 | Test Loss:0.6883253455162048 | Test Acc:53.0\n",
            "53 | Loss:0.689058780670166 | acc:52.87500000000001 | Test Loss:0.6881809830665588 | Test Acc:53.0\n",
            "54 | Loss:0.688931405544281 | acc:53.37499999999999 | Test Loss:0.688037633895874 | Test Acc:52.5\n",
            "55 | Loss:0.6888025403022766 | acc:53.625 | Test Loss:0.6878937482833862 | Test Acc:52.5\n",
            "56 | Loss:0.6886736154556274 | acc:53.625 | Test Loss:0.6877501010894775 | Test Acc:52.5\n",
            "57 | Loss:0.6885446310043335 | acc:53.75 | Test Loss:0.6876075863838196 | Test Acc:52.0\n",
            "58 | Loss:0.6884163022041321 | acc:54.0 | Test Loss:0.6874647736549377 | Test Acc:52.0\n",
            "59 | Loss:0.6882877349853516 | acc:53.75 | Test Loss:0.6873218417167664 | Test Acc:51.5\n",
            "60 | Loss:0.6881586313247681 | acc:54.0 | Test Loss:0.687178373336792 | Test Acc:52.0\n",
            "61 | Loss:0.6880292296409607 | acc:53.75 | Test Loss:0.6870319843292236 | Test Acc:52.0\n",
            "62 | Loss:0.6879000663757324 | acc:53.625 | Test Loss:0.6868836879730225 | Test Acc:52.0\n",
            "63 | Loss:0.6877710223197937 | acc:53.5 | Test Loss:0.6867355108261108 | Test Acc:52.0\n",
            "64 | Loss:0.6876410841941833 | acc:54.0 | Test Loss:0.6865887641906738 | Test Acc:52.0\n",
            "65 | Loss:0.6875098347663879 | acc:54.0 | Test Loss:0.6864414215087891 | Test Acc:52.0\n",
            "66 | Loss:0.6873773336410522 | acc:53.75 | Test Loss:0.6862945556640625 | Test Acc:51.5\n",
            "67 | Loss:0.6872441172599792 | acc:53.75 | Test Loss:0.6861472129821777 | Test Acc:51.5\n",
            "68 | Loss:0.687111496925354 | acc:53.75 | Test Loss:0.6859951615333557 | Test Acc:51.5\n",
            "69 | Loss:0.686980128288269 | acc:54.125 | Test Loss:0.6858413815498352 | Test Acc:51.5\n",
            "70 | Loss:0.6868491172790527 | acc:54.125 | Test Loss:0.6856874227523804 | Test Acc:52.0\n",
            "71 | Loss:0.686716616153717 | acc:54.625 | Test Loss:0.685532808303833 | Test Acc:51.5\n",
            "72 | Loss:0.6865837574005127 | acc:54.37499999999999 | Test Loss:0.6853774189949036 | Test Acc:51.5\n",
            "73 | Loss:0.6864498853683472 | acc:54.87499999999999 | Test Loss:0.6852214336395264 | Test Acc:52.0\n",
            "74 | Loss:0.6863141655921936 | acc:55.375 | Test Loss:0.6850650310516357 | Test Acc:54.0\n",
            "75 | Loss:0.6861770153045654 | acc:55.625 | Test Loss:0.6849081516265869 | Test Acc:55.50000000000001\n",
            "76 | Loss:0.6860384345054626 | acc:56.625 | Test Loss:0.6847476959228516 | Test Acc:58.5\n",
            "77 | Loss:0.6858978271484375 | acc:57.49999999999999 | Test Loss:0.6845855116844177 | Test Acc:59.5\n",
            "78 | Loss:0.6857561469078064 | acc:57.875 | Test Loss:0.6844218373298645 | Test Acc:59.5\n",
            "79 | Loss:0.6856127977371216 | acc:57.875 | Test Loss:0.6842567324638367 | Test Acc:60.0\n",
            "80 | Loss:0.6854681372642517 | acc:58.5 | Test Loss:0.6840893626213074 | Test Acc:59.5\n",
            "81 | Loss:0.6853215098381042 | acc:59.5 | Test Loss:0.6839174032211304 | Test Acc:59.5\n",
            "82 | Loss:0.6851745843887329 | acc:59.875 | Test Loss:0.6837407946586609 | Test Acc:60.0\n",
            "83 | Loss:0.6850267052650452 | acc:60.5 | Test Loss:0.6835619211196899 | Test Acc:61.0\n",
            "84 | Loss:0.6848759651184082 | acc:61.25000000000001 | Test Loss:0.6833842396736145 | Test Acc:61.5\n",
            "85 | Loss:0.6847221255302429 | acc:61.25000000000001 | Test Loss:0.6832054853439331 | Test Acc:62.0\n",
            "86 | Loss:0.6845656037330627 | acc:61.375 | Test Loss:0.6830251812934875 | Test Acc:63.0\n",
            "87 | Loss:0.6844084858894348 | acc:62.125 | Test Loss:0.6828418970108032 | Test Acc:63.0\n",
            "88 | Loss:0.684251070022583 | acc:62.5 | Test Loss:0.6826585531234741 | Test Acc:63.0\n",
            "89 | Loss:0.6840922832489014 | acc:62.74999999999999 | Test Loss:0.6824722290039062 | Test Acc:63.5\n",
            "90 | Loss:0.6839317083358765 | acc:63.125 | Test Loss:0.6822850108146667 | Test Acc:63.0\n",
            "91 | Loss:0.6837689280509949 | acc:63.24999999999999 | Test Loss:0.6820967197418213 | Test Acc:63.0\n",
            "92 | Loss:0.6836029291152954 | acc:63.375 | Test Loss:0.6819054484367371 | Test Acc:63.0\n",
            "93 | Loss:0.6834353804588318 | acc:63.625 | Test Loss:0.6817149519920349 | Test Acc:64.0\n",
            "94 | Loss:0.6832650899887085 | acc:63.87500000000001 | Test Loss:0.6815246343612671 | Test Acc:64.5\n",
            "95 | Loss:0.683091402053833 | acc:64.0 | Test Loss:0.6813346743583679 | Test Acc:64.0\n",
            "96 | Loss:0.682915210723877 | acc:64.125 | Test Loss:0.6811453104019165 | Test Acc:64.5\n",
            "97 | Loss:0.682736337184906 | acc:64.5 | Test Loss:0.6809539794921875 | Test Acc:65.0\n",
            "98 | Loss:0.6825545430183411 | acc:64.375 | Test Loss:0.6807556748390198 | Test Acc:65.5\n",
            "99 | Loss:0.682371973991394 | acc:64.375 | Test Loss:0.6805534362792969 | Test Acc:65.0\n",
            "100 | Loss:0.682188868522644 | acc:65.0 | Test Loss:0.6803485751152039 | Test Acc:66.0\n",
            "101 | Loss:0.6820025444030762 | acc:64.875 | Test Loss:0.6801366209983826 | Test Acc:67.5\n",
            "102 | Loss:0.6818145513534546 | acc:64.75 | Test Loss:0.679922342300415 | Test Acc:68.5\n",
            "103 | Loss:0.6816232800483704 | acc:65.125 | Test Loss:0.6797074675559998 | Test Acc:68.0\n",
            "104 | Loss:0.6814273595809937 | acc:65.25 | Test Loss:0.6794906854629517 | Test Acc:68.5\n",
            "105 | Loss:0.6812279224395752 | acc:65.875 | Test Loss:0.6792690753936768 | Test Acc:69.0\n",
            "106 | Loss:0.6810274720191956 | acc:65.75 | Test Loss:0.6790460348129272 | Test Acc:69.5\n",
            "107 | Loss:0.6808237433433533 | acc:65.75 | Test Loss:0.6788185238838196 | Test Acc:70.0\n",
            "108 | Loss:0.6806188821792603 | acc:66.0 | Test Loss:0.678591787815094 | Test Acc:70.5\n",
            "109 | Loss:0.6804084181785583 | acc:66.375 | Test Loss:0.6783618330955505 | Test Acc:71.0\n",
            "110 | Loss:0.6801947951316833 | acc:66.625 | Test Loss:0.6781273484230042 | Test Acc:71.0\n",
            "111 | Loss:0.6799803376197815 | acc:66.75 | Test Loss:0.6778900623321533 | Test Acc:71.0\n",
            "112 | Loss:0.6797635555267334 | acc:67.75 | Test Loss:0.6776551604270935 | Test Acc:72.0\n",
            "113 | Loss:0.6795428395271301 | acc:67.75 | Test Loss:0.6774153709411621 | Test Acc:72.0\n",
            "114 | Loss:0.679320752620697 | acc:67.75 | Test Loss:0.6771696209907532 | Test Acc:73.5\n",
            "115 | Loss:0.6790997385978699 | acc:68.125 | Test Loss:0.6769194602966309 | Test Acc:73.0\n",
            "116 | Loss:0.6788786053657532 | acc:68.5 | Test Loss:0.6766687631607056 | Test Acc:72.5\n",
            "117 | Loss:0.6786562204360962 | acc:68.375 | Test Loss:0.6764140129089355 | Test Acc:72.0\n",
            "118 | Loss:0.6784312725067139 | acc:69.0 | Test Loss:0.6761550307273865 | Test Acc:72.0\n",
            "119 | Loss:0.6782025694847107 | acc:69.125 | Test Loss:0.675895094871521 | Test Acc:72.0\n",
            "120 | Loss:0.6779716610908508 | acc:69.5 | Test Loss:0.6756343245506287 | Test Acc:72.5\n",
            "121 | Loss:0.6777386665344238 | acc:69.375 | Test Loss:0.6753709316253662 | Test Acc:72.5\n",
            "122 | Loss:0.6775033473968506 | acc:69.5 | Test Loss:0.6751027703285217 | Test Acc:72.5\n",
            "123 | Loss:0.6772658824920654 | acc:69.625 | Test Loss:0.6748305559158325 | Test Acc:72.0\n",
            "124 | Loss:0.6770262122154236 | acc:69.75 | Test Loss:0.6745555996894836 | Test Acc:72.0\n",
            "125 | Loss:0.6767817139625549 | acc:69.875 | Test Loss:0.6742758750915527 | Test Acc:72.0\n",
            "126 | Loss:0.6765328049659729 | acc:70.125 | Test Loss:0.6739944219589233 | Test Acc:72.0\n",
            "127 | Loss:0.676282525062561 | acc:70.25 | Test Loss:0.6737106442451477 | Test Acc:72.0\n",
            "128 | Loss:0.6760293841362 | acc:70.375 | Test Loss:0.6734235286712646 | Test Acc:72.5\n",
            "129 | Loss:0.6757736206054688 | acc:70.25 | Test Loss:0.6731326580047607 | Test Acc:72.5\n",
            "130 | Loss:0.6755160689353943 | acc:70.5 | Test Loss:0.6728389263153076 | Test Acc:72.5\n",
            "131 | Loss:0.6752543449401855 | acc:70.375 | Test Loss:0.6725442409515381 | Test Acc:72.5\n",
            "132 | Loss:0.6749894618988037 | acc:70.625 | Test Loss:0.6722472906112671 | Test Acc:73.0\n",
            "133 | Loss:0.6747223138809204 | acc:70.75 | Test Loss:0.6719474792480469 | Test Acc:73.5\n",
            "134 | Loss:0.6744535565376282 | acc:70.875 | Test Loss:0.6716419458389282 | Test Acc:73.5\n",
            "135 | Loss:0.6741799116134644 | acc:71.0 | Test Loss:0.6713362336158752 | Test Acc:73.5\n",
            "136 | Loss:0.6739022731781006 | acc:71.125 | Test Loss:0.6710281372070312 | Test Acc:73.5\n",
            "137 | Loss:0.6736210584640503 | acc:71.375 | Test Loss:0.6707139015197754 | Test Acc:73.5\n",
            "138 | Loss:0.6733354330062866 | acc:71.25 | Test Loss:0.6703934669494629 | Test Acc:74.0\n",
            "139 | Loss:0.6730464696884155 | acc:71.25 | Test Loss:0.6700756549835205 | Test Acc:74.5\n",
            "140 | Loss:0.6727506518363953 | acc:71.625 | Test Loss:0.6697564125061035 | Test Acc:75.0\n",
            "141 | Loss:0.6724495887756348 | acc:71.625 | Test Loss:0.6694324612617493 | Test Acc:76.0\n",
            "142 | Loss:0.6721488833427429 | acc:71.625 | Test Loss:0.6690976023674011 | Test Acc:76.0\n",
            "143 | Loss:0.6718479990959167 | acc:71.75 | Test Loss:0.6687621474266052 | Test Acc:76.5\n",
            "144 | Loss:0.6715429425239563 | acc:71.875 | Test Loss:0.6684238910675049 | Test Acc:77.0\n",
            "145 | Loss:0.6712346076965332 | acc:72.0 | Test Loss:0.6680854558944702 | Test Acc:77.5\n",
            "146 | Loss:0.6709232926368713 | acc:72.25 | Test Loss:0.6677404642105103 | Test Acc:77.5\n",
            "147 | Loss:0.670611560344696 | acc:72.5 | Test Loss:0.6673908233642578 | Test Acc:78.0\n",
            "148 | Loss:0.6702966094017029 | acc:72.75 | Test Loss:0.6670395135879517 | Test Acc:79.0\n",
            "149 | Loss:0.6699793338775635 | acc:73.0 | Test Loss:0.6666823029518127 | Test Acc:79.0\n",
            "150 | Loss:0.6696575284004211 | acc:73.625 | Test Loss:0.666323721408844 | Test Acc:79.5\n",
            "151 | Loss:0.6693289875984192 | acc:74.0 | Test Loss:0.6659591794013977 | Test Acc:80.5\n",
            "152 | Loss:0.6689998507499695 | acc:74.25 | Test Loss:0.6655965447425842 | Test Acc:80.5\n",
            "153 | Loss:0.6686666011810303 | acc:75.0 | Test Loss:0.6652271747589111 | Test Acc:81.0\n",
            "154 | Loss:0.6683311462402344 | acc:75.0 | Test Loss:0.6648587584495544 | Test Acc:81.0\n",
            "155 | Loss:0.6679896712303162 | acc:75.375 | Test Loss:0.6644870042800903 | Test Acc:81.0\n",
            "156 | Loss:0.6676450967788696 | acc:76.125 | Test Loss:0.6641077399253845 | Test Acc:81.5\n",
            "157 | Loss:0.667296290397644 | acc:76.25 | Test Loss:0.6637341380119324 | Test Acc:82.0\n",
            "158 | Loss:0.6669390797615051 | acc:76.125 | Test Loss:0.6633581519126892 | Test Acc:82.0\n",
            "159 | Loss:0.6665799021720886 | acc:77.0 | Test Loss:0.662973165512085 | Test Acc:82.5\n",
            "160 | Loss:0.6662198901176453 | acc:77.5 | Test Loss:0.6625851392745972 | Test Acc:83.0\n",
            "161 | Loss:0.665856122970581 | acc:78.0 | Test Loss:0.6621931195259094 | Test Acc:83.0\n",
            "162 | Loss:0.6654884815216064 | acc:78.125 | Test Loss:0.6617969274520874 | Test Acc:84.0\n",
            "163 | Loss:0.6651201844215393 | acc:78.75 | Test Loss:0.6613966226577759 | Test Acc:84.0\n",
            "164 | Loss:0.6647472977638245 | acc:79.0 | Test Loss:0.6610007286071777 | Test Acc:84.5\n",
            "165 | Loss:0.6643701791763306 | acc:79.5 | Test Loss:0.660606324672699 | Test Acc:85.0\n",
            "166 | Loss:0.6639872789382935 | acc:80.125 | Test Loss:0.6602142453193665 | Test Acc:85.5\n",
            "167 | Loss:0.6635962128639221 | acc:80.375 | Test Loss:0.6598238945007324 | Test Acc:86.0\n",
            "168 | Loss:0.6631946563720703 | acc:80.5 | Test Loss:0.6594247221946716 | Test Acc:86.0\n",
            "169 | Loss:0.6627923846244812 | acc:81.0 | Test Loss:0.6590263247489929 | Test Acc:87.5\n",
            "170 | Loss:0.6623808145523071 | acc:81.25 | Test Loss:0.6586247086524963 | Test Acc:88.0\n",
            "171 | Loss:0.6619622707366943 | acc:81.75 | Test Loss:0.6582191586494446 | Test Acc:89.0\n",
            "172 | Loss:0.6615380048751831 | acc:82.125 | Test Loss:0.6578080654144287 | Test Acc:89.0\n",
            "173 | Loss:0.6611086130142212 | acc:82.875 | Test Loss:0.6574037075042725 | Test Acc:88.5\n",
            "174 | Loss:0.6606712937355042 | acc:83.25 | Test Loss:0.6569970846176147 | Test Acc:88.5\n",
            "175 | Loss:0.660224437713623 | acc:83.25 | Test Loss:0.6565871238708496 | Test Acc:89.0\n",
            "176 | Loss:0.6597713232040405 | acc:83.75 | Test Loss:0.6561745405197144 | Test Acc:89.5\n",
            "177 | Loss:0.6593162417411804 | acc:84.0 | Test Loss:0.6557507514953613 | Test Acc:89.5\n",
            "178 | Loss:0.6588601469993591 | acc:84.625 | Test Loss:0.6553249955177307 | Test Acc:90.5\n",
            "179 | Loss:0.6583993434906006 | acc:85.125 | Test Loss:0.6548923254013062 | Test Acc:90.5\n",
            "180 | Loss:0.6579338312149048 | acc:85.5 | Test Loss:0.6544508337974548 | Test Acc:90.5\n",
            "181 | Loss:0.6574668288230896 | acc:85.75 | Test Loss:0.6539996862411499 | Test Acc:90.5\n",
            "182 | Loss:0.6569984555244446 | acc:85.875 | Test Loss:0.6535412669181824 | Test Acc:91.5\n",
            "183 | Loss:0.6565268635749817 | acc:86.25 | Test Loss:0.6530797481536865 | Test Acc:91.5\n",
            "184 | Loss:0.6560497879981995 | acc:86.5 | Test Loss:0.652618408203125 | Test Acc:91.5\n",
            "185 | Loss:0.655564546585083 | acc:87.25 | Test Loss:0.6521589159965515 | Test Acc:92.0\n",
            "186 | Loss:0.6550725698471069 | acc:87.875 | Test Loss:0.651699960231781 | Test Acc:92.0\n",
            "187 | Loss:0.6545723080635071 | acc:88.375 | Test Loss:0.6512421369552612 | Test Acc:92.0\n",
            "188 | Loss:0.6540605425834656 | acc:88.75 | Test Loss:0.650783896446228 | Test Acc:92.5\n",
            "189 | Loss:0.6535417437553406 | acc:89.25 | Test Loss:0.6502959728240967 | Test Acc:92.5\n",
            "190 | Loss:0.6530247330665588 | acc:89.875 | Test Loss:0.649802565574646 | Test Acc:92.5\n",
            "191 | Loss:0.6525089740753174 | acc:90.375 | Test Loss:0.6493070721626282 | Test Acc:92.5\n",
            "192 | Loss:0.651991605758667 | acc:90.625 | Test Loss:0.6488080620765686 | Test Acc:92.5\n",
            "193 | Loss:0.6514672636985779 | acc:91.5 | Test Loss:0.6482995748519897 | Test Acc:92.5\n",
            "194 | Loss:0.6509391665458679 | acc:91.625 | Test Loss:0.6477724313735962 | Test Acc:92.5\n",
            "195 | Loss:0.6504151821136475 | acc:91.875 | Test Loss:0.6472445130348206 | Test Acc:92.5\n",
            "196 | Loss:0.6498944759368896 | acc:91.75 | Test Loss:0.64670729637146 | Test Acc:93.0\n",
            "197 | Loss:0.6493737697601318 | acc:91.625 | Test Loss:0.6461598873138428 | Test Acc:93.0\n",
            "198 | Loss:0.6488516926765442 | acc:91.75 | Test Loss:0.645622968673706 | Test Acc:93.0\n",
            "199 | Loss:0.6483265161514282 | acc:91.75 | Test Loss:0.645077109336853 | Test Acc:93.0\n"
          ]
        }
      ]
    },
    {
      "cell_type": "markdown",
      "source": [
        "##之前都是二分类->多分类\n",
        "\n",
        "分类ABC任务\n",
        "假设 A 40% B30% c30%\n",
        "A |BC\n",
        "创建一个新的数据集"
      ],
      "metadata": {
        "id": "68_iqo9tevM2"
      }
    },
    {
      "cell_type": "code",
      "source": [
        "import torch\n",
        "import matplotlib.pyplot as plt\n",
        "\n",
        "from sklearn.datasets import make_blobs\n",
        "from sklearn.model_selection import train_test_split\n",
        "X_blob,y_blob = make_blobs(n_samples=1000,\n",
        "                n_features = 2,\n",
        "                centers = 4,\n",
        "                cluster_std = 1.5,\n",
        "                random_state=666)  #类似与noise\n"
      ],
      "metadata": {
        "id": "HEAp9ZFOe2kn"
      },
      "execution_count": 88,
      "outputs": []
    },
    {
      "cell_type": "code",
      "source": [
        "X_blob,type(X_blob)"
      ],
      "metadata": {
        "colab": {
          "base_uri": "https://localhost:8080/"
        },
        "id": "W8fjKCnZhOO2",
        "outputId": "940b967e-b7d4-4d7c-a526-c5139202e1a8"
      },
      "execution_count": 89,
      "outputs": [
        {
          "output_type": "execute_result",
          "data": {
            "text/plain": [
              "(array([[ 7.96736491, -8.02583739],\n",
              "        [ 0.66018071, -8.05817757],\n",
              "        [-3.37399407, -9.92186768],\n",
              "        ...,\n",
              "        [ 8.99526041, -8.6239454 ],\n",
              "        [ 8.14596553, -9.15587334],\n",
              "        [ 2.41258313,  4.00305874]]),\n",
              " numpy.ndarray)"
            ]
          },
          "metadata": {},
          "execution_count": 89
        }
      ]
    },
    {
      "cell_type": "markdown",
      "source": [
        "1.确认需求\n",
        "2.Google一下\n",
        "3.按例子模仿\n",
        "4.根据需求调整模型（函数）参数"
      ],
      "metadata": {
        "id": "FgjMS8sDhxDJ"
      }
    },
    {
      "cell_type": "code",
      "source": [
        "X_blob = torch.from_numpy(X_blob).type(torch.float)\n",
        "y_blob = torch.from_numpy(y_blob).type(torch.LongTensor)\n",
        "X_blob,y_blob"
      ],
      "metadata": {
        "id": "SbKj1XYXiAmn",
        "colab": {
          "base_uri": "https://localhost:8080/"
        },
        "outputId": "3d4d5cd0-24b9-4bd5-871f-95721f877593"
      },
      "execution_count": 90,
      "outputs": [
        {
          "output_type": "execute_result",
          "data": {
            "text/plain": [
              "(tensor([[ 7.9674, -8.0258],\n",
              "         [ 0.6602, -8.0582],\n",
              "         [-3.3740, -9.9219],\n",
              "         ...,\n",
              "         [ 8.9953, -8.6239],\n",
              "         [ 8.1460, -9.1559],\n",
              "         [ 2.4126,  4.0031]]),\n",
              " tensor([2, 3, 3, 3, 2, 1, 0, 3, 1, 2, 2, 1, 2, 1, 2, 2, 2, 3, 3, 2, 2, 2, 0, 2,\n",
              "         3, 3, 2, 1, 1, 1, 3, 3, 1, 1, 2, 0, 0, 3, 1, 3, 0, 3, 0, 1, 1, 3, 3, 2,\n",
              "         2, 3, 1, 0, 2, 1, 3, 0, 3, 2, 2, 2, 1, 2, 0, 0, 2, 1, 3, 1, 1, 2, 2, 1,\n",
              "         3, 3, 1, 2, 3, 0, 3, 3, 3, 3, 3, 0, 1, 2, 0, 0, 0, 1, 0, 2, 0, 3, 3, 1,\n",
              "         3, 1, 3, 3, 2, 3, 0, 0, 3, 1, 1, 1, 0, 1, 2, 3, 3, 0, 0, 2, 0, 2, 0, 2,\n",
              "         0, 2, 0, 0, 0, 0, 3, 3, 3, 1, 2, 1, 3, 3, 1, 2, 3, 3, 3, 3, 3, 1, 3, 3,\n",
              "         1, 1, 1, 0, 1, 2, 1, 1, 1, 1, 2, 2, 0, 1, 3, 1, 3, 1, 2, 0, 0, 2, 1, 2,\n",
              "         2, 0, 1, 1, 0, 1, 1, 3, 3, 1, 0, 2, 3, 2, 3, 0, 3, 0, 3, 0, 1, 3, 3, 1,\n",
              "         2, 1, 2, 2, 3, 1, 0, 1, 1, 3, 3, 0, 2, 0, 3, 0, 0, 1, 0, 1, 0, 0, 3, 0,\n",
              "         0, 2, 2, 0, 1, 3, 1, 0, 2, 2, 2, 1, 3, 1, 3, 2, 0, 2, 2, 1, 2, 2, 0, 2,\n",
              "         2, 3, 3, 1, 3, 3, 0, 1, 1, 1, 3, 2, 2, 0, 1, 2, 0, 3, 1, 1, 3, 3, 1, 1,\n",
              "         2, 0, 1, 2, 3, 3, 1, 2, 1, 1, 0, 0, 1, 1, 3, 3, 3, 1, 0, 0, 1, 0, 1, 3,\n",
              "         3, 0, 3, 2, 0, 1, 0, 0, 0, 0, 2, 2, 2, 0, 2, 0, 0, 0, 2, 0, 3, 0, 1, 0,\n",
              "         2, 0, 0, 2, 0, 3, 0, 2, 0, 3, 3, 1, 3, 3, 2, 1, 2, 1, 3, 2, 3, 3, 0, 3,\n",
              "         2, 0, 1, 3, 1, 0, 2, 0, 0, 2, 2, 2, 2, 1, 1, 3, 2, 3, 0, 3, 3, 1, 2, 3,\n",
              "         2, 0, 0, 0, 3, 3, 0, 2, 0, 2, 1, 3, 2, 0, 2, 1, 1, 3, 3, 0, 2, 3, 1, 3,\n",
              "         2, 1, 1, 3, 3, 3, 3, 1, 1, 0, 1, 0, 2, 2, 1, 3, 1, 0, 1, 1, 3, 0, 2, 1,\n",
              "         3, 3, 1, 1, 3, 0, 3, 3, 1, 1, 2, 0, 1, 2, 0, 0, 3, 1, 0, 2, 3, 0, 0, 1,\n",
              "         0, 3, 0, 3, 0, 3, 0, 1, 2, 2, 1, 1, 3, 1, 0, 1, 2, 0, 2, 1, 2, 3, 1, 1,\n",
              "         2, 2, 1, 3, 3, 2, 0, 1, 0, 2, 0, 2, 3, 1, 2, 3, 0, 1, 2, 2, 1, 3, 3, 2,\n",
              "         0, 3, 3, 2, 0, 2, 0, 3, 2, 0, 0, 1, 1, 0, 0, 0, 1, 1, 1, 2, 2, 3, 0, 1,\n",
              "         1, 0, 0, 2, 3, 3, 1, 1, 1, 2, 1, 2, 1, 0, 0, 3, 2, 0, 3, 2, 0, 2, 2, 3,\n",
              "         1, 0, 2, 1, 2, 0, 3, 1, 2, 1, 2, 1, 0, 2, 1, 2, 3, 3, 0, 2, 1, 2, 0, 1,\n",
              "         2, 0, 2, 3, 0, 0, 0, 2, 3, 2, 1, 3, 2, 1, 3, 3, 2, 1, 2, 0, 3, 0, 3, 3,\n",
              "         3, 3, 3, 2, 2, 2, 2, 0, 3, 0, 2, 1, 0, 1, 0, 3, 1, 1, 2, 3, 3, 2, 0, 0,\n",
              "         0, 2, 1, 2, 0, 2, 3, 0, 3, 1, 2, 2, 1, 2, 3, 2, 0, 2, 1, 3, 2, 0, 3, 3,\n",
              "         3, 0, 2, 2, 0, 3, 0, 0, 1, 0, 1, 2, 3, 1, 1, 1, 0, 2, 3, 0, 1, 0, 3, 0,\n",
              "         0, 2, 0, 3, 0, 1, 2, 3, 1, 0, 3, 3, 3, 0, 0, 1, 1, 0, 1, 2, 0, 0, 3, 1,\n",
              "         0, 2, 2, 0, 2, 3, 0, 1, 3, 3, 3, 3, 3, 0, 0, 2, 2, 0, 1, 2, 1, 1, 0, 2,\n",
              "         2, 2, 3, 2, 2, 3, 3, 1, 3, 2, 3, 0, 3, 1, 0, 2, 0, 1, 1, 2, 2, 1, 0, 1,\n",
              "         0, 1, 2, 1, 1, 3, 1, 3, 2, 1, 1, 0, 1, 2, 1, 0, 0, 3, 2, 3, 0, 1, 2, 0,\n",
              "         1, 2, 0, 3, 1, 3, 1, 3, 3, 0, 1, 3, 2, 3, 3, 0, 0, 0, 0, 2, 3, 1, 3, 1,\n",
              "         0, 3, 1, 0, 3, 2, 2, 0, 3, 0, 0, 0, 2, 3, 0, 1, 0, 0, 0, 2, 0, 2, 1, 0,\n",
              "         3, 2, 2, 3, 3, 1, 1, 2, 2, 3, 0, 0, 0, 1, 0, 1, 1, 0, 0, 0, 0, 1, 1, 1,\n",
              "         2, 1, 2, 0, 3, 3, 3, 2, 1, 1, 1, 2, 1, 2, 1, 2, 3, 0, 1, 1, 1, 1, 3, 0,\n",
              "         0, 3, 1, 2, 3, 0, 0, 2, 3, 1, 1, 0, 0, 0, 1, 2, 2, 2, 2, 3, 1, 2, 3, 2,\n",
              "         3, 1, 1, 0, 2, 1, 2, 1, 0, 2, 3, 3, 3, 0, 0, 2, 1, 2, 2, 2, 2, 3, 2, 1,\n",
              "         2, 2, 2, 3, 0, 3, 0, 0, 1, 0, 3, 0, 2, 0, 3, 3, 2, 1, 3, 1, 0, 3, 0, 2,\n",
              "         2, 1, 3, 0, 2, 0, 3, 0, 2, 2, 2, 1, 2, 1, 2, 3, 1, 3, 0, 1, 3, 1, 3, 3,\n",
              "         2, 0, 1, 1, 0, 2, 3, 0, 1, 2, 0, 0, 3, 0, 3, 2, 3, 2, 3, 3, 0, 0, 1, 0,\n",
              "         2, 1, 1, 1, 2, 1, 3, 2, 2, 0, 3, 1, 3, 3, 3, 2, 2, 1, 0, 3, 3, 0, 1, 3,\n",
              "         2, 0, 3, 1, 1, 2, 2, 2, 1, 1, 2, 1, 2, 2, 2, 1]))"
            ]
          },
          "metadata": {},
          "execution_count": 90
        }
      ]
    },
    {
      "cell_type": "code",
      "source": [
        "X_blob_train,X_blob_test,y_blob_train,y_blob_test = train_test_split(X_blob,y_blob,test_size = 0.2,random_state = 888)"
      ],
      "metadata": {
        "id": "CQ4wibWG9hjs"
      },
      "execution_count": 91,
      "outputs": []
    },
    {
      "cell_type": "code",
      "source": [
        "plt.figure(figsize =(10,7))"
      ],
      "metadata": {
        "colab": {
          "base_uri": "https://localhost:8080/",
          "height": 52
        },
        "id": "8aO4wkrT9x5O",
        "outputId": "ba1759c0-3094-415a-d94c-30f0d2c29608"
      },
      "execution_count": 92,
      "outputs": [
        {
          "output_type": "execute_result",
          "data": {
            "text/plain": [
              "<Figure size 1000x700 with 0 Axes>"
            ]
          },
          "metadata": {},
          "execution_count": 92
        },
        {
          "output_type": "display_data",
          "data": {
            "text/plain": [
              "<Figure size 1000x700 with 0 Axes>"
            ]
          },
          "metadata": {}
        }
      ]
    },
    {
      "cell_type": "code",
      "source": [
        "plt.scatter(X_blob[:,0],X_blob[:,1],c=y_blob,cmap = plt.cm.RdYlBu)"
      ],
      "metadata": {
        "colab": {
          "base_uri": "https://localhost:8080/",
          "height": 447
        },
        "id": "PxZINSP6-KMx",
        "outputId": "49c754ee-ac71-4287-faa5-d7246b7413b5"
      },
      "execution_count": 93,
      "outputs": [
        {
          "output_type": "execute_result",
          "data": {
            "text/plain": [
              "<matplotlib.collections.PathCollection at 0x7d432d266b00>"
            ]
          },
          "metadata": {},
          "execution_count": 93
        },
        {
          "output_type": "display_data",
          "data": {
            "text/plain": [
              "<Figure size 640x480 with 1 Axes>"
            ],
            "image/png": "[encoded data removed]"
          },
          "metadata": {}
        }
      ]
    },
    {
      "cell_type": "code",
      "source": [
        "device = \"cuda\" if torch.cuda.is_available() else \"cpu\"\n",
        "device"
      ],
      "metadata": {
        "colab": {
          "base_uri": "https://localhost:8080/",
          "height": 35
        },
        "id": "z4NIiVfz-xsX",
        "outputId": "61fc2164-67d0-4312-f0e9-1ed976b5ef9e"
      },
      "execution_count": 94,
      "outputs": [
        {
          "output_type": "execute_result",
          "data": {
            "text/plain": [
              "'cpu'"
            ],
            "application/vnd.google.colaboratory.intrinsic+json": {
              "type": "string"
            }
          },
          "metadata": {},
          "execution_count": 94
        }
      ]
    },
    {
      "cell_type": "code",
      "source": [
        "from torch import nn\n"
      ],
      "metadata": {
        "id": "UY_7vsin--f5"
      },
      "execution_count": 95,
      "outputs": []
    },
    {
      "cell_type": "code",
      "source": [
        "class BlobModel(nn.Module):\n",
        "  def __init__(self,input_features,output_features,hidden_units = 8):\n",
        "    super().__init__()\n",
        "    self.linear_layer_stack = nn.Sequential(\n",
        "        nn.Linear(in_features = input_features,out_features = hidden_units),\n",
        "        nn.ReLU(),\n",
        "        nn.Linear(in_features = hidden_units,out_features = output_features)\n",
        "    )\n",
        "  def forward(self,x):\n",
        "    return self.linear_layer_stack(x)"
      ],
      "metadata": {
        "id": "yPclgHXT_B8O"
      },
      "execution_count": 96,
      "outputs": []
    },
    {
      "cell_type": "code",
      "source": [
        "model_multiclass = BlobModel(input_features = 2,output_features = 4).to(device)\n",
        "model_multiclass"
      ],
      "metadata": {
        "colab": {
          "base_uri": "https://localhost:8080/"
        },
        "id": "tzpLUI2aAIdr",
        "outputId": "4b9c6ef8-e4d1-426c-f3a7-00275008a7f2"
      },
      "execution_count": 97,
      "outputs": [
        {
          "output_type": "execute_result",
          "data": {
            "text/plain": [
              "BlobModel(\n",
              "  (linear_layer_stack): Sequential(\n",
              "    (0): Linear(in_features=2, out_features=8, bias=True)\n",
              "    (1): ReLU()\n",
              "    (2): Linear(in_features=8, out_features=4, bias=True)\n",
              "  )\n",
              ")"
            ]
          },
          "metadata": {},
          "execution_count": 97
        }
      ]
    },
    {
      "cell_type": "code",
      "source": [
        "model_multiclass(X_blob_train.to(device))"
      ],
      "metadata": {
        "colab": {
          "base_uri": "https://localhost:8080/"
        },
        "id": "DMDAhwe2A7p8",
        "outputId": "8d048984-9d60-4dca-b8c6-fe3a175f9547"
      },
      "execution_count": 98,
      "outputs": [
        {
          "output_type": "execute_result",
          "data": {
            "text/plain": [
              "tensor([[-1.2436, -0.8773,  0.0390, -0.8195],\n",
              "        [-1.8011, -1.2469,  0.1382, -1.2361],\n",
              "        [-3.0294,  0.6043, -3.7531, -0.8735],\n",
              "        ...,\n",
              "        [-2.3263, -1.9522,  0.1121, -1.7034],\n",
              "        [-5.5397,  0.1403, -4.7749, -1.8958],\n",
              "        [-2.2580, -1.8852,  0.1072, -1.6478]], grad_fn=<AddmmBackward0>)"
            ]
          },
          "metadata": {},
          "execution_count": 98
        }
      ]
    },
    {
      "cell_type": "code",
      "source": [
        "y_logits = model_multiclass(X_blob_test.to(device))\n",
        "# y_logits.shape\n",
        "y_pred_probs = torch.softmax(y_logits,dim=1)\n",
        "# XXXX\n",
        "# XXXX\n",
        "# XXXX\n",
        "# XXXX  竖的维度为0，横的维度是1，而要对横着的各个特征做分类\n",
        "y_logits.shape"
      ],
      "metadata": {
        "colab": {
          "base_uri": "https://localhost:8080/"
        },
        "id": "26tE7Qi8CtDD",
        "outputId": "af3e0b4e-72a0-4040-ace3-326ee333cd8e"
      },
      "execution_count": 99,
      "outputs": [
        {
          "output_type": "execute_result",
          "data": {
            "text/plain": [
              "torch.Size([200, 4])"
            ]
          },
          "metadata": {},
          "execution_count": 99
        }
      ]
    },
    {
      "cell_type": "code",
      "source": [
        "y_pred_probs = torch.softmax(y_logits,dim=1)"
      ],
      "metadata": {
        "id": "kCK9qLipEjfa"
      },
      "execution_count": 100,
      "outputs": []
    },
    {
      "cell_type": "code",
      "source": [
        "print(y_pred_probs)\n",
        "print(torch.argmax(y_pred_probs,dim = 1))"
      ],
      "metadata": {
        "id": "Kj1C132TEovj"
      },
      "execution_count": null,
      "outputs": []
    },
    {
      "cell_type": "code",
      "source": [
        "torch.manual_seed(6666)\n",
        "epochs=  500\n",
        "X_blob_train, y_blob_train, X_blob_test, y_blob_test = X_blob_train.to(device), y_blob_train.to(device), X_blob_test.to(device), y_blob_test.to(device)"
      ],
      "metadata": {
        "id": "E253bhSOEy2w"
      },
      "execution_count": 102,
      "outputs": []
    },
    {
      "cell_type": "code",
      "source": [
        "loss_fn = nn.CrossEntropyLoss() #适用于分类的损失,交叉熵损失\n",
        "optimizer = torch.optim.SGD(model_multiclass.parameters(),lr = 0.1)\n"
      ],
      "metadata": {
        "id": "SBdTXdvvFhs3"
      },
      "execution_count": 103,
      "outputs": []
    },
    {
      "cell_type": "code",
      "source": [
        "for epoch in range(epochs):\n",
        "\n",
        "\n",
        "  model_multiclass.train()\n",
        "  #1.forward\n",
        "  y_logits = model_multiclass(X_blob_train)\n",
        "  y_pred = torch.softmax(y_logits,dim=1).argmax(dim=1)\n",
        "\n",
        "  #2.loss and acc\n",
        "  #CrossEntropyLoss()输入不需要归一化，\n",
        "  loss= loss_fn(y_logits,y_blob_train)\n",
        "  acc = accuracy_fn(y_true = y_blob_train,y_pred = y_pred)\n",
        "\n",
        "  #3\n",
        "  optimizer.zero_grad()\n",
        "  #4\n",
        "  loss.backward()\n",
        "  #5\n",
        "  optimizer.step()\n",
        "  model_multiclass.eval()\n",
        "  with torch.inference_mode():\n",
        "    test_logits = model_multiclass(X_blob_test)\n",
        "    test_pred = torch.softmax(test_logits, dim = 1).argmax(dim = 1)\n",
        "    test_loss = loss_fn(test_logits, y_blob_test)\n",
        "    test_acc = accuracy_fn(y_true = y_blob_test, y_pred = test_pred)\n",
        "\n",
        "    print(f\"Epoch:{epoch}| Loss:{loss:.4f}, Acc:{acc:.2f}% | Test Loss:{test_loss:.4f}, Test acc:{test_acc:.2f}%\")\n"
      ],
      "metadata": {
        "colab": {
          "base_uri": "https://localhost:8080/"
        },
        "id": "t4QkvkbHE832",
        "outputId": "c5e8fff6-43f7-4e20-95bf-ddcdb2f05471"
      },
      "execution_count": 105,
      "outputs": [
        {
          "output_type": "stream",
          "name": "stdout",
          "text": [
            "Epoch:0| Loss:2.5615, Acc:0.00% | Test Loss:0.9787, Test acc:33.50%\n",
            "Epoch:1| Loss:1.0220, Acc:31.00% | Test Loss:0.6640, Test acc:73.50%\n",
            "Epoch:2| Loss:0.7161, Acc:67.88% | Test Loss:0.5723, Test acc:77.00%\n",
            "Epoch:3| Loss:0.6120, Acc:74.75% | Test Loss:0.5159, Test acc:78.00%\n",
            "Epoch:4| Loss:0.5522, Acc:74.75% | Test Loss:0.4774, Test acc:78.00%\n",
            "Epoch:5| Loss:0.5114, Acc:75.00% | Test Loss:0.4493, Test acc:78.00%\n",
            "Epoch:6| Loss:0.4820, Acc:75.25% | Test Loss:0.4279, Test acc:78.00%\n",
            "Epoch:7| Loss:0.4598, Acc:75.38% | Test Loss:0.4112, Test acc:78.00%\n",
            "Epoch:8| Loss:0.4426, Acc:75.50% | Test Loss:0.3978, Test acc:79.00%\n",
            "Epoch:9| Loss:0.4291, Acc:75.75% | Test Loss:0.3869, Test acc:79.00%\n",
            "Epoch:10| Loss:0.4181, Acc:76.12% | Test Loss:0.3778, Test acc:79.50%\n",
            "Epoch:11| Loss:0.4090, Acc:76.88% | Test Loss:0.3701, Test acc:80.50%\n",
            "Epoch:12| Loss:0.4015, Acc:77.50% | Test Loss:0.3636, Test acc:80.50%\n",
            "Epoch:13| Loss:0.3951, Acc:77.75% | Test Loss:0.3579, Test acc:80.50%\n",
            "Epoch:14| Loss:0.3896, Acc:78.00% | Test Loss:0.3530, Test acc:80.50%\n",
            "Epoch:15| Loss:0.3849, Acc:78.38% | Test Loss:0.3486, Test acc:80.50%\n",
            "Epoch:16| Loss:0.3807, Acc:78.75% | Test Loss:0.3447, Test acc:80.50%\n",
            "Epoch:17| Loss:0.3771, Acc:78.88% | Test Loss:0.3412, Test acc:80.50%\n",
            "Epoch:18| Loss:0.3738, Acc:79.12% | Test Loss:0.3380, Test acc:82.00%\n",
            "Epoch:19| Loss:0.3709, Acc:79.38% | Test Loss:0.3351, Test acc:83.00%\n",
            "Epoch:20| Loss:0.3682, Acc:79.62% | Test Loss:0.3325, Test acc:83.00%\n",
            "Epoch:21| Loss:0.3658, Acc:79.62% | Test Loss:0.3301, Test acc:84.00%\n",
            "Epoch:22| Loss:0.3636, Acc:80.12% | Test Loss:0.3278, Test acc:84.00%\n",
            "Epoch:23| Loss:0.3616, Acc:80.25% | Test Loss:0.3258, Test acc:84.00%\n",
            "Epoch:24| Loss:0.3598, Acc:80.25% | Test Loss:0.3238, Test acc:84.00%\n",
            "Epoch:25| Loss:0.3581, Acc:80.25% | Test Loss:0.3220, Test acc:84.50%\n",
            "Epoch:26| Loss:0.3565, Acc:80.25% | Test Loss:0.3203, Test acc:84.50%\n",
            "Epoch:27| Loss:0.3550, Acc:80.50% | Test Loss:0.3187, Test acc:85.00%\n",
            "Epoch:28| Loss:0.3536, Acc:80.38% | Test Loss:0.3172, Test acc:85.00%\n",
            "Epoch:29| Loss:0.3523, Acc:80.62% | Test Loss:0.3158, Test acc:85.00%\n",
            "Epoch:30| Loss:0.3511, Acc:80.38% | Test Loss:0.3145, Test acc:85.00%\n",
            "Epoch:31| Loss:0.3500, Acc:80.25% | Test Loss:0.3132, Test acc:85.00%\n",
            "Epoch:32| Loss:0.3489, Acc:80.50% | Test Loss:0.3120, Test acc:85.00%\n",
            "Epoch:33| Loss:0.3479, Acc:80.38% | Test Loss:0.3108, Test acc:85.00%\n",
            "Epoch:34| Loss:0.3469, Acc:80.38% | Test Loss:0.3097, Test acc:85.00%\n",
            "Epoch:35| Loss:0.3460, Acc:80.50% | Test Loss:0.3086, Test acc:85.00%\n",
            "Epoch:36| Loss:0.3451, Acc:80.50% | Test Loss:0.3076, Test acc:85.50%\n",
            "Epoch:37| Loss:0.3443, Acc:80.50% | Test Loss:0.3067, Test acc:85.50%\n",
            "Epoch:38| Loss:0.3435, Acc:80.50% | Test Loss:0.3057, Test acc:85.50%\n",
            "Epoch:39| Loss:0.3427, Acc:80.62% | Test Loss:0.3048, Test acc:85.50%\n",
            "Epoch:40| Loss:0.3420, Acc:80.88% | Test Loss:0.3040, Test acc:86.00%\n",
            "Epoch:41| Loss:0.3412, Acc:80.88% | Test Loss:0.3031, Test acc:86.00%\n",
            "Epoch:42| Loss:0.3406, Acc:80.88% | Test Loss:0.3023, Test acc:86.00%\n",
            "Epoch:43| Loss:0.3399, Acc:80.75% | Test Loss:0.3015, Test acc:86.00%\n",
            "Epoch:44| Loss:0.3393, Acc:80.75% | Test Loss:0.3008, Test acc:86.50%\n",
            "Epoch:45| Loss:0.3387, Acc:80.75% | Test Loss:0.3001, Test acc:86.50%\n",
            "Epoch:46| Loss:0.3381, Acc:80.75% | Test Loss:0.2994, Test acc:86.50%\n",
            "Epoch:47| Loss:0.3375, Acc:80.88% | Test Loss:0.2987, Test acc:86.50%\n",
            "Epoch:48| Loss:0.3370, Acc:81.12% | Test Loss:0.2980, Test acc:86.50%\n",
            "Epoch:49| Loss:0.3364, Acc:81.12% | Test Loss:0.2974, Test acc:86.50%\n",
            "Epoch:50| Loss:0.3359, Acc:81.25% | Test Loss:0.2967, Test acc:86.50%\n",
            "Epoch:51| Loss:0.3354, Acc:81.25% | Test Loss:0.2961, Test acc:86.50%\n",
            "Epoch:52| Loss:0.3349, Acc:81.38% | Test Loss:0.2955, Test acc:86.50%\n",
            "Epoch:53| Loss:0.3345, Acc:81.62% | Test Loss:0.2950, Test acc:86.50%\n",
            "Epoch:54| Loss:0.3340, Acc:81.75% | Test Loss:0.2944, Test acc:86.50%\n",
            "Epoch:55| Loss:0.3335, Acc:81.62% | Test Loss:0.2939, Test acc:87.00%\n",
            "Epoch:56| Loss:0.3331, Acc:81.50% | Test Loss:0.2933, Test acc:87.00%\n",
            "Epoch:57| Loss:0.3327, Acc:81.50% | Test Loss:0.2928, Test acc:87.50%\n",
            "Epoch:58| Loss:0.3323, Acc:81.38% | Test Loss:0.2923, Test acc:87.50%\n",
            "Epoch:59| Loss:0.3319, Acc:81.38% | Test Loss:0.2918, Test acc:87.50%\n",
            "Epoch:60| Loss:0.3315, Acc:81.38% | Test Loss:0.2913, Test acc:87.50%\n",
            "Epoch:61| Loss:0.3311, Acc:81.38% | Test Loss:0.2908, Test acc:87.50%\n",
            "Epoch:62| Loss:0.3307, Acc:81.50% | Test Loss:0.2904, Test acc:87.50%\n",
            "Epoch:63| Loss:0.3303, Acc:81.62% | Test Loss:0.2899, Test acc:87.50%\n",
            "Epoch:64| Loss:0.3299, Acc:81.62% | Test Loss:0.2895, Test acc:87.50%\n",
            "Epoch:65| Loss:0.3296, Acc:81.62% | Test Loss:0.2890, Test acc:87.50%\n",
            "Epoch:66| Loss:0.3292, Acc:81.62% | Test Loss:0.2886, Test acc:87.50%\n",
            "Epoch:67| Loss:0.3289, Acc:81.62% | Test Loss:0.2882, Test acc:88.00%\n",
            "Epoch:68| Loss:0.3285, Acc:81.62% | Test Loss:0.2878, Test acc:88.00%\n",
            "Epoch:69| Loss:0.3282, Acc:81.75% | Test Loss:0.2874, Test acc:88.00%\n",
            "Epoch:70| Loss:0.3279, Acc:81.75% | Test Loss:0.2870, Test acc:88.00%\n",
            "Epoch:71| Loss:0.3275, Acc:81.75% | Test Loss:0.2866, Test acc:88.00%\n",
            "Epoch:72| Loss:0.3272, Acc:81.75% | Test Loss:0.2862, Test acc:88.00%\n",
            "Epoch:73| Loss:0.3269, Acc:81.75% | Test Loss:0.2858, Test acc:88.00%\n",
            "Epoch:74| Loss:0.3266, Acc:81.75% | Test Loss:0.2854, Test acc:88.00%\n",
            "Epoch:75| Loss:0.3263, Acc:81.88% | Test Loss:0.2851, Test acc:88.00%\n",
            "Epoch:76| Loss:0.3260, Acc:81.88% | Test Loss:0.2847, Test acc:88.00%\n",
            "Epoch:77| Loss:0.3257, Acc:81.88% | Test Loss:0.2844, Test acc:88.00%\n",
            "Epoch:78| Loss:0.3254, Acc:82.00% | Test Loss:0.2840, Test acc:88.50%\n",
            "Epoch:79| Loss:0.3251, Acc:82.00% | Test Loss:0.2837, Test acc:88.50%\n",
            "Epoch:80| Loss:0.3248, Acc:82.12% | Test Loss:0.2833, Test acc:88.50%\n",
            "Epoch:81| Loss:0.3246, Acc:82.12% | Test Loss:0.2830, Test acc:89.00%\n",
            "Epoch:82| Loss:0.3243, Acc:82.12% | Test Loss:0.2827, Test acc:89.00%\n",
            "Epoch:83| Loss:0.3240, Acc:82.12% | Test Loss:0.2823, Test acc:89.00%\n",
            "Epoch:84| Loss:0.3237, Acc:82.12% | Test Loss:0.2820, Test acc:89.00%\n",
            "Epoch:85| Loss:0.3235, Acc:82.25% | Test Loss:0.2817, Test acc:89.00%\n",
            "Epoch:86| Loss:0.3232, Acc:82.25% | Test Loss:0.2814, Test acc:89.00%\n",
            "Epoch:87| Loss:0.3229, Acc:82.50% | Test Loss:0.2811, Test acc:89.00%\n",
            "Epoch:88| Loss:0.3227, Acc:82.62% | Test Loss:0.2808, Test acc:89.00%\n",
            "Epoch:89| Loss:0.3224, Acc:82.62% | Test Loss:0.2805, Test acc:89.00%\n",
            "Epoch:90| Loss:0.3222, Acc:82.62% | Test Loss:0.2802, Test acc:89.50%\n",
            "Epoch:91| Loss:0.3219, Acc:82.62% | Test Loss:0.2799, Test acc:89.50%\n",
            "Epoch:92| Loss:0.3217, Acc:82.62% | Test Loss:0.2796, Test acc:89.50%\n",
            "Epoch:93| Loss:0.3214, Acc:82.62% | Test Loss:0.2793, Test acc:89.50%\n",
            "Epoch:94| Loss:0.3212, Acc:82.62% | Test Loss:0.2790, Test acc:89.50%\n",
            "Epoch:95| Loss:0.3209, Acc:82.62% | Test Loss:0.2788, Test acc:89.50%\n",
            "Epoch:96| Loss:0.3207, Acc:82.50% | Test Loss:0.2785, Test acc:90.00%\n",
            "Epoch:97| Loss:0.3205, Acc:82.50% | Test Loss:0.2782, Test acc:90.50%\n",
            "Epoch:98| Loss:0.3202, Acc:82.50% | Test Loss:0.2779, Test acc:90.50%\n",
            "Epoch:99| Loss:0.3200, Acc:82.62% | Test Loss:0.2777, Test acc:90.50%\n",
            "Epoch:100| Loss:0.3198, Acc:82.62% | Test Loss:0.2774, Test acc:90.50%\n",
            "Epoch:101| Loss:0.3195, Acc:82.62% | Test Loss:0.2771, Test acc:90.50%\n",
            "Epoch:102| Loss:0.3193, Acc:82.62% | Test Loss:0.2769, Test acc:90.50%\n",
            "Epoch:103| Loss:0.3191, Acc:82.75% | Test Loss:0.2766, Test acc:90.50%\n",
            "Epoch:104| Loss:0.3189, Acc:82.75% | Test Loss:0.2764, Test acc:90.50%\n",
            "Epoch:105| Loss:0.3187, Acc:82.75% | Test Loss:0.2761, Test acc:90.50%\n",
            "Epoch:106| Loss:0.3184, Acc:82.62% | Test Loss:0.2759, Test acc:90.50%\n",
            "Epoch:107| Loss:0.3182, Acc:82.62% | Test Loss:0.2756, Test acc:90.50%\n",
            "Epoch:108| Loss:0.3180, Acc:82.62% | Test Loss:0.2754, Test acc:90.50%\n",
            "Epoch:109| Loss:0.3178, Acc:82.75% | Test Loss:0.2751, Test acc:90.50%\n",
            "Epoch:110| Loss:0.3176, Acc:82.75% | Test Loss:0.2749, Test acc:90.50%\n",
            "Epoch:111| Loss:0.3174, Acc:82.75% | Test Loss:0.2747, Test acc:90.50%\n",
            "Epoch:112| Loss:0.3171, Acc:82.88% | Test Loss:0.2744, Test acc:90.50%\n",
            "Epoch:113| Loss:0.3169, Acc:82.88% | Test Loss:0.2742, Test acc:90.50%\n",
            "Epoch:114| Loss:0.3167, Acc:82.88% | Test Loss:0.2740, Test acc:90.50%\n",
            "Epoch:115| Loss:0.3165, Acc:82.75% | Test Loss:0.2737, Test acc:90.50%\n",
            "Epoch:116| Loss:0.3163, Acc:82.62% | Test Loss:0.2735, Test acc:90.50%\n",
            "Epoch:117| Loss:0.3161, Acc:82.62% | Test Loss:0.2733, Test acc:90.50%\n",
            "Epoch:118| Loss:0.3159, Acc:82.62% | Test Loss:0.2730, Test acc:90.50%\n",
            "Epoch:119| Loss:0.3157, Acc:82.62% | Test Loss:0.2728, Test acc:90.50%\n",
            "Epoch:120| Loss:0.3155, Acc:82.62% | Test Loss:0.2726, Test acc:90.50%\n",
            "Epoch:121| Loss:0.3153, Acc:82.62% | Test Loss:0.2724, Test acc:90.50%\n",
            "Epoch:122| Loss:0.3151, Acc:82.62% | Test Loss:0.2722, Test acc:91.00%\n",
            "Epoch:123| Loss:0.3149, Acc:82.62% | Test Loss:0.2719, Test acc:91.00%\n",
            "Epoch:124| Loss:0.3147, Acc:82.62% | Test Loss:0.2717, Test acc:91.50%\n",
            "Epoch:125| Loss:0.3145, Acc:82.88% | Test Loss:0.2715, Test acc:91.50%\n",
            "Epoch:126| Loss:0.3143, Acc:82.88% | Test Loss:0.2713, Test acc:91.50%\n",
            "Epoch:127| Loss:0.3142, Acc:82.88% | Test Loss:0.2711, Test acc:91.50%\n",
            "Epoch:128| Loss:0.3140, Acc:82.88% | Test Loss:0.2709, Test acc:91.50%\n",
            "Epoch:129| Loss:0.3138, Acc:82.75% | Test Loss:0.2707, Test acc:91.50%\n",
            "Epoch:130| Loss:0.3136, Acc:82.75% | Test Loss:0.2705, Test acc:91.50%\n",
            "Epoch:131| Loss:0.3134, Acc:82.75% | Test Loss:0.2703, Test acc:91.50%\n",
            "Epoch:132| Loss:0.3132, Acc:82.75% | Test Loss:0.2701, Test acc:91.50%\n",
            "Epoch:133| Loss:0.3130, Acc:82.75% | Test Loss:0.2699, Test acc:91.50%\n",
            "Epoch:134| Loss:0.3129, Acc:82.88% | Test Loss:0.2697, Test acc:91.50%\n",
            "Epoch:135| Loss:0.3127, Acc:83.00% | Test Loss:0.2695, Test acc:91.00%\n",
            "Epoch:136| Loss:0.3125, Acc:83.00% | Test Loss:0.2693, Test acc:91.00%\n",
            "Epoch:137| Loss:0.3123, Acc:83.00% | Test Loss:0.2691, Test acc:91.00%\n",
            "Epoch:138| Loss:0.3121, Acc:83.12% | Test Loss:0.2689, Test acc:91.00%\n",
            "Epoch:139| Loss:0.3119, Acc:83.12% | Test Loss:0.2687, Test acc:91.00%\n",
            "Epoch:140| Loss:0.3118, Acc:83.12% | Test Loss:0.2685, Test acc:91.00%\n",
            "Epoch:141| Loss:0.3116, Acc:83.12% | Test Loss:0.2683, Test acc:91.00%\n",
            "Epoch:142| Loss:0.3114, Acc:83.12% | Test Loss:0.2681, Test acc:91.00%\n",
            "Epoch:143| Loss:0.3112, Acc:83.12% | Test Loss:0.2679, Test acc:91.00%\n",
            "Epoch:144| Loss:0.3111, Acc:83.12% | Test Loss:0.2677, Test acc:91.00%\n",
            "Epoch:145| Loss:0.3109, Acc:83.12% | Test Loss:0.2675, Test acc:91.00%\n",
            "Epoch:146| Loss:0.3107, Acc:83.12% | Test Loss:0.2673, Test acc:91.00%\n",
            "Epoch:147| Loss:0.3106, Acc:83.12% | Test Loss:0.2672, Test acc:91.00%\n",
            "Epoch:148| Loss:0.3104, Acc:83.12% | Test Loss:0.2670, Test acc:91.00%\n",
            "Epoch:149| Loss:0.3102, Acc:83.12% | Test Loss:0.2668, Test acc:91.50%\n",
            "Epoch:150| Loss:0.3100, Acc:83.12% | Test Loss:0.2666, Test acc:91.50%\n",
            "Epoch:151| Loss:0.3099, Acc:83.25% | Test Loss:0.2664, Test acc:91.50%\n",
            "Epoch:152| Loss:0.3097, Acc:83.25% | Test Loss:0.2662, Test acc:91.50%\n",
            "Epoch:153| Loss:0.3095, Acc:83.25% | Test Loss:0.2661, Test acc:91.50%\n",
            "Epoch:154| Loss:0.3094, Acc:83.38% | Test Loss:0.2659, Test acc:91.50%\n",
            "Epoch:155| Loss:0.3092, Acc:83.38% | Test Loss:0.2657, Test acc:91.50%\n",
            "Epoch:156| Loss:0.3090, Acc:83.38% | Test Loss:0.2655, Test acc:91.50%\n",
            "Epoch:157| Loss:0.3089, Acc:83.38% | Test Loss:0.2653, Test acc:91.50%\n",
            "Epoch:158| Loss:0.3087, Acc:83.38% | Test Loss:0.2652, Test acc:91.50%\n",
            "Epoch:159| Loss:0.3086, Acc:83.38% | Test Loss:0.2650, Test acc:91.50%\n",
            "Epoch:160| Loss:0.3084, Acc:83.38% | Test Loss:0.2648, Test acc:92.00%\n",
            "Epoch:161| Loss:0.3082, Acc:83.38% | Test Loss:0.2646, Test acc:92.00%\n",
            "Epoch:162| Loss:0.3081, Acc:83.50% | Test Loss:0.2645, Test acc:92.00%\n",
            "Epoch:163| Loss:0.3079, Acc:83.50% | Test Loss:0.2643, Test acc:92.00%\n",
            "Epoch:164| Loss:0.3078, Acc:83.62% | Test Loss:0.2641, Test acc:92.00%\n",
            "Epoch:165| Loss:0.3076, Acc:83.62% | Test Loss:0.2640, Test acc:92.00%\n",
            "Epoch:166| Loss:0.3074, Acc:83.62% | Test Loss:0.2638, Test acc:92.00%\n",
            "Epoch:167| Loss:0.3073, Acc:83.62% | Test Loss:0.2636, Test acc:92.00%\n",
            "Epoch:168| Loss:0.3071, Acc:83.75% | Test Loss:0.2635, Test acc:92.00%\n",
            "Epoch:169| Loss:0.3070, Acc:83.75% | Test Loss:0.2633, Test acc:92.00%\n",
            "Epoch:170| Loss:0.3068, Acc:83.75% | Test Loss:0.2631, Test acc:92.00%\n",
            "Epoch:171| Loss:0.3067, Acc:83.75% | Test Loss:0.2630, Test acc:92.00%\n",
            "Epoch:172| Loss:0.3065, Acc:83.88% | Test Loss:0.2628, Test acc:92.00%\n",
            "Epoch:173| Loss:0.3064, Acc:83.88% | Test Loss:0.2626, Test acc:92.00%\n",
            "Epoch:174| Loss:0.3062, Acc:83.88% | Test Loss:0.2625, Test acc:92.00%\n",
            "Epoch:175| Loss:0.3060, Acc:83.88% | Test Loss:0.2623, Test acc:92.00%\n",
            "Epoch:176| Loss:0.3059, Acc:83.88% | Test Loss:0.2622, Test acc:92.00%\n",
            "Epoch:177| Loss:0.3057, Acc:83.88% | Test Loss:0.2620, Test acc:92.00%\n",
            "Epoch:178| Loss:0.3056, Acc:83.88% | Test Loss:0.2618, Test acc:92.00%\n",
            "Epoch:179| Loss:0.3054, Acc:83.88% | Test Loss:0.2617, Test acc:92.00%\n",
            "Epoch:180| Loss:0.3053, Acc:83.88% | Test Loss:0.2615, Test acc:92.00%\n",
            "Epoch:181| Loss:0.3051, Acc:83.88% | Test Loss:0.2614, Test acc:92.50%\n",
            "Epoch:182| Loss:0.3050, Acc:83.88% | Test Loss:0.2612, Test acc:92.50%\n",
            "Epoch:183| Loss:0.3049, Acc:83.88% | Test Loss:0.2610, Test acc:92.50%\n",
            "Epoch:184| Loss:0.3047, Acc:83.88% | Test Loss:0.2609, Test acc:92.50%\n",
            "Epoch:185| Loss:0.3046, Acc:84.00% | Test Loss:0.2607, Test acc:92.50%\n",
            "Epoch:186| Loss:0.3044, Acc:84.00% | Test Loss:0.2606, Test acc:92.50%\n",
            "Epoch:187| Loss:0.3043, Acc:84.00% | Test Loss:0.2604, Test acc:92.50%\n",
            "Epoch:188| Loss:0.3041, Acc:84.00% | Test Loss:0.2603, Test acc:92.50%\n",
            "Epoch:189| Loss:0.3040, Acc:84.00% | Test Loss:0.2601, Test acc:92.50%\n",
            "Epoch:190| Loss:0.3038, Acc:84.00% | Test Loss:0.2600, Test acc:92.50%\n",
            "Epoch:191| Loss:0.3037, Acc:84.00% | Test Loss:0.2598, Test acc:92.50%\n",
            "Epoch:192| Loss:0.3036, Acc:84.00% | Test Loss:0.2597, Test acc:92.50%\n",
            "Epoch:193| Loss:0.3034, Acc:84.00% | Test Loss:0.2595, Test acc:92.50%\n",
            "Epoch:194| Loss:0.3033, Acc:84.00% | Test Loss:0.2594, Test acc:92.50%\n",
            "Epoch:195| Loss:0.3031, Acc:84.12% | Test Loss:0.2592, Test acc:92.50%\n",
            "Epoch:196| Loss:0.3030, Acc:84.12% | Test Loss:0.2591, Test acc:92.50%\n",
            "Epoch:197| Loss:0.3028, Acc:84.12% | Test Loss:0.2589, Test acc:92.50%\n",
            "Epoch:198| Loss:0.3027, Acc:84.25% | Test Loss:0.2588, Test acc:92.50%\n",
            "Epoch:199| Loss:0.3026, Acc:84.38% | Test Loss:0.2586, Test acc:92.50%\n",
            "Epoch:200| Loss:0.3024, Acc:84.38% | Test Loss:0.2585, Test acc:92.00%\n",
            "Epoch:201| Loss:0.3023, Acc:84.25% | Test Loss:0.2583, Test acc:92.00%\n",
            "Epoch:202| Loss:0.3022, Acc:84.25% | Test Loss:0.2582, Test acc:92.00%\n",
            "Epoch:203| Loss:0.3020, Acc:84.25% | Test Loss:0.2580, Test acc:92.00%\n",
            "Epoch:204| Loss:0.3019, Acc:84.25% | Test Loss:0.2579, Test acc:92.00%\n",
            "Epoch:205| Loss:0.3017, Acc:84.12% | Test Loss:0.2577, Test acc:92.00%\n",
            "Epoch:206| Loss:0.3016, Acc:84.12% | Test Loss:0.2576, Test acc:92.00%\n",
            "Epoch:207| Loss:0.3015, Acc:84.12% | Test Loss:0.2574, Test acc:92.00%\n",
            "Epoch:208| Loss:0.3013, Acc:84.12% | Test Loss:0.2573, Test acc:92.00%\n",
            "Epoch:209| Loss:0.3012, Acc:84.12% | Test Loss:0.2572, Test acc:92.00%\n",
            "Epoch:210| Loss:0.3011, Acc:84.12% | Test Loss:0.2570, Test acc:92.00%\n",
            "Epoch:211| Loss:0.3009, Acc:84.12% | Test Loss:0.2569, Test acc:92.00%\n",
            "Epoch:212| Loss:0.3008, Acc:84.00% | Test Loss:0.2567, Test acc:92.00%\n",
            "Epoch:213| Loss:0.3007, Acc:84.00% | Test Loss:0.2566, Test acc:92.00%\n",
            "Epoch:214| Loss:0.3005, Acc:84.00% | Test Loss:0.2565, Test acc:92.00%\n",
            "Epoch:215| Loss:0.3004, Acc:84.00% | Test Loss:0.2563, Test acc:92.00%\n",
            "Epoch:216| Loss:0.3003, Acc:84.00% | Test Loss:0.2562, Test acc:92.00%\n",
            "Epoch:217| Loss:0.3001, Acc:84.00% | Test Loss:0.2560, Test acc:92.00%\n",
            "Epoch:218| Loss:0.3000, Acc:84.00% | Test Loss:0.2559, Test acc:92.00%\n",
            "Epoch:219| Loss:0.2999, Acc:84.00% | Test Loss:0.2558, Test acc:92.00%\n",
            "Epoch:220| Loss:0.2998, Acc:84.00% | Test Loss:0.2556, Test acc:92.00%\n",
            "Epoch:221| Loss:0.2996, Acc:84.00% | Test Loss:0.2555, Test acc:92.00%\n",
            "Epoch:222| Loss:0.2995, Acc:84.00% | Test Loss:0.2554, Test acc:92.00%\n",
            "Epoch:223| Loss:0.2994, Acc:84.12% | Test Loss:0.2552, Test acc:92.00%\n",
            "Epoch:224| Loss:0.2992, Acc:84.00% | Test Loss:0.2551, Test acc:92.00%\n",
            "Epoch:225| Loss:0.2991, Acc:84.00% | Test Loss:0.2550, Test acc:92.00%\n",
            "Epoch:226| Loss:0.2990, Acc:84.00% | Test Loss:0.2548, Test acc:92.00%\n",
            "Epoch:227| Loss:0.2989, Acc:84.00% | Test Loss:0.2547, Test acc:92.00%\n",
            "Epoch:228| Loss:0.2987, Acc:84.00% | Test Loss:0.2545, Test acc:92.00%\n",
            "Epoch:229| Loss:0.2986, Acc:84.00% | Test Loss:0.2544, Test acc:92.00%\n",
            "Epoch:230| Loss:0.2985, Acc:84.00% | Test Loss:0.2543, Test acc:92.00%\n",
            "Epoch:231| Loss:0.2984, Acc:84.00% | Test Loss:0.2542, Test acc:92.00%\n",
            "Epoch:232| Loss:0.2982, Acc:84.12% | Test Loss:0.2540, Test acc:92.00%\n",
            "Epoch:233| Loss:0.2981, Acc:84.12% | Test Loss:0.2539, Test acc:92.00%\n",
            "Epoch:234| Loss:0.2980, Acc:84.12% | Test Loss:0.2538, Test acc:92.00%\n",
            "Epoch:235| Loss:0.2979, Acc:84.12% | Test Loss:0.2536, Test acc:92.00%\n",
            "Epoch:236| Loss:0.2977, Acc:84.12% | Test Loss:0.2535, Test acc:92.50%\n",
            "Epoch:237| Loss:0.2976, Acc:84.12% | Test Loss:0.2534, Test acc:92.50%\n",
            "Epoch:238| Loss:0.2975, Acc:84.12% | Test Loss:0.2532, Test acc:92.00%\n",
            "Epoch:239| Loss:0.2974, Acc:84.12% | Test Loss:0.2531, Test acc:92.00%\n",
            "Epoch:240| Loss:0.2973, Acc:84.12% | Test Loss:0.2530, Test acc:92.50%\n",
            "Epoch:241| Loss:0.2971, Acc:84.12% | Test Loss:0.2529, Test acc:92.50%\n",
            "Epoch:242| Loss:0.2970, Acc:84.12% | Test Loss:0.2527, Test acc:92.50%\n",
            "Epoch:243| Loss:0.2969, Acc:84.12% | Test Loss:0.2526, Test acc:92.50%\n",
            "Epoch:244| Loss:0.2968, Acc:84.12% | Test Loss:0.2525, Test acc:92.50%\n",
            "Epoch:245| Loss:0.2967, Acc:84.25% | Test Loss:0.2523, Test acc:92.50%\n",
            "Epoch:246| Loss:0.2965, Acc:84.25% | Test Loss:0.2522, Test acc:92.50%\n",
            "Epoch:247| Loss:0.2964, Acc:84.25% | Test Loss:0.2521, Test acc:92.50%\n",
            "Epoch:248| Loss:0.2963, Acc:84.25% | Test Loss:0.2520, Test acc:92.50%\n",
            "Epoch:249| Loss:0.2962, Acc:84.25% | Test Loss:0.2518, Test acc:92.50%\n",
            "Epoch:250| Loss:0.2961, Acc:84.25% | Test Loss:0.2517, Test acc:92.50%\n",
            "Epoch:251| Loss:0.2959, Acc:84.25% | Test Loss:0.2516, Test acc:92.50%\n",
            "Epoch:252| Loss:0.2958, Acc:84.38% | Test Loss:0.2515, Test acc:92.50%\n",
            "Epoch:253| Loss:0.2957, Acc:84.38% | Test Loss:0.2513, Test acc:92.50%\n",
            "Epoch:254| Loss:0.2956, Acc:84.38% | Test Loss:0.2512, Test acc:92.50%\n",
            "Epoch:255| Loss:0.2955, Acc:84.38% | Test Loss:0.2511, Test acc:92.50%\n",
            "Epoch:256| Loss:0.2954, Acc:84.38% | Test Loss:0.2510, Test acc:92.50%\n",
            "Epoch:257| Loss:0.2952, Acc:84.38% | Test Loss:0.2509, Test acc:92.50%\n",
            "Epoch:258| Loss:0.2951, Acc:84.38% | Test Loss:0.2507, Test acc:92.50%\n",
            "Epoch:259| Loss:0.2950, Acc:84.38% | Test Loss:0.2506, Test acc:92.50%\n",
            "Epoch:260| Loss:0.2949, Acc:84.38% | Test Loss:0.2505, Test acc:92.50%\n",
            "Epoch:261| Loss:0.2948, Acc:84.38% | Test Loss:0.2504, Test acc:92.50%\n",
            "Epoch:262| Loss:0.2947, Acc:84.50% | Test Loss:0.2503, Test acc:92.50%\n",
            "Epoch:263| Loss:0.2946, Acc:84.62% | Test Loss:0.2501, Test acc:92.50%\n",
            "Epoch:264| Loss:0.2944, Acc:84.62% | Test Loss:0.2500, Test acc:92.50%\n",
            "Epoch:265| Loss:0.2943, Acc:84.75% | Test Loss:0.2499, Test acc:92.50%\n",
            "Epoch:266| Loss:0.2942, Acc:84.88% | Test Loss:0.2498, Test acc:92.50%\n",
            "Epoch:267| Loss:0.2941, Acc:84.88% | Test Loss:0.2497, Test acc:92.50%\n",
            "Epoch:268| Loss:0.2940, Acc:85.12% | Test Loss:0.2495, Test acc:92.50%\n",
            "Epoch:269| Loss:0.2939, Acc:85.12% | Test Loss:0.2494, Test acc:92.50%\n",
            "Epoch:270| Loss:0.2938, Acc:85.12% | Test Loss:0.2493, Test acc:92.50%\n",
            "Epoch:271| Loss:0.2937, Acc:85.12% | Test Loss:0.2492, Test acc:92.50%\n",
            "Epoch:272| Loss:0.2936, Acc:85.12% | Test Loss:0.2491, Test acc:92.50%\n",
            "Epoch:273| Loss:0.2934, Acc:85.12% | Test Loss:0.2490, Test acc:92.50%\n",
            "Epoch:274| Loss:0.2933, Acc:85.12% | Test Loss:0.2488, Test acc:92.50%\n",
            "Epoch:275| Loss:0.2932, Acc:85.12% | Test Loss:0.2487, Test acc:92.50%\n",
            "Epoch:276| Loss:0.2931, Acc:85.12% | Test Loss:0.2486, Test acc:92.50%\n",
            "Epoch:277| Loss:0.2930, Acc:85.12% | Test Loss:0.2485, Test acc:92.50%\n",
            "Epoch:278| Loss:0.2929, Acc:85.12% | Test Loss:0.2484, Test acc:92.50%\n",
            "Epoch:279| Loss:0.2928, Acc:85.25% | Test Loss:0.2483, Test acc:92.50%\n",
            "Epoch:280| Loss:0.2927, Acc:85.25% | Test Loss:0.2481, Test acc:92.50%\n",
            "Epoch:281| Loss:0.2926, Acc:85.25% | Test Loss:0.2480, Test acc:92.50%\n",
            "Epoch:282| Loss:0.2925, Acc:85.25% | Test Loss:0.2479, Test acc:92.50%\n",
            "Epoch:283| Loss:0.2924, Acc:85.25% | Test Loss:0.2478, Test acc:92.50%\n",
            "Epoch:284| Loss:0.2923, Acc:85.25% | Test Loss:0.2477, Test acc:92.50%\n",
            "Epoch:285| Loss:0.2922, Acc:85.25% | Test Loss:0.2476, Test acc:92.50%\n",
            "Epoch:286| Loss:0.2920, Acc:85.25% | Test Loss:0.2475, Test acc:92.50%\n",
            "Epoch:287| Loss:0.2919, Acc:85.25% | Test Loss:0.2474, Test acc:92.50%\n",
            "Epoch:288| Loss:0.2918, Acc:85.25% | Test Loss:0.2472, Test acc:92.50%\n",
            "Epoch:289| Loss:0.2917, Acc:85.25% | Test Loss:0.2471, Test acc:92.50%\n",
            "Epoch:290| Loss:0.2916, Acc:85.25% | Test Loss:0.2470, Test acc:92.50%\n",
            "Epoch:291| Loss:0.2915, Acc:85.38% | Test Loss:0.2469, Test acc:92.50%\n",
            "Epoch:292| Loss:0.2914, Acc:85.38% | Test Loss:0.2468, Test acc:92.50%\n",
            "Epoch:293| Loss:0.2913, Acc:85.25% | Test Loss:0.2467, Test acc:92.50%\n",
            "Epoch:294| Loss:0.2912, Acc:85.25% | Test Loss:0.2466, Test acc:92.50%\n",
            "Epoch:295| Loss:0.2911, Acc:85.25% | Test Loss:0.2465, Test acc:92.50%\n",
            "Epoch:296| Loss:0.2910, Acc:85.25% | Test Loss:0.2464, Test acc:92.50%\n",
            "Epoch:297| Loss:0.2909, Acc:85.38% | Test Loss:0.2463, Test acc:92.50%\n",
            "Epoch:298| Loss:0.2908, Acc:85.38% | Test Loss:0.2461, Test acc:92.50%\n",
            "Epoch:299| Loss:0.2907, Acc:85.38% | Test Loss:0.2460, Test acc:92.50%\n",
            "Epoch:300| Loss:0.2906, Acc:85.38% | Test Loss:0.2459, Test acc:92.50%\n",
            "Epoch:301| Loss:0.2905, Acc:85.38% | Test Loss:0.2458, Test acc:92.50%\n",
            "Epoch:302| Loss:0.2904, Acc:85.38% | Test Loss:0.2457, Test acc:92.50%\n",
            "Epoch:303| Loss:0.2903, Acc:85.38% | Test Loss:0.2456, Test acc:92.50%\n",
            "Epoch:304| Loss:0.2902, Acc:85.38% | Test Loss:0.2455, Test acc:92.00%\n",
            "Epoch:305| Loss:0.2901, Acc:85.38% | Test Loss:0.2454, Test acc:92.00%\n",
            "Epoch:306| Loss:0.2900, Acc:85.38% | Test Loss:0.2453, Test acc:92.00%\n",
            "Epoch:307| Loss:0.2899, Acc:85.25% | Test Loss:0.2452, Test acc:92.00%\n",
            "Epoch:308| Loss:0.2898, Acc:85.38% | Test Loss:0.2451, Test acc:92.00%\n",
            "Epoch:309| Loss:0.2897, Acc:85.38% | Test Loss:0.2450, Test acc:92.00%\n",
            "Epoch:310| Loss:0.2896, Acc:85.38% | Test Loss:0.2449, Test acc:92.00%\n",
            "Epoch:311| Loss:0.2895, Acc:85.50% | Test Loss:0.2448, Test acc:92.50%\n",
            "Epoch:312| Loss:0.2894, Acc:85.50% | Test Loss:0.2447, Test acc:92.50%\n",
            "Epoch:313| Loss:0.2893, Acc:85.50% | Test Loss:0.2446, Test acc:92.50%\n",
            "Epoch:314| Loss:0.2892, Acc:85.50% | Test Loss:0.2445, Test acc:92.50%\n",
            "Epoch:315| Loss:0.2891, Acc:85.50% | Test Loss:0.2444, Test acc:92.50%\n",
            "Epoch:316| Loss:0.2890, Acc:85.50% | Test Loss:0.2442, Test acc:92.50%\n",
            "Epoch:317| Loss:0.2889, Acc:85.38% | Test Loss:0.2441, Test acc:92.50%\n",
            "Epoch:318| Loss:0.2888, Acc:85.25% | Test Loss:0.2440, Test acc:92.50%\n",
            "Epoch:319| Loss:0.2887, Acc:85.38% | Test Loss:0.2439, Test acc:92.50%\n",
            "Epoch:320| Loss:0.2886, Acc:85.38% | Test Loss:0.2438, Test acc:92.50%\n",
            "Epoch:321| Loss:0.2885, Acc:85.38% | Test Loss:0.2437, Test acc:92.50%\n",
            "Epoch:322| Loss:0.2884, Acc:85.50% | Test Loss:0.2436, Test acc:92.50%\n",
            "Epoch:323| Loss:0.2883, Acc:85.50% | Test Loss:0.2435, Test acc:92.50%\n",
            "Epoch:324| Loss:0.2882, Acc:85.50% | Test Loss:0.2434, Test acc:92.50%\n",
            "Epoch:325| Loss:0.2881, Acc:85.50% | Test Loss:0.2433, Test acc:92.50%\n",
            "Epoch:326| Loss:0.2880, Acc:85.50% | Test Loss:0.2432, Test acc:92.50%\n",
            "Epoch:327| Loss:0.2879, Acc:85.50% | Test Loss:0.2431, Test acc:92.50%\n",
            "Epoch:328| Loss:0.2878, Acc:85.50% | Test Loss:0.2430, Test acc:92.50%\n",
            "Epoch:329| Loss:0.2878, Acc:85.50% | Test Loss:0.2429, Test acc:92.50%\n",
            "Epoch:330| Loss:0.2877, Acc:85.50% | Test Loss:0.2428, Test acc:92.50%\n",
            "Epoch:331| Loss:0.2876, Acc:85.50% | Test Loss:0.2427, Test acc:92.50%\n",
            "Epoch:332| Loss:0.2875, Acc:85.50% | Test Loss:0.2426, Test acc:92.50%\n",
            "Epoch:333| Loss:0.2874, Acc:85.50% | Test Loss:0.2425, Test acc:92.00%\n",
            "Epoch:334| Loss:0.2873, Acc:85.50% | Test Loss:0.2424, Test acc:92.00%\n",
            "Epoch:335| Loss:0.2872, Acc:85.50% | Test Loss:0.2423, Test acc:92.00%\n",
            "Epoch:336| Loss:0.2871, Acc:85.50% | Test Loss:0.2422, Test acc:92.00%\n",
            "Epoch:337| Loss:0.2870, Acc:85.50% | Test Loss:0.2421, Test acc:92.00%\n",
            "Epoch:338| Loss:0.2869, Acc:85.50% | Test Loss:0.2420, Test acc:92.00%\n",
            "Epoch:339| Loss:0.2868, Acc:85.50% | Test Loss:0.2419, Test acc:92.00%\n",
            "Epoch:340| Loss:0.2867, Acc:85.50% | Test Loss:0.2418, Test acc:92.00%\n",
            "Epoch:341| Loss:0.2866, Acc:85.50% | Test Loss:0.2418, Test acc:92.00%\n",
            "Epoch:342| Loss:0.2866, Acc:85.50% | Test Loss:0.2417, Test acc:92.00%\n",
            "Epoch:343| Loss:0.2865, Acc:85.62% | Test Loss:0.2416, Test acc:92.00%\n",
            "Epoch:344| Loss:0.2864, Acc:85.62% | Test Loss:0.2415, Test acc:92.00%\n",
            "Epoch:345| Loss:0.2863, Acc:85.62% | Test Loss:0.2414, Test acc:92.00%\n",
            "Epoch:346| Loss:0.2862, Acc:85.62% | Test Loss:0.2413, Test acc:92.00%\n",
            "Epoch:347| Loss:0.2861, Acc:85.62% | Test Loss:0.2412, Test acc:92.00%\n",
            "Epoch:348| Loss:0.2860, Acc:85.62% | Test Loss:0.2411, Test acc:92.00%\n",
            "Epoch:349| Loss:0.2859, Acc:85.62% | Test Loss:0.2410, Test acc:92.00%\n",
            "Epoch:350| Loss:0.2858, Acc:85.62% | Test Loss:0.2409, Test acc:92.00%\n",
            "Epoch:351| Loss:0.2857, Acc:85.62% | Test Loss:0.2408, Test acc:92.00%\n",
            "Epoch:352| Loss:0.2857, Acc:85.62% | Test Loss:0.2407, Test acc:92.00%\n",
            "Epoch:353| Loss:0.2856, Acc:85.62% | Test Loss:0.2406, Test acc:92.00%\n",
            "Epoch:354| Loss:0.2855, Acc:85.62% | Test Loss:0.2405, Test acc:92.00%\n",
            "Epoch:355| Loss:0.2854, Acc:85.62% | Test Loss:0.2404, Test acc:92.00%\n",
            "Epoch:356| Loss:0.2853, Acc:85.62% | Test Loss:0.2403, Test acc:92.00%\n",
            "Epoch:357| Loss:0.2852, Acc:85.62% | Test Loss:0.2402, Test acc:92.00%\n",
            "Epoch:358| Loss:0.2851, Acc:85.62% | Test Loss:0.2401, Test acc:92.00%\n",
            "Epoch:359| Loss:0.2850, Acc:85.62% | Test Loss:0.2401, Test acc:92.00%\n",
            "Epoch:360| Loss:0.2850, Acc:85.62% | Test Loss:0.2400, Test acc:92.00%\n",
            "Epoch:361| Loss:0.2849, Acc:85.62% | Test Loss:0.2399, Test acc:92.00%\n",
            "Epoch:362| Loss:0.2848, Acc:85.62% | Test Loss:0.2398, Test acc:92.00%\n",
            "Epoch:363| Loss:0.2847, Acc:85.62% | Test Loss:0.2397, Test acc:92.00%\n",
            "Epoch:364| Loss:0.2846, Acc:85.62% | Test Loss:0.2396, Test acc:92.00%\n",
            "Epoch:365| Loss:0.2845, Acc:85.62% | Test Loss:0.2395, Test acc:92.00%\n",
            "Epoch:366| Loss:0.2844, Acc:85.62% | Test Loss:0.2394, Test acc:92.00%\n",
            "Epoch:367| Loss:0.2844, Acc:85.75% | Test Loss:0.2393, Test acc:92.00%\n",
            "Epoch:368| Loss:0.2843, Acc:85.88% | Test Loss:0.2392, Test acc:92.00%\n",
            "Epoch:369| Loss:0.2842, Acc:85.88% | Test Loss:0.2391, Test acc:92.00%\n",
            "Epoch:370| Loss:0.2841, Acc:85.88% | Test Loss:0.2391, Test acc:92.00%\n",
            "Epoch:371| Loss:0.2840, Acc:85.88% | Test Loss:0.2390, Test acc:92.00%\n",
            "Epoch:372| Loss:0.2839, Acc:85.88% | Test Loss:0.2389, Test acc:92.00%\n",
            "Epoch:373| Loss:0.2838, Acc:85.88% | Test Loss:0.2388, Test acc:92.00%\n",
            "Epoch:374| Loss:0.2838, Acc:85.88% | Test Loss:0.2387, Test acc:92.00%\n",
            "Epoch:375| Loss:0.2837, Acc:85.88% | Test Loss:0.2386, Test acc:92.00%\n",
            "Epoch:376| Loss:0.2836, Acc:85.88% | Test Loss:0.2385, Test acc:92.50%\n",
            "Epoch:377| Loss:0.2835, Acc:85.88% | Test Loss:0.2384, Test acc:92.50%\n",
            "Epoch:378| Loss:0.2834, Acc:85.88% | Test Loss:0.2383, Test acc:92.50%\n",
            "Epoch:379| Loss:0.2833, Acc:85.88% | Test Loss:0.2382, Test acc:92.50%\n",
            "Epoch:380| Loss:0.2833, Acc:86.00% | Test Loss:0.2382, Test acc:92.50%\n",
            "Epoch:381| Loss:0.2832, Acc:86.00% | Test Loss:0.2381, Test acc:92.50%\n",
            "Epoch:382| Loss:0.2831, Acc:86.00% | Test Loss:0.2380, Test acc:92.50%\n",
            "Epoch:383| Loss:0.2830, Acc:86.00% | Test Loss:0.2379, Test acc:92.50%\n",
            "Epoch:384| Loss:0.2829, Acc:86.00% | Test Loss:0.2378, Test acc:92.50%\n",
            "Epoch:385| Loss:0.2829, Acc:86.00% | Test Loss:0.2377, Test acc:92.50%\n",
            "Epoch:386| Loss:0.2828, Acc:86.00% | Test Loss:0.2376, Test acc:92.50%\n",
            "Epoch:387| Loss:0.2827, Acc:86.00% | Test Loss:0.2375, Test acc:92.50%\n",
            "Epoch:388| Loss:0.2826, Acc:86.12% | Test Loss:0.2375, Test acc:92.50%\n",
            "Epoch:389| Loss:0.2825, Acc:86.12% | Test Loss:0.2374, Test acc:92.50%\n",
            "Epoch:390| Loss:0.2824, Acc:86.00% | Test Loss:0.2373, Test acc:92.50%\n",
            "Epoch:391| Loss:0.2824, Acc:86.12% | Test Loss:0.2372, Test acc:92.50%\n",
            "Epoch:392| Loss:0.2823, Acc:86.00% | Test Loss:0.2371, Test acc:92.50%\n",
            "Epoch:393| Loss:0.2822, Acc:86.00% | Test Loss:0.2370, Test acc:92.50%\n",
            "Epoch:394| Loss:0.2821, Acc:86.00% | Test Loss:0.2370, Test acc:92.50%\n",
            "Epoch:395| Loss:0.2820, Acc:86.00% | Test Loss:0.2369, Test acc:92.50%\n",
            "Epoch:396| Loss:0.2820, Acc:86.12% | Test Loss:0.2368, Test acc:92.50%\n",
            "Epoch:397| Loss:0.2819, Acc:86.12% | Test Loss:0.2367, Test acc:92.50%\n",
            "Epoch:398| Loss:0.2818, Acc:86.12% | Test Loss:0.2366, Test acc:92.50%\n",
            "Epoch:399| Loss:0.2817, Acc:86.12% | Test Loss:0.2365, Test acc:92.50%\n",
            "Epoch:400| Loss:0.2817, Acc:86.12% | Test Loss:0.2364, Test acc:92.50%\n",
            "Epoch:401| Loss:0.2816, Acc:86.00% | Test Loss:0.2364, Test acc:92.50%\n",
            "Epoch:402| Loss:0.2815, Acc:86.00% | Test Loss:0.2363, Test acc:92.50%\n",
            "Epoch:403| Loss:0.2814, Acc:86.00% | Test Loss:0.2362, Test acc:92.50%\n",
            "Epoch:404| Loss:0.2813, Acc:86.00% | Test Loss:0.2361, Test acc:92.50%\n",
            "Epoch:405| Loss:0.2813, Acc:86.00% | Test Loss:0.2360, Test acc:92.50%\n",
            "Epoch:406| Loss:0.2812, Acc:86.00% | Test Loss:0.2360, Test acc:92.50%\n",
            "Epoch:407| Loss:0.2811, Acc:86.00% | Test Loss:0.2359, Test acc:92.50%\n",
            "Epoch:408| Loss:0.2810, Acc:86.00% | Test Loss:0.2358, Test acc:92.50%\n",
            "Epoch:409| Loss:0.2810, Acc:86.00% | Test Loss:0.2357, Test acc:92.50%\n",
            "Epoch:410| Loss:0.2809, Acc:86.00% | Test Loss:0.2356, Test acc:92.50%\n",
            "Epoch:411| Loss:0.2808, Acc:86.00% | Test Loss:0.2355, Test acc:92.50%\n",
            "Epoch:412| Loss:0.2807, Acc:86.00% | Test Loss:0.2355, Test acc:92.50%\n",
            "Epoch:413| Loss:0.2807, Acc:86.00% | Test Loss:0.2354, Test acc:92.50%\n",
            "Epoch:414| Loss:0.2806, Acc:86.00% | Test Loss:0.2353, Test acc:92.50%\n",
            "Epoch:415| Loss:0.2805, Acc:86.00% | Test Loss:0.2352, Test acc:92.50%\n",
            "Epoch:416| Loss:0.2804, Acc:86.00% | Test Loss:0.2351, Test acc:92.50%\n",
            "Epoch:417| Loss:0.2803, Acc:86.00% | Test Loss:0.2351, Test acc:92.50%\n",
            "Epoch:418| Loss:0.2803, Acc:86.00% | Test Loss:0.2350, Test acc:92.50%\n",
            "Epoch:419| Loss:0.2802, Acc:86.00% | Test Loss:0.2349, Test acc:92.50%\n",
            "Epoch:420| Loss:0.2801, Acc:86.00% | Test Loss:0.2348, Test acc:92.50%\n",
            "Epoch:421| Loss:0.2801, Acc:86.00% | Test Loss:0.2347, Test acc:92.50%\n",
            "Epoch:422| Loss:0.2800, Acc:86.00% | Test Loss:0.2347, Test acc:92.50%\n",
            "Epoch:423| Loss:0.2799, Acc:86.00% | Test Loss:0.2346, Test acc:92.50%\n",
            "Epoch:424| Loss:0.2798, Acc:86.00% | Test Loss:0.2345, Test acc:92.50%\n",
            "Epoch:425| Loss:0.2798, Acc:86.00% | Test Loss:0.2344, Test acc:92.50%\n",
            "Epoch:426| Loss:0.2797, Acc:86.00% | Test Loss:0.2343, Test acc:92.50%\n",
            "Epoch:427| Loss:0.2796, Acc:86.00% | Test Loss:0.2343, Test acc:92.50%\n",
            "Epoch:428| Loss:0.2795, Acc:86.00% | Test Loss:0.2342, Test acc:92.50%\n",
            "Epoch:429| Loss:0.2795, Acc:86.00% | Test Loss:0.2341, Test acc:92.50%\n",
            "Epoch:430| Loss:0.2794, Acc:86.00% | Test Loss:0.2340, Test acc:92.50%\n",
            "Epoch:431| Loss:0.2793, Acc:86.00% | Test Loss:0.2339, Test acc:92.50%\n",
            "Epoch:432| Loss:0.2792, Acc:86.00% | Test Loss:0.2339, Test acc:92.50%\n",
            "Epoch:433| Loss:0.2792, Acc:86.00% | Test Loss:0.2338, Test acc:92.50%\n",
            "Epoch:434| Loss:0.2791, Acc:86.00% | Test Loss:0.2337, Test acc:92.50%\n",
            "Epoch:435| Loss:0.2790, Acc:86.00% | Test Loss:0.2336, Test acc:92.50%\n",
            "Epoch:436| Loss:0.2790, Acc:86.00% | Test Loss:0.2336, Test acc:92.50%\n",
            "Epoch:437| Loss:0.2789, Acc:86.00% | Test Loss:0.2335, Test acc:92.50%\n",
            "Epoch:438| Loss:0.2788, Acc:86.00% | Test Loss:0.2334, Test acc:92.50%\n",
            "Epoch:439| Loss:0.2787, Acc:86.00% | Test Loss:0.2333, Test acc:92.50%\n",
            "Epoch:440| Loss:0.2787, Acc:86.00% | Test Loss:0.2333, Test acc:92.50%\n",
            "Epoch:441| Loss:0.2786, Acc:86.00% | Test Loss:0.2332, Test acc:92.50%\n",
            "Epoch:442| Loss:0.2785, Acc:86.00% | Test Loss:0.2331, Test acc:92.50%\n",
            "Epoch:443| Loss:0.2785, Acc:85.88% | Test Loss:0.2330, Test acc:92.50%\n",
            "Epoch:444| Loss:0.2784, Acc:85.88% | Test Loss:0.2330, Test acc:92.50%\n",
            "Epoch:445| Loss:0.2783, Acc:85.88% | Test Loss:0.2329, Test acc:92.50%\n",
            "Epoch:446| Loss:0.2782, Acc:85.88% | Test Loss:0.2328, Test acc:92.50%\n",
            "Epoch:447| Loss:0.2782, Acc:85.88% | Test Loss:0.2327, Test acc:92.50%\n",
            "Epoch:448| Loss:0.2781, Acc:85.88% | Test Loss:0.2327, Test acc:92.50%\n",
            "Epoch:449| Loss:0.2780, Acc:85.88% | Test Loss:0.2326, Test acc:92.50%\n",
            "Epoch:450| Loss:0.2780, Acc:85.88% | Test Loss:0.2325, Test acc:92.50%\n",
            "Epoch:451| Loss:0.2779, Acc:86.00% | Test Loss:0.2324, Test acc:92.50%\n",
            "Epoch:452| Loss:0.2778, Acc:86.00% | Test Loss:0.2324, Test acc:92.50%\n",
            "Epoch:453| Loss:0.2778, Acc:86.00% | Test Loss:0.2323, Test acc:92.50%\n",
            "Epoch:454| Loss:0.2777, Acc:86.00% | Test Loss:0.2322, Test acc:92.50%\n",
            "Epoch:455| Loss:0.2776, Acc:86.00% | Test Loss:0.2321, Test acc:92.00%\n",
            "Epoch:456| Loss:0.2776, Acc:86.00% | Test Loss:0.2321, Test acc:92.00%\n",
            "Epoch:457| Loss:0.2775, Acc:86.00% | Test Loss:0.2320, Test acc:92.00%\n",
            "Epoch:458| Loss:0.2774, Acc:86.00% | Test Loss:0.2319, Test acc:92.00%\n",
            "Epoch:459| Loss:0.2774, Acc:86.00% | Test Loss:0.2318, Test acc:92.00%\n",
            "Epoch:460| Loss:0.2773, Acc:86.00% | Test Loss:0.2318, Test acc:92.00%\n",
            "Epoch:461| Loss:0.2772, Acc:86.00% | Test Loss:0.2317, Test acc:92.00%\n",
            "Epoch:462| Loss:0.2771, Acc:86.00% | Test Loss:0.2316, Test acc:92.00%\n",
            "Epoch:463| Loss:0.2771, Acc:86.00% | Test Loss:0.2316, Test acc:92.00%\n",
            "Epoch:464| Loss:0.2770, Acc:86.00% | Test Loss:0.2315, Test acc:92.00%\n",
            "Epoch:465| Loss:0.2769, Acc:86.00% | Test Loss:0.2314, Test acc:92.00%\n",
            "Epoch:466| Loss:0.2769, Acc:86.00% | Test Loss:0.2313, Test acc:92.00%\n",
            "Epoch:467| Loss:0.2768, Acc:86.00% | Test Loss:0.2313, Test acc:92.00%\n",
            "Epoch:468| Loss:0.2767, Acc:86.00% | Test Loss:0.2312, Test acc:92.00%\n",
            "Epoch:469| Loss:0.2767, Acc:86.00% | Test Loss:0.2311, Test acc:92.00%\n",
            "Epoch:470| Loss:0.2766, Acc:86.00% | Test Loss:0.2311, Test acc:92.00%\n",
            "Epoch:471| Loss:0.2765, Acc:86.00% | Test Loss:0.2310, Test acc:92.00%\n",
            "Epoch:472| Loss:0.2765, Acc:86.00% | Test Loss:0.2309, Test acc:92.00%\n",
            "Epoch:473| Loss:0.2764, Acc:86.00% | Test Loss:0.2308, Test acc:92.00%\n",
            "Epoch:474| Loss:0.2764, Acc:86.00% | Test Loss:0.2308, Test acc:92.00%\n",
            "Epoch:475| Loss:0.2763, Acc:86.00% | Test Loss:0.2307, Test acc:92.00%\n",
            "Epoch:476| Loss:0.2762, Acc:86.00% | Test Loss:0.2306, Test acc:92.00%\n",
            "Epoch:477| Loss:0.2762, Acc:86.00% | Test Loss:0.2306, Test acc:92.00%\n",
            "Epoch:478| Loss:0.2761, Acc:86.00% | Test Loss:0.2305, Test acc:92.00%\n",
            "Epoch:479| Loss:0.2760, Acc:86.00% | Test Loss:0.2304, Test acc:92.00%\n",
            "Epoch:480| Loss:0.2760, Acc:86.00% | Test Loss:0.2304, Test acc:92.00%\n",
            "Epoch:481| Loss:0.2759, Acc:86.12% | Test Loss:0.2303, Test acc:92.00%\n",
            "Epoch:482| Loss:0.2758, Acc:86.12% | Test Loss:0.2302, Test acc:92.00%\n",
            "Epoch:483| Loss:0.2758, Acc:86.12% | Test Loss:0.2302, Test acc:92.00%\n",
            "Epoch:484| Loss:0.2757, Acc:86.12% | Test Loss:0.2301, Test acc:92.00%\n",
            "Epoch:485| Loss:0.2756, Acc:86.12% | Test Loss:0.2300, Test acc:92.00%\n",
            "Epoch:486| Loss:0.2756, Acc:86.25% | Test Loss:0.2299, Test acc:92.00%\n",
            "Epoch:487| Loss:0.2755, Acc:86.25% | Test Loss:0.2299, Test acc:92.00%\n",
            "Epoch:488| Loss:0.2754, Acc:86.25% | Test Loss:0.2298, Test acc:92.00%\n",
            "Epoch:489| Loss:0.2754, Acc:86.25% | Test Loss:0.2297, Test acc:92.00%\n",
            "Epoch:490| Loss:0.2753, Acc:86.25% | Test Loss:0.2297, Test acc:92.00%\n",
            "Epoch:491| Loss:0.2753, Acc:86.38% | Test Loss:0.2296, Test acc:92.00%\n",
            "Epoch:492| Loss:0.2752, Acc:86.38% | Test Loss:0.2295, Test acc:92.00%\n",
            "Epoch:493| Loss:0.2751, Acc:86.50% | Test Loss:0.2295, Test acc:92.00%\n",
            "Epoch:494| Loss:0.2751, Acc:86.50% | Test Loss:0.2294, Test acc:92.00%\n",
            "Epoch:495| Loss:0.2750, Acc:86.50% | Test Loss:0.2293, Test acc:92.00%\n",
            "Epoch:496| Loss:0.2749, Acc:86.50% | Test Loss:0.2293, Test acc:92.00%\n",
            "Epoch:497| Loss:0.2749, Acc:86.50% | Test Loss:0.2292, Test acc:92.00%\n",
            "Epoch:498| Loss:0.2748, Acc:86.50% | Test Loss:0.2291, Test acc:92.00%\n",
            "Epoch:499| Loss:0.2748, Acc:86.50% | Test Loss:0.2291, Test acc:92.00%\n"
          ]
        }
      ]
    }
  ]
}
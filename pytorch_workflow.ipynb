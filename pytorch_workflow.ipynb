{
  "nbformat": 4,
  "nbformat_minor": 0,
  "metadata": {
    "colab": {
      "provenance": [],
      "toc_visible": true,
      "authorship_tag": "ABX9TyPMWYYqeaNepvljumhO9uFz",
      "include_colab_link": true
    },
    "kernelspec": {
      "name": "python3",
      "display_name": "Python 3"
    },
    "language_info": {
      "name": "python"
    }
  },
  "cells": [
    {
      "cell_type": "markdown",
      "metadata": {
        "id": "view-in-github",
        "colab_type": "text"
      },
      "source": [
        "<a href=\"https://colab.research.google.com/github/goodmorninc-md/CVprojects/blob/main/pytorch_workflow.ipynb\" target=\"_parent\"><img src=\"https://colab.research.google.com/assets/colab-badge.svg\" alt=\"Open In Colab\"/></a>"
      ]
    },
    {
      "cell_type": "code",
      "execution_count": 129,
      "metadata": {
        "colab": {
          "base_uri": "https://localhost:8080/",
          "height": 35
        },
        "id": "4evi8cdEk7u8",
        "outputId": "aa34e881-bbc6-4fc7-c653-c14b292ae505"
      },
      "outputs": [
        {
          "output_type": "execute_result",
          "data": {
            "text/plain": [
              "'2.2.1+cu121'"
            ],
            "application/vnd.google.colaboratory.intrinsic+json": {
              "type": "string"
            }
          },
          "metadata": {},
          "execution_count": 129
        }
      ],
      "source": [
        "import torch\n",
        "torch.__version__"
      ]
    },
    {
      "cell_type": "markdown",
      "source": [
        "####准备数据"
      ],
      "metadata": {
        "id": "Zx3ZY6D7lmQe"
      }
    },
    {
      "cell_type": "code",
      "source": [
        "# y= 0.7 *x + 0.3 (一系列散点)\n",
        "weight = 0.7\n",
        "bias = 0.3\n",
        "\n",
        "#Create Data\n",
        "start = 0\n",
        "end = 1\n",
        "step = 0.02\n",
        "X = torch.arange(start,end,step)"
      ],
      "metadata": {
        "id": "_ZGj7geilqDq"
      },
      "execution_count": 130,
      "outputs": []
    },
    {
      "cell_type": "code",
      "source": [
        "X\n"
      ],
      "metadata": {
        "colab": {
          "base_uri": "https://localhost:8080/"
        },
        "id": "rfOLDKmDmPNh",
        "outputId": "6020a020-6b4a-420e-9afa-50c6065e7f17"
      },
      "execution_count": 131,
      "outputs": [
        {
          "output_type": "execute_result",
          "data": {
            "text/plain": [
              "tensor([0.0000, 0.0200, 0.0400, 0.0600, 0.0800, 0.1000, 0.1200, 0.1400, 0.1600,\n",
              "        0.1800, 0.2000, 0.2200, 0.2400, 0.2600, 0.2800, 0.3000, 0.3200, 0.3400,\n",
              "        0.3600, 0.3800, 0.4000, 0.4200, 0.4400, 0.4600, 0.4800, 0.5000, 0.5200,\n",
              "        0.5400, 0.5600, 0.5800, 0.6000, 0.6200, 0.6400, 0.6600, 0.6800, 0.7000,\n",
              "        0.7200, 0.7400, 0.7600, 0.7800, 0.8000, 0.8200, 0.8400, 0.8600, 0.8800,\n",
              "        0.9000, 0.9200, 0.9400, 0.9600, 0.9800])"
            ]
          },
          "metadata": {},
          "execution_count": 131
        }
      ]
    },
    {
      "cell_type": "code",
      "source": [
        "Y = weight *X + bias\n",
        "Y"
      ],
      "metadata": {
        "colab": {
          "base_uri": "https://localhost:8080/"
        },
        "id": "E2iy8pzwmWCH",
        "outputId": "118572dc-6dd8-42ad-b5f5-3eabd5df40bf"
      },
      "execution_count": 132,
      "outputs": [
        {
          "output_type": "execute_result",
          "data": {
            "text/plain": [
              "tensor([0.3000, 0.3140, 0.3280, 0.3420, 0.3560, 0.3700, 0.3840, 0.3980, 0.4120,\n",
              "        0.4260, 0.4400, 0.4540, 0.4680, 0.4820, 0.4960, 0.5100, 0.5240, 0.5380,\n",
              "        0.5520, 0.5660, 0.5800, 0.5940, 0.6080, 0.6220, 0.6360, 0.6500, 0.6640,\n",
              "        0.6780, 0.6920, 0.7060, 0.7200, 0.7340, 0.7480, 0.7620, 0.7760, 0.7900,\n",
              "        0.8040, 0.8180, 0.8320, 0.8460, 0.8600, 0.8740, 0.8880, 0.9020, 0.9160,\n",
              "        0.9300, 0.9440, 0.9580, 0.9720, 0.9860])"
            ]
          },
          "metadata": {},
          "execution_count": 132
        }
      ]
    },
    {
      "cell_type": "code",
      "source": [
        "print(X[:10])\n",
        "print(Y[:10])"
      ],
      "metadata": {
        "colab": {
          "base_uri": "https://localhost:8080/"
        },
        "id": "7-Zdk92KmbwQ",
        "outputId": "e0e64569-f15c-4ba4-bac0-b510e161448b"
      },
      "execution_count": 133,
      "outputs": [
        {
          "output_type": "stream",
          "name": "stdout",
          "text": [
            "tensor([0.0000, 0.0200, 0.0400, 0.0600, 0.0800, 0.1000, 0.1200, 0.1400, 0.1600,\n",
            "        0.1800])\n",
            "tensor([0.3000, 0.3140, 0.3280, 0.3420, 0.3560, 0.3700, 0.3840, 0.3980, 0.4120,\n",
            "        0.4260])\n"
          ]
        }
      ]
    },
    {
      "cell_type": "markdown",
      "source": [
        "###划分数据集"
      ],
      "metadata": {
        "id": "cMx8Lh8_m2rl"
      }
    },
    {
      "cell_type": "code",
      "source": [
        "# train/test split\n",
        "#切片是左闭右开，在train_split位置不会相交\n",
        "train_split = int(len(X)*0.8)\n",
        "X_train,Y_train = X[:train_split],Y[:train_split]\n",
        "X_test,Y_test = X[train_split:],Y[train_split:]\n",
        "len(X_train),len(Y_train)"
      ],
      "metadata": {
        "colab": {
          "base_uri": "https://localhost:8080/"
        },
        "id": "mZ9ficcDm4Yb",
        "outputId": "f3698867-a7e6-4e58-93be-3b14e162c70c"
      },
      "execution_count": 134,
      "outputs": [
        {
          "output_type": "execute_result",
          "data": {
            "text/plain": [
              "(40, 40)"
            ]
          },
          "metadata": {},
          "execution_count": 134
        }
      ]
    },
    {
      "cell_type": "code",
      "source": [],
      "metadata": {
        "id": "L_HG6sixn3p2"
      },
      "execution_count": 134,
      "outputs": []
    },
    {
      "cell_type": "markdown",
      "source": [
        "###可视化"
      ],
      "metadata": {
        "id": "xq9paD1ToMiB"
      }
    },
    {
      "cell_type": "code",
      "source": [
        "from pickle import NONE\n",
        "import matplotlib.pyplot as plt\n",
        "def plot_predictions(train_data = X_train , train_labels = Y_train , test_data = X_test , test_labels = Y_test,predictions = NONE):\n",
        "  plt.figure(figsize = (10,7))\n",
        "  #c为散点的颜色，s为散点的大小\n",
        "  plt.scatter(train_data,train_labels,c=\"b\",s=20,label = \"Training Data\")\n",
        "  plt.scatter(test_data,test_labels,c=\"g\",s=10,label=\"Test Data\")\n",
        "\n",
        "  if predictions is not NONE:\n",
        "    plt.scatter(test_data,predictions,c=\"r\",s=15,label=\"Prediction\")\n",
        "  #图例大小字体为14\n",
        "  plt.legend(prop={\n",
        "      \"size\":14\n",
        "  })\n",
        "plot_predictions()"
      ],
      "metadata": {
        "colab": {
          "base_uri": "https://localhost:8080/",
          "height": 599
        },
        "id": "uny0B1z3oObc",
        "outputId": "383698c7-f468-481a-9af3-d95b122b252c"
      },
      "execution_count": 135,
      "outputs": [
        {
          "output_type": "display_data",
          "data": {
            "text/plain": [
              "<Figure size 1000x700 with 1 Axes>"
            ],
            "image/png": "[encoded data removed]"
          },
          "metadata": {}
        }
      ]
    },
    {
      "cell_type": "markdown",
      "source": [
        "##建立模型"
      ],
      "metadata": {
        "id": "HststGyZrLKu"
      }
    },
    {
      "cell_type": "markdown",
      "source": [
        "  因将test_data视为不知道标签的数据，所以要用模型计算train_data的predictions，然后跟原来已知的labels做比较，然后将训练好的模型/调整好的参数来预测test_labels，就叫做用经验误差来尽可能模拟泛化误差"
      ],
      "metadata": {
        "id": "KaGiRPV1rNqC"
      }
    },
    {
      "cell_type": "code",
      "source": [
        "from torch import nn"
      ],
      "metadata": {
        "id": "edbnYpyrsjmN"
      },
      "execution_count": 136,
      "outputs": []
    },
    {
      "cell_type": "code",
      "source": [
        "class LinearRegressionModel(nn.Module):\n",
        "  def __init__(self):\n",
        "    super().__init__()\n",
        "    #因为要进行梯度求导，所以要require_grad = True\n",
        "    #\n",
        "    self.weights = nn.Parameter(torch.randn(1,dtype = torch.float),requires_grad = True)\n",
        "    self.bias = nn.Parameter(torch.randn(1,dtype = torch.float),requires_grad =True)\n",
        "\n",
        "  #x类型最好是torch.tensor，但具体没用\n",
        "  def forward(self,x:torch.tensor):\n",
        "    return self.weights * x +self.bias"
      ],
      "metadata": {
        "id": "9uxb9hLUr7Nk"
      },
      "execution_count": 137,
      "outputs": []
    },
    {
      "cell_type": "code",
      "source": [
        "#结果可复现性\n",
        "torch.manual_seed(666)\n",
        "\n",
        "model_0 = LinearRegressionModel()\n",
        "#想打印一个东西，打印出了类似<generator object Module.parameter>的\n",
        "#强制类型转换为list\n",
        "model_0.parameters()\n",
        "list(model_0.parameters())\n",
        "print(list(model_0.parameters()))"
      ],
      "metadata": {
        "colab": {
          "base_uri": "https://localhost:8080/"
        },
        "id": "10gd6XV8wbR2",
        "outputId": "782f1217-6915-4e92-ab09-ab897ec08fe7"
      },
      "execution_count": 138,
      "outputs": [
        {
          "output_type": "stream",
          "name": "stdout",
          "text": [
            "[Parameter containing:\n",
            "tensor([-2.1188], requires_grad=True), Parameter containing:\n",
            "tensor([0.0635], requires_grad=True)]\n"
          ]
        }
      ]
    },
    {
      "cell_type": "code",
      "source": [
        "#同样是打印model_0的属性\n",
        "model_0.state_dict()"
      ],
      "metadata": {
        "colab": {
          "base_uri": "https://localhost:8080/"
        },
        "id": "xl3Dr7KH0Puv",
        "outputId": "3d7cd609-817d-44b7-b387-48b4f04d1443"
      },
      "execution_count": 139,
      "outputs": [
        {
          "output_type": "execute_result",
          "data": {
            "text/plain": [
              "OrderedDict([('weights', tensor([-2.1188])), ('bias', tensor([0.0635]))])"
            ]
          },
          "metadata": {},
          "execution_count": 139
        }
      ]
    },
    {
      "cell_type": "code",
      "source": [
        "#测试时选择最好的状态，不需要回传 不会对参数进行更新\n",
        "with torch.inference_mode(): #torch.no_grad()\n",
        "  y_preds = model_0(X_test)\n",
        "\n",
        "plot_predictions(predictions = y_preds)"
      ],
      "metadata": {
        "colab": {
          "base_uri": "https://localhost:8080/",
          "height": 599
        },
        "id": "ZegwzsDj9o2D",
        "outputId": "05057bec-49e5-45ce-d8b4-4e878b25443f"
      },
      "execution_count": 140,
      "outputs": [
        {
          "output_type": "display_data",
          "data": {
            "text/plain": [
              "<Figure size 1000x700 with 1 Axes>"
            ],
            "image/png": "[encoded data removed]"
          },
          "metadata": {}
        }
      ]
    },
    {
      "cell_type": "markdown",
      "source": [
        "##训练模型\n",
        "###loss fucntion\n",
        "**损失函数度量y_pred和y_test之间的差距**\n",
        "MAE 绝对值/n 3 4 5;2 6 4 = 1.33\n",
        "MSE 平方/n 3 4 5;2 6 4 = 2\n",
        "###optimizer\n",
        "**告诉模型怎样朝着正确的参数走过去**"
      ],
      "metadata": {
        "id": "65MFO4nY2JpY"
      }
    },
    {
      "cell_type": "code",
      "source": [
        "loss_fn = nn.L1Loss() #MAE\n",
        "#SGD 随机梯度下降 lr:learning rate\n",
        "optimizer = torch.optim.SGD(params = model_0.parameters(),lr = 0.1)\n"
      ],
      "metadata": {
        "id": "Kupwoqj02Isz"
      },
      "execution_count": 141,
      "outputs": []
    },
    {
      "cell_type": "markdown",
      "source": [
        "##Trining loop\n"
      ],
      "metadata": {
        "id": "f6q72ewu5Dch"
      }
    },
    {
      "cell_type": "code",
      "source": [
        "torch.manual_seed(666)\n",
        "epochs = 100\n",
        "\n",
        "train_loss_values = []\n",
        "test_loss_values = []\n",
        "epoch_count = []\n",
        "\n",
        "for epoch in range(epochs):\n",
        "  #put model in training mode,进入训练模式\n",
        "  model_0.train()\n",
        "\n",
        "  #1.forward pass,using forward function\n",
        "  #得到的是训练集的y_pred\n",
        "  y_pred = model_0(X_train)\n",
        "\n",
        "  #2.calculate Loss\n",
        "  loss= loss_fn(y_pred,Y_train)\n",
        "\n",
        "  #3.Zero_grad 防止之前的梯度对当前步产生影响\n",
        "  optimizer.zero_grad()\n",
        "\n",
        "  #4.back prop\n",
        "  loss.backward()\n",
        "\n",
        "  #5.progress optimizer\n",
        "  optimizer.step()\n",
        "\n",
        "  model_0.eval()\n",
        "  #进入infer模式，看当前训练的参数对于训练集的效果\n",
        "  with torch.inference_mode():\n",
        "    test_pred = model_0(X_test)\n",
        "    test_loss = loss_fn(test_pred,Y_test.type(torch.float))\n",
        "    epoch_count.append(epoch)\n",
        "    train_loss_values.append(loss.detach().numpy())\n",
        "    test_loss_values.append(test_loss.detach().numpy())\n",
        "\n",
        "    print(f\"Epoch:{epoch} | Train Loss:{loss} | Test Loss:{test_loss}\")"
      ],
      "metadata": {
        "colab": {
          "base_uri": "https://localhost:8080/"
        },
        "id": "qeGopH_l5HOR",
        "outputId": "6a0f5b7e-c6a4-41b6-b623-ce2188790b1c"
      },
      "execution_count": 142,
      "outputs": [
        {
          "output_type": "stream",
          "name": "stdout",
          "text": [
            "Epoch:0 | Train Loss:1.3358044624328613 | Test Loss:2.610489845275879\n",
            "Epoch:1 | Train Loss:1.2205944061279297 | Test Loss:2.4757800102233887\n",
            "Epoch:2 | Train Loss:1.1053844690322876 | Test Loss:2.3410699367523193\n",
            "Epoch:3 | Train Loss:0.9938250780105591 | Test Loss:2.216449022293091\n",
            "Epoch:4 | Train Loss:0.9000433683395386 | Test Loss:2.097005844116211\n",
            "Epoch:5 | Train Loss:0.8182994723320007 | Test Loss:1.9881856441497803\n",
            "Epoch:6 | Train Loss:0.7505138516426086 | Test Loss:1.8903448581695557\n",
            "Epoch:7 | Train Loss:0.6957289576530457 | Test Loss:1.7981269359588623\n",
            "Epoch:8 | Train Loss:0.6484459638595581 | Test Loss:1.7116206884384155\n",
            "Epoch:9 | Train Loss:0.6080412864685059 | Test Loss:1.630915880203247\n",
            "Epoch:10 | Train Loss:0.5741841197013855 | Test Loss:1.562079668045044\n",
            "Epoch:11 | Train Loss:0.5479332804679871 | Test Loss:1.4993116855621338\n",
            "Epoch:12 | Train Loss:0.5259488821029663 | Test Loss:1.4365437030792236\n",
            "Epoch:13 | Train Loss:0.5061115026473999 | Test Loss:1.3799326419830322\n",
            "Epoch:14 | Train Loss:0.4898887574672699 | Test Loss:1.3295676708221436\n",
            "Epoch:15 | Train Loss:0.47659263014793396 | Test Loss:1.2855377197265625\n",
            "Epoch:16 | Train Loss:0.4655210077762604 | Test Loss:1.247931718826294\n",
            "Epoch:17 | Train Loss:0.45681944489479065 | Test Loss:1.2103257179260254\n",
            "Epoch:18 | Train Loss:0.44843679666519165 | Test Loss:1.1792325973510742\n",
            "Epoch:19 | Train Loss:0.44181984663009644 | Test Loss:1.1481397151947021\n",
            "Epoch:20 | Train Loss:0.4352029860019684 | Test Loss:1.117046594619751\n",
            "Epoch:21 | Train Loss:0.4294726252555847 | Test Loss:1.0925556421279907\n",
            "Epoch:22 | Train Loss:0.42442649602890015 | Test Loss:1.068064570426941\n",
            "Epoch:23 | Train Loss:0.4194580614566803 | Test Loss:1.050264596939087\n",
            "Epoch:24 | Train Loss:0.4154580533504486 | Test Loss:1.0324647426605225\n",
            "Epoch:25 | Train Loss:0.4114581048488617 | Test Loss:1.014664649963379\n",
            "Epoch:26 | Train Loss:0.4074581265449524 | Test Loss:0.9968646764755249\n",
            "Epoch:27 | Train Loss:0.4034580588340759 | Test Loss:0.9790646433830261\n",
            "Epoch:28 | Train Loss:0.399458110332489 | Test Loss:0.9612646102905273\n",
            "Epoch:29 | Train Loss:0.39583849906921387 | Test Loss:0.9502446055412292\n",
            "Epoch:30 | Train Loss:0.3923484683036804 | Test Loss:0.9392246007919312\n",
            "Epoch:31 | Train Loss:0.38885849714279175 | Test Loss:0.9282047152519226\n",
            "Epoch:32 | Train Loss:0.3853684961795807 | Test Loss:0.9171846508979797\n",
            "Epoch:33 | Train Loss:0.38187849521636963 | Test Loss:0.9061646461486816\n",
            "Epoch:34 | Train Loss:0.3783884644508362 | Test Loss:0.8951446413993835\n",
            "Epoch:35 | Train Loss:0.3748984932899475 | Test Loss:0.8841245770454407\n",
            "Epoch:36 | Train Loss:0.37140849232673645 | Test Loss:0.8731045722961426\n",
            "Epoch:37 | Train Loss:0.3679184913635254 | Test Loss:0.8620845675468445\n",
            "Epoch:38 | Train Loss:0.36442846059799194 | Test Loss:0.8510645627975464\n",
            "Epoch:39 | Train Loss:0.36093848943710327 | Test Loss:0.8400446176528931\n",
            "Epoch:40 | Train Loss:0.3574484884738922 | Test Loss:0.829024612903595\n",
            "Epoch:41 | Train Loss:0.35395848751068115 | Test Loss:0.8180044889450073\n",
            "Epoch:42 | Train Loss:0.3505355715751648 | Test Loss:0.8138534426689148\n",
            "Epoch:43 | Train Loss:0.3471064567565918 | Test Loss:0.8028334379196167\n",
            "Epoch:44 | Train Loss:0.34364548325538635 | Test Loss:0.798682451248169\n",
            "Epoch:45 | Train Loss:0.3402544856071472 | Test Loss:0.7876624464988708\n",
            "Epoch:46 | Train Loss:0.33676451444625854 | Test Loss:0.7766424417495728\n",
            "Epoch:47 | Train Loss:0.333393394947052 | Test Loss:0.7724913954734802\n",
            "Epoch:48 | Train Loss:0.3299124836921692 | Test Loss:0.7614713907241821\n",
            "Epoch:49 | Train Loss:0.32650327682495117 | Test Loss:0.7573204040527344\n",
            "Epoch:50 | Train Loss:0.32306045293807983 | Test Loss:0.7463003396987915\n",
            "Epoch:51 | Train Loss:0.31961315870285034 | Test Loss:0.7421493530273438\n",
            "Epoch:52 | Train Loss:0.31620845198631287 | Test Loss:0.7311293482780457\n",
            "Epoch:53 | Train Loss:0.3127231001853943 | Test Loss:0.7269783616065979\n",
            "Epoch:54 | Train Loss:0.3093564808368683 | Test Loss:0.7159583568572998\n",
            "Epoch:55 | Train Loss:0.3058664798736572 | Test Loss:0.7049382925033569\n",
            "Epoch:56 | Train Loss:0.30247095227241516 | Test Loss:0.7007872462272644\n",
            "Epoch:57 | Train Loss:0.29901444911956787 | Test Loss:0.6897672414779663\n",
            "Epoch:58 | Train Loss:0.2955808639526367 | Test Loss:0.6856162548065186\n",
            "Epoch:59 | Train Loss:0.2921624481678009 | Test Loss:0.6745962500572205\n",
            "Epoch:60 | Train Loss:0.2886907756328583 | Test Loss:0.6704451441764832\n",
            "Epoch:61 | Train Loss:0.28531044721603394 | Test Loss:0.6594251394271851\n",
            "Epoch:62 | Train Loss:0.28182047605514526 | Test Loss:0.6484051942825317\n",
            "Epoch:63 | Train Loss:0.27843865752220154 | Test Loss:0.6442540884017944\n",
            "Epoch:64 | Train Loss:0.2749684453010559 | Test Loss:0.6332341432571411\n",
            "Epoch:65 | Train Loss:0.2715485692024231 | Test Loss:0.6290831565856934\n",
            "Epoch:66 | Train Loss:0.26811641454696655 | Test Loss:0.6180630922317505\n",
            "Epoch:67 | Train Loss:0.26465845108032227 | Test Loss:0.6139121055603027\n",
            "Epoch:68 | Train Loss:0.261264443397522 | Test Loss:0.6028920412063599\n",
            "Epoch:69 | Train Loss:0.2577744424343109 | Test Loss:0.5918720960617065\n",
            "Epoch:70 | Train Loss:0.2544063925743103 | Test Loss:0.587721049785614\n",
            "Epoch:71 | Train Loss:0.25092244148254395 | Test Loss:0.5767010450363159\n",
            "Epoch:72 | Train Loss:0.24751624464988708 | Test Loss:0.5725499987602234\n",
            "Epoch:73 | Train Loss:0.2440704107284546 | Test Loss:0.5615299940109253\n",
            "Epoch:74 | Train Loss:0.24062617123126984 | Test Loss:0.5573789477348328\n",
            "Epoch:75 | Train Loss:0.23721842467784882 | Test Loss:0.5463589429855347\n",
            "Epoch:76 | Train Loss:0.2337360382080078 | Test Loss:0.5422078967094421\n",
            "Epoch:77 | Train Loss:0.23036643862724304 | Test Loss:0.5311878323554993\n",
            "Epoch:78 | Train Loss:0.2268764227628708 | Test Loss:0.5201679468154907\n",
            "Epoch:79 | Train Loss:0.22348396480083466 | Test Loss:0.5160169005393982\n",
            "Epoch:80 | Train Loss:0.22002443671226501 | Test Loss:0.5049968957901001\n",
            "Epoch:81 | Train Loss:0.21659386157989502 | Test Loss:0.5008457899093628\n",
            "Epoch:82 | Train Loss:0.21317243576049805 | Test Loss:0.4898258149623871\n",
            "Epoch:83 | Train Loss:0.20970375835895538 | Test Loss:0.4856748580932617\n",
            "Epoch:84 | Train Loss:0.20632043480873108 | Test Loss:0.47465476393699646\n",
            "Epoch:85 | Train Loss:0.20283040404319763 | Test Loss:0.46363478899002075\n",
            "Epoch:86 | Train Loss:0.19945165514945984 | Test Loss:0.4594837725162506\n",
            "Epoch:87 | Train Loss:0.19597841799259186 | Test Loss:0.4484637379646301\n",
            "Epoch:88 | Train Loss:0.192561537027359 | Test Loss:0.4443127512931824\n",
            "Epoch:89 | Train Loss:0.1891264170408249 | Test Loss:0.4332927167415619\n",
            "Epoch:90 | Train Loss:0.18567141890525818 | Test Loss:0.4291417598724365\n",
            "Epoch:91 | Train Loss:0.18227441608905792 | Test Loss:0.41812172532081604\n",
            "Epoch:92 | Train Loss:0.17878441512584686 | Test Loss:0.40710172057151794\n",
            "Epoch:93 | Train Loss:0.17541934549808502 | Test Loss:0.4029507040977478\n",
            "Epoch:94 | Train Loss:0.1719324141740799 | Test Loss:0.3919307291507721\n",
            "Epoch:95 | Train Loss:0.16852924227714539 | Test Loss:0.38777968287467957\n",
            "Epoch:96 | Train Loss:0.16508039832115173 | Test Loss:0.37675967812538147\n",
            "Epoch:97 | Train Loss:0.16163915395736694 | Test Loss:0.37260866165161133\n",
            "Epoch:98 | Train Loss:0.15822841227054596 | Test Loss:0.36158865690231323\n",
            "Epoch:99 | Train Loss:0.1547490507364273 | Test Loss:0.3574376702308655\n"
          ]
        }
      ]
    },
    {
      "cell_type": "code",
      "source": [
        "print(epoch_count)\n",
        "print(train_loss_values)\n",
        "\n",
        "plt.plot(epoch_count, train_loss_values, label = \"Train Loss\")\n",
        "plt.plot(epoch_count, test_loss_values, label = \"Test Loss\")\n",
        "\n",
        "plt.title(\"Training and test loss curves\")\n",
        "\n",
        "plt.ylabel(\"Loss\")\n",
        "plt.xlabel(\"Epochs\")\n",
        "\n",
        "plt.legend()"
      ],
      "metadata": {
        "colab": {
          "base_uri": "https://localhost:8080/",
          "height": 544
        },
        "id": "eIrnK-ii8caE",
        "outputId": "17583d7f-1374-4d7d-a032-5bf0f04ca014"
      },
      "execution_count": 143,
      "outputs": [
        {
          "output_type": "stream",
          "name": "stdout",
          "text": [
            "[0, 1, 2, 3, 4, 5, 6, 7, 8, 9, 10, 11, 12, 13, 14, 15, 16, 17, 18, 19, 20, 21, 22, 23, 24, 25, 26, 27, 28, 29, 30, 31, 32, 33, 34, 35, 36, 37, 38, 39, 40, 41, 42, 43, 44, 45, 46, 47, 48, 49, 50, 51, 52, 53, 54, 55, 56, 57, 58, 59, 60, 61, 62, 63, 64, 65, 66, 67, 68, 69, 70, 71, 72, 73, 74, 75, 76, 77, 78, 79, 80, 81, 82, 83, 84, 85, 86, 87, 88, 89, 90, 91, 92, 93, 94, 95, 96, 97, 98, 99]\n",
            "[array(1.3358045, dtype=float32), array(1.2205944, dtype=float32), array(1.1053845, dtype=float32), array(0.9938251, dtype=float32), array(0.90004337, dtype=float32), array(0.8182995, dtype=float32), array(0.75051385, dtype=float32), array(0.69572896, dtype=float32), array(0.64844596, dtype=float32), array(0.6080413, dtype=float32), array(0.5741841, dtype=float32), array(0.5479333, dtype=float32), array(0.5259489, dtype=float32), array(0.5061115, dtype=float32), array(0.48988876, dtype=float32), array(0.47659263, dtype=float32), array(0.465521, dtype=float32), array(0.45681944, dtype=float32), array(0.4484368, dtype=float32), array(0.44181985, dtype=float32), array(0.435203, dtype=float32), array(0.42947263, dtype=float32), array(0.4244265, dtype=float32), array(0.41945806, dtype=float32), array(0.41545805, dtype=float32), array(0.4114581, dtype=float32), array(0.40745813, dtype=float32), array(0.40345806, dtype=float32), array(0.3994581, dtype=float32), array(0.3958385, dtype=float32), array(0.39234847, dtype=float32), array(0.3888585, dtype=float32), array(0.3853685, dtype=float32), array(0.3818785, dtype=float32), array(0.37838846, dtype=float32), array(0.3748985, dtype=float32), array(0.3714085, dtype=float32), array(0.3679185, dtype=float32), array(0.36442846, dtype=float32), array(0.3609385, dtype=float32), array(0.3574485, dtype=float32), array(0.3539585, dtype=float32), array(0.35053557, dtype=float32), array(0.34710646, dtype=float32), array(0.34364548, dtype=float32), array(0.3402545, dtype=float32), array(0.3367645, dtype=float32), array(0.3333934, dtype=float32), array(0.32991248, dtype=float32), array(0.32650328, dtype=float32), array(0.32306045, dtype=float32), array(0.31961316, dtype=float32), array(0.31620845, dtype=float32), array(0.3127231, dtype=float32), array(0.30935648, dtype=float32), array(0.30586648, dtype=float32), array(0.30247095, dtype=float32), array(0.29901445, dtype=float32), array(0.29558086, dtype=float32), array(0.29216245, dtype=float32), array(0.28869078, dtype=float32), array(0.28531045, dtype=float32), array(0.28182048, dtype=float32), array(0.27843866, dtype=float32), array(0.27496845, dtype=float32), array(0.27154857, dtype=float32), array(0.2681164, dtype=float32), array(0.26465845, dtype=float32), array(0.26126444, dtype=float32), array(0.25777444, dtype=float32), array(0.2544064, dtype=float32), array(0.25092244, dtype=float32), array(0.24751624, dtype=float32), array(0.24407041, dtype=float32), array(0.24062617, dtype=float32), array(0.23721842, dtype=float32), array(0.23373604, dtype=float32), array(0.23036644, dtype=float32), array(0.22687642, dtype=float32), array(0.22348396, dtype=float32), array(0.22002444, dtype=float32), array(0.21659386, dtype=float32), array(0.21317244, dtype=float32), array(0.20970376, dtype=float32), array(0.20632043, dtype=float32), array(0.2028304, dtype=float32), array(0.19945166, dtype=float32), array(0.19597842, dtype=float32), array(0.19256154, dtype=float32), array(0.18912642, dtype=float32), array(0.18567142, dtype=float32), array(0.18227442, dtype=float32), array(0.17878442, dtype=float32), array(0.17541935, dtype=float32), array(0.17193241, dtype=float32), array(0.16852924, dtype=float32), array(0.1650804, dtype=float32), array(0.16163915, dtype=float32), array(0.15822841, dtype=float32), array(0.15474905, dtype=float32)]\n"
          ]
        },
        {
          "output_type": "execute_result",
          "data": {
            "text/plain": [
              "<matplotlib.legend.Legend at 0x7ab1d7c867a0>"
            ]
          },
          "metadata": {},
          "execution_count": 143
        },
        {
          "output_type": "display_data",
          "data": {
            "text/plain": [
              "<Figure size 640x480 with 1 Axes>"
            ],
            "image/png": "[encoded data removed]"
          },
          "metadata": {}
        }
      ]
    },
    {
      "cell_type": "markdown",
      "source": [
        "##训练模型后 ，尝试在测试集上做测试\n",
        "\n",
        "##假设已经训练好模型\n"
      ],
      "metadata": {
        "id": "GxSpDt7x0mIi"
      }
    },
    {
      "cell_type": "code",
      "source": [
        "#测试时选择最好的状态，不需要回传\n",
        "model_0.eval()\n",
        "with torch.inference_mode(): #torch.no_grad()\n",
        "  y_preds = model_0(X_test)\n",
        "\n",
        "plot_predictions(predictions = y_preds)"
      ],
      "metadata": {
        "colab": {
          "base_uri": "https://localhost:8080/",
          "height": 599
        },
        "id": "P2ToTB1W03xK",
        "outputId": "5b647a30-cff6-48cf-988a-b365ae4b7be9"
      },
      "execution_count": 144,
      "outputs": [
        {
          "output_type": "display_data",
          "data": {
            "text/plain": [
              "<Figure size 1000x700 with 1 Axes>"
            ],
            "image/png": "[encoded data removed]"
          },
          "metadata": {}
        }
      ]
    },
    {
      "cell_type": "code",
      "source": [
        "model_0.state_dict()\n"
      ],
      "metadata": {
        "colab": {
          "base_uri": "https://localhost:8080/"
        },
        "id": "NkbjvkhxG1ek",
        "outputId": "78b20bd4-552d-407c-d781-4b6c359e46cc"
      },
      "execution_count": 145,
      "outputs": [
        {
          "output_type": "execute_result",
          "data": {
            "text/plain": [
              "OrderedDict([('weights', tensor([-0.0539])), ('bias', tensor([0.6135]))])"
            ]
          },
          "metadata": {},
          "execution_count": 145
        }
      ]
    },
    {
      "cell_type": "markdown",
      "source": [
        "##保存模型\n"
      ],
      "metadata": {
        "id": "NSOuUIz3HFmH"
      }
    },
    {
      "cell_type": "code",
      "source": [
        "from pathlib import Path\n",
        "MODEL_PATH =Path(\"models\")\n",
        "\n",
        "MODEL_PATH.mkdir(parents = True,exist_ok = True)\n",
        "\n",
        "MODEL_NAME = \"02_pytorch_workflow_model_0.pth\"\n",
        "\n",
        "MODEL_SAVE_PATH = MODEL_PATH/MODEL_NAME\n",
        "MODEL_SAVE_PATH"
      ],
      "metadata": {
        "colab": {
          "base_uri": "https://localhost:8080/"
        },
        "id": "piuj2ofyHEbX",
        "outputId": "9d995e25-2334-47c8-81b8-99cc44aee348"
      },
      "execution_count": 147,
      "outputs": [
        {
          "output_type": "execute_result",
          "data": {
            "text/plain": [
              "PosixPath('models/02_pytorch_workflow_model_0.pth')"
            ]
          },
          "metadata": {},
          "execution_count": 147
        }
      ]
    },
    {
      "cell_type": "code",
      "source": [
        "#保存模型\n",
        "torch.save(obj = model_0.state_dict(), f= MODEL_SAVE_PATH)"
      ],
      "metadata": {
        "id": "56nY33l1Hvw0"
      },
      "execution_count": 148,
      "outputs": []
    },
    {
      "cell_type": "code",
      "source": [
        "loaded_model_0 = LinearRegressionModel()\n",
        "loaded_model_0.state_dict()"
      ],
      "metadata": {
        "colab": {
          "base_uri": "https://localhost:8080/"
        },
        "id": "TuBH0loeISKL",
        "outputId": "bbaa6098-4aac-40a0-d746-06c0b2d79b11"
      },
      "execution_count": 150,
      "outputs": [
        {
          "output_type": "execute_result",
          "data": {
            "text/plain": [
              "OrderedDict([('weights', tensor([-1.4555])), ('bias', tensor([-0.0126]))])"
            ]
          },
          "metadata": {},
          "execution_count": 150
        }
      ]
    },
    {
      "cell_type": "code",
      "source": [
        "loaded_model_0.load_state_dict(torch.load(f=MODEL_SAVE_PATH))\n",
        "loaded_model_0.state_dict()"
      ],
      "metadata": {
        "colab": {
          "base_uri": "https://localhost:8080/"
        },
        "id": "fEu9Gg56IcpD",
        "outputId": "568604ef-045b-4c05-8755-119c7127d6ad"
      },
      "execution_count": 151,
      "outputs": [
        {
          "output_type": "execute_result",
          "data": {
            "text/plain": [
              "OrderedDict([('weights', tensor([-0.0539])), ('bias', tensor([0.6135]))])"
            ]
          },
          "metadata": {},
          "execution_count": 151
        }
      ]
    }
  ]
}
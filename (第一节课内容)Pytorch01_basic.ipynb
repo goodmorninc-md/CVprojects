{
  "cells": [
    {
      "cell_type": "markdown",
      "metadata": {
        "id": "view-in-github",
        "colab_type": "text"
      },
      "source": [
        "<a href=\"https://colab.research.google.com/github/goodmorninc-md/CVprojects/blob/main/(%E7%AC%AC%E4%B8%80%E8%8A%82%E8%AF%BE%E5%86%85%E5%AE%B9)Pytorch01_basic.ipynb\" target=\"_parent\"><img src=\"https://colab.research.google.com/assets/colab-badge.svg\" alt=\"Open In Colab\"/></a>"
      ]
    },
    {
      "cell_type": "markdown",
      "metadata": {
        "id": "OBWfUFRuXWRC",
        "pycharm": {
          "name": "#%% md\n"
        }
      },
      "source": [
        "# 01. PyTorch 基础知识\n",
        "## PyTorch 是什么？\n",
        "[PyTorch](https://pytorch.org/)是一个开源的机器学习和深度学习框架。\n",
        "## PyTorch 能用来做什么？\n",
        "PyTorch 允许你使用 Python 代码操作和处理数据并编写机器学习算法。\n",
        "##谁在使用 PyTorch？\n",
        "世界上许多最大的技术公司，如 [Meta (Facebook)](https://ai.facebook.com/blog/pytorch-builds-the-future-of-ai-and-machine-learning-at-facebook/)、特斯拉和微软，以及人工智能研究公司，如 [OpenAI 使用 PyTorch](https://openai.com/blog/openai-pytorch/) 来支持研究并将机器学习引入其产品。\n",
        "PyTorch被广泛应用于工业和研究领域\n",
        "例如，Andrej Karpathy（特斯拉的人工智能主管）曾多次发表演讲（[PyTorch DevCon 2019](https://youtu.be/oBklltKXtDE)、[特斯拉 2021 年人工智能日](https://youtu.be/j0z4FweCy4M?t=2904)），介绍特斯拉如何使用 PyTorch 为其自动驾驶计算机视觉模型提供动力。\n",
        "\n",
        "### 为什么使用 PyTorch？\n",
        "机器学习研究人员喜欢使用 PyTorch。截至 2023 年 12 月，PyTorch 是[Papers With Code 上使用最多的深度学习框架](https://paperswithcode.com/trends)，这是一个跟踪机器学习研究论文及其所附代码库的网站。\n",
        "PyTorch 还能在幕后帮助你处理很多事情，比如 GPU 加速（让你的代码运行得更快）。\n",
        "因此，你可以专注于操作数据和编写算法，PyTorch 会确保其快速运行。\n",
        "如果特斯拉和 Meta（Facebook）等公司使用 PyTorch 构建模型，并将其部署到数百个应用程序、数千辆汽车和数十亿人面前，那么 PyTorch 显然也能胜任开发工作。\n",
        "\n",
        "本节课涉及到的内容如下：\n",
        "\n",
        "|**主题**|**内容**|\n",
        "| ----- | ----- |\n",
        "|**张量介绍**|张量是所有机器学习和深度学习的基本构件。|\n",
        "|**创建张量** | 张量几乎可以表示任何类型的数据（图像、文字、数字表）。|\n",
        "| **从张量中获取信息** | 如果你能将信息放入张量中，你也会想把它取出来。|\n",
        "| **操纵张量** | 机器学习算法（如神经网络）涉及以多种不同方式操纵张量，如加法、乘法、组合等。|\n",
        "| **处理张量形状** | 机器学习中最常见的问题之一是处理形状不匹配（试图将错误形状的张量与其他张量混合）。|\n",
        "| **在张量上建立索引** | 如果你在 Python 列表或 NumPy 数组上建立过索引，那么它与张量非常相似，只不过张量的维度要多得多。\n",
        "|**混合 PyTorch 张量和 NumPy**| PyTorch 使用张量（[`torch.Tensor`](https://pytorch.org/docs/stable/tensors.html)），NumPy 喜欢数组（[`np.ndarray`](https://numpy.org/doc/stable/reference/generated/numpy.ndarray.html)），有时你会想混合和匹配它们。\n",
        "| **可重复性**| 机器学习非常具有实验性，由于它使用大量*随机性*来工作，有时你会希望*随机性*不要那么随机。|\n",
        "| **在 GPU 上运行张量** | GPU（图形处理器）能让你的代码更快，PyTorch 能让你在 GPU 上轻松运行代码。|\n"
      ]
    },
    {
      "cell_type": "markdown",
      "metadata": {
        "id": "mv4XWE8db2O0",
        "pycharm": {
          "name": "#%% md\n"
        }
      },
      "source": [
        "### Import Pytorch"
      ]
    },
    {
      "cell_type": "code",
      "execution_count": 230,
      "metadata": {
        "id": "Vjd-IXlZXXoz",
        "pycharm": {
          "name": "#%%\n"
        }
      },
      "outputs": [],
      "source": [
        "import torch"
      ]
    },
    {
      "cell_type": "code",
      "execution_count": 231,
      "metadata": {
        "colab": {
          "base_uri": "https://localhost:8080/",
          "height": 35
        },
        "id": "DQWUXtnyb8xu",
        "outputId": "48037855-19a2-4e54-b491-a20a214def8a",
        "pycharm": {
          "name": "#%%\n"
        }
      },
      "outputs": [
        {
          "output_type": "execute_result",
          "data": {
            "text/plain": [
              "'2.2.1+cu121'"
            ],
            "application/vnd.google.colaboratory.intrinsic+json": {
              "type": "string"
            }
          },
          "metadata": {},
          "execution_count": 231
        }
      ],
      "source": [
        "torch.__version__"
      ]
    },
    {
      "cell_type": "markdown",
      "metadata": {
        "id": "ME5YiU97dOqS",
        "pycharm": {
          "name": "#%% md\n"
        }
      },
      "source": [
        "### 什么是张量(Tensor)"
      ]
    },
    {
      "cell_type": "markdown",
      "metadata": {
        "id": "RcGZ8fvUdc5r",
        "pycharm": {
          "name": "#%% md\n"
        }
      },
      "source": [
        "一张图片就可以是一个Tensor, [3, 224, 224] --> [colour_channels, height, width], pixels\n",
        "3是指rbg,3*224*224层\n",
        "\n",
        "计算机中不管是图片，还是视频，还是文本，归根到底，就是数字"
      ]
    },
    {
      "cell_type": "markdown",
      "metadata": {
        "id": "LZhSDMNxfLGI",
        "pycharm": {
          "name": "#%% md\n"
        }
      },
      "source": [
        "### 创建一个tensor"
      ]
    },
    {
      "cell_type": "markdown",
      "metadata": {
        "id": "8C3hAPRUg3rX",
        "pycharm": {
          "name": "#%% md\n"
        }
      },
      "source": [
        "#### Scalar"
      ]
    },
    {
      "cell_type": "code",
      "execution_count": 232,
      "metadata": {
        "id": "ndwdOjnxdSaK",
        "pycharm": {
          "name": "#%%\n"
        }
      },
      "outputs": [],
      "source": [
        "scalar = torch.tensor(6)  #0维的一个数字，可以看成一个标量"
      ]
    },
    {
      "cell_type": "code",
      "execution_count": 233,
      "metadata": {
        "colab": {
          "base_uri": "https://localhost:8080/"
        },
        "id": "zk0f6pxMfjP5",
        "outputId": "0c94e904-4159-4d7a-afbd-2d3b75b0a6a4",
        "pycharm": {
          "name": "#%%\n"
        }
      },
      "outputs": [
        {
          "output_type": "execute_result",
          "data": {
            "text/plain": [
              "tensor(6)"
            ]
          },
          "metadata": {},
          "execution_count": 233
        }
      ],
      "source": [
        "scalar"
      ]
    },
    {
      "cell_type": "code",
      "execution_count": 234,
      "metadata": {
        "colab": {
          "base_uri": "https://localhost:8080/"
        },
        "id": "ND0vsx4zflsd",
        "outputId": "0c48626a-a754-4b6b-da48-a967c7db5e20",
        "pycharm": {
          "name": "#%%\n"
        }
      },
      "outputs": [
        {
          "output_type": "execute_result",
          "data": {
            "text/plain": [
              "0"
            ]
          },
          "metadata": {},
          "execution_count": 234
        }
      ],
      "source": [
        "scalar.ndim #看scalar的维度 n_dimension"
      ]
    },
    {
      "cell_type": "code",
      "execution_count": 235,
      "metadata": {
        "colab": {
          "base_uri": "https://localhost:8080/"
        },
        "id": "gLGg-eE5fxCV",
        "outputId": "fc9e4cd4-f6e4-41b4-cbd9-695bf509a333",
        "pycharm": {
          "name": "#%%\n"
        }
      },
      "outputs": [
        {
          "output_type": "execute_result",
          "data": {
            "text/plain": [
              "1"
            ]
          },
          "metadata": {},
          "execution_count": 235
        }
      ],
      "source": [
        "a = 1\n",
        "a"
      ]
    },
    {
      "cell_type": "code",
      "execution_count": 236,
      "metadata": {
        "id": "iUfLGGVrf4Z8",
        "pycharm": {
          "name": "#%%\n"
        }
      },
      "outputs": [],
      "source": [
        "scalar_int = scalar.item()"
      ]
    },
    {
      "cell_type": "code",
      "execution_count": 237,
      "metadata": {
        "colab": {
          "base_uri": "https://localhost:8080/"
        },
        "id": "1HCZvfOwgVwk",
        "outputId": "64e039d7-887d-40e0-b9d1-dac7c81530a0",
        "pycharm": {
          "name": "#%%\n"
        }
      },
      "outputs": [
        {
          "output_type": "execute_result",
          "data": {
            "text/plain": [
              "tensor(6)"
            ]
          },
          "metadata": {},
          "execution_count": 237
        }
      ],
      "source": [
        "scalar\n",
        "\n",
        "# A. tensor(6)\n",
        "# B. 6"
      ]
    },
    {
      "cell_type": "markdown",
      "metadata": {
        "id": "pdRNwMz0jwuG",
        "pycharm": {
          "name": "#%% md\n"
        }
      },
      "source": []
    },
    {
      "cell_type": "code",
      "execution_count": 238,
      "metadata": {
        "colab": {
          "base_uri": "https://localhost:8080/"
        },
        "id": "iE4MRlNAgqg5",
        "outputId": "2e7b816a-7a49-4ff9-ddef-f823eac22fbc",
        "pycharm": {
          "name": "#%%\n"
        }
      },
      "outputs": [
        {
          "output_type": "execute_result",
          "data": {
            "text/plain": [
              "6"
            ]
          },
          "metadata": {},
          "execution_count": 238
        }
      ],
      "source": [
        "scalar_int"
      ]
    },
    {
      "cell_type": "code",
      "execution_count": 239,
      "metadata": {
        "colab": {
          "base_uri": "https://localhost:8080/"
        },
        "id": "UAsqs7jegsjY",
        "outputId": "ee917936-df3f-4c32-d782-191105eaacaa",
        "pycharm": {
          "name": "#%%\n"
        }
      },
      "outputs": [
        {
          "output_type": "execute_result",
          "data": {
            "text/plain": [
              "int"
            ]
          },
          "metadata": {},
          "execution_count": 239
        }
      ],
      "source": [
        "type(scalar_int)"
      ]
    },
    {
      "cell_type": "markdown",
      "metadata": {
        "id": "AK9h2P-Hg7v_",
        "pycharm": {
          "name": "#%% md\n"
        }
      },
      "source": [
        "#### Vector"
      ]
    },
    {
      "cell_type": "code",
      "execution_count": 240,
      "metadata": {
        "id": "hIMLVAe-guij",
        "pycharm": {
          "name": "#%%\n"
        }
      },
      "outputs": [],
      "source": [
        "# Vector 是 一维的Tensor"
      ]
    },
    {
      "cell_type": "markdown",
      "metadata": {
        "id": "QxKyX98ahQaa",
        "pycharm": {
          "name": "#%% md\n"
        }
      },
      "source": []
    },
    {
      "cell_type": "code",
      "execution_count": 241,
      "metadata": {
        "id": "03qYsYv6hDip",
        "pycharm": {
          "name": "#%%\n"
        }
      },
      "outputs": [],
      "source": [
        "vector = torch.tensor([7, 7])"
      ]
    },
    {
      "cell_type": "code",
      "execution_count": 242,
      "metadata": {
        "colab": {
          "base_uri": "https://localhost:8080/"
        },
        "id": "WDezapuRhH3y",
        "outputId": "697df3d9-1d52-4a63-b9cb-922f2a5117bf",
        "pycharm": {
          "name": "#%%\n"
        }
      },
      "outputs": [
        {
          "output_type": "execute_result",
          "data": {
            "text/plain": [
              "tensor([7, 7])"
            ]
          },
          "metadata": {},
          "execution_count": 242
        }
      ],
      "source": [
        "vector"
      ]
    },
    {
      "cell_type": "code",
      "execution_count": 243,
      "metadata": {
        "colab": {
          "base_uri": "https://localhost:8080/"
        },
        "id": "2oHTdi4shJFx",
        "outputId": "c2b9cc15-57b3-4837-c349-db60109166d8",
        "pycharm": {
          "name": "#%%\n"
        }
      },
      "outputs": [
        {
          "output_type": "execute_result",
          "data": {
            "text/plain": [
              "1"
            ]
          },
          "metadata": {},
          "execution_count": 243
        }
      ],
      "source": [
        "vector.ndim"
      ]
    },
    {
      "cell_type": "code",
      "execution_count": 244,
      "metadata": {
        "colab": {
          "base_uri": "https://localhost:8080/"
        },
        "id": "2Hr1cASmhS2B",
        "outputId": "f30e7a47-9d82-45ff-b2b8-630499d9b971",
        "pycharm": {
          "name": "#%%\n"
        }
      },
      "outputs": [
        {
          "output_type": "execute_result",
          "data": {
            "text/plain": [
              "torch.Size([2])"
            ]
          },
          "metadata": {},
          "execution_count": 244
        }
      ],
      "source": [
        "vector.shape"
      ]
    },
    {
      "cell_type": "code",
      "execution_count": 245,
      "metadata": {
        "id": "3g6v9zxEhVO8",
        "pycharm": {
          "name": "#%%\n"
        }
      },
      "outputs": [],
      "source": [
        "vector = torch.tensor([[7, 7]])"
      ]
    },
    {
      "cell_type": "code",
      "execution_count": 246,
      "metadata": {
        "colab": {
          "base_uri": "https://localhost:8080/"
        },
        "id": "SZXhhKd5haEA",
        "outputId": "c473feb2-7a6d-469e-a05b-7b5cd0854baa",
        "pycharm": {
          "name": "#%%\n"
        }
      },
      "outputs": [
        {
          "output_type": "execute_result",
          "data": {
            "text/plain": [
              "torch.Size([1, 2])"
            ]
          },
          "metadata": {},
          "execution_count": 246
        }
      ],
      "source": [
        "vector.shape"
      ]
    },
    {
      "cell_type": "code",
      "execution_count": 246,
      "metadata": {
        "id": "dVF1yr9bha2O",
        "pycharm": {
          "name": "#%%\n"
        }
      },
      "outputs": [],
      "source": []
    },
    {
      "cell_type": "markdown",
      "metadata": {
        "id": "lO_iaXLkiDRZ",
        "pycharm": {
          "name": "#%% md\n"
        }
      },
      "source": [
        "#### Matrix"
      ]
    },
    {
      "cell_type": "code",
      "execution_count": 247,
      "metadata": {
        "id": "XdplMXgGiHoA",
        "pycharm": {
          "name": "#%%\n"
        }
      },
      "outputs": [],
      "source": [
        "MATRIX = torch.tensor([[7,8],[9,10]])"
      ]
    },
    {
      "cell_type": "code",
      "execution_count": 248,
      "metadata": {
        "colab": {
          "base_uri": "https://localhost:8080/"
        },
        "id": "xprezo-jiPtw",
        "outputId": "8b3c92ea-44c2-426f-d3d8-1717f38971f4",
        "pycharm": {
          "name": "#%%\n"
        }
      },
      "outputs": [
        {
          "output_type": "execute_result",
          "data": {
            "text/plain": [
              "tensor([[ 7,  8],\n",
              "        [ 9, 10]])"
            ]
          },
          "metadata": {},
          "execution_count": 248
        }
      ],
      "source": [
        "MATRIX"
      ]
    },
    {
      "cell_type": "code",
      "execution_count": 249,
      "metadata": {
        "colab": {
          "base_uri": "https://localhost:8080/"
        },
        "id": "mKIGZVFFiQ_E",
        "outputId": "5bf461a9-cb96-4181-b3c0-a2c9cc60c7b4",
        "pycharm": {
          "name": "#%%\n"
        }
      },
      "outputs": [
        {
          "output_type": "execute_result",
          "data": {
            "text/plain": [
              "2"
            ]
          },
          "metadata": {},
          "execution_count": 249
        }
      ],
      "source": [
        "MATRIX.ndim"
      ]
    },
    {
      "cell_type": "code",
      "execution_count": 250,
      "metadata": {
        "colab": {
          "base_uri": "https://localhost:8080/"
        },
        "id": "jV1w2DG3iX6Y",
        "outputId": "24155883-5e35-4720-9338-29ba45b2b5c8",
        "pycharm": {
          "name": "#%%\n"
        }
      },
      "outputs": [
        {
          "output_type": "execute_result",
          "data": {
            "text/plain": [
              "torch.Size([2, 2])"
            ]
          },
          "metadata": {},
          "execution_count": 250
        }
      ],
      "source": [
        "MATRIX.shape"
      ]
    },
    {
      "cell_type": "code",
      "execution_count": 250,
      "metadata": {
        "id": "Xx3rZLSOiaAb",
        "pycharm": {
          "name": "#%%\n"
        }
      },
      "outputs": [],
      "source": []
    },
    {
      "cell_type": "markdown",
      "metadata": {
        "id": "fO6sRsL3imrO",
        "pycharm": {
          "name": "#%% md\n"
        }
      },
      "source": [
        "#### Tensor n>=3\n"
      ]
    },
    {
      "cell_type": "code",
      "execution_count": 251,
      "metadata": {
        "id": "lJFXoK68ioGL",
        "pycharm": {
          "name": "#%%\n"
        }
      },
      "outputs": [],
      "source": [
        "TENSOR = torch.tensor([[[1,2,3],[4,5,6],[7,8,9]]])"
      ]
    },
    {
      "cell_type": "code",
      "execution_count": 252,
      "metadata": {
        "colab": {
          "base_uri": "https://localhost:8080/"
        },
        "id": "mRGSGuApiyHI",
        "outputId": "2081a644-9f19-481d-9f13-66f6e5bae2f7",
        "pycharm": {
          "name": "#%%\n"
        }
      },
      "outputs": [
        {
          "output_type": "execute_result",
          "data": {
            "text/plain": [
              "torch.Size([1, 3, 3])"
            ]
          },
          "metadata": {},
          "execution_count": 252
        }
      ],
      "source": [
        "TENSOR.shape  #最外层的中括号不用看，看每一层（直到最里层中括号）有多少个元素"
      ]
    },
    {
      "cell_type": "markdown",
      "metadata": {
        "id": "nRFJ2uoJjyBS",
        "pycharm": {
          "name": "#%% md\n"
        }
      },
      "source": [
        "### Random Tensors"
      ]
    },
    {
      "cell_type": "code",
      "execution_count": 253,
      "metadata": {
        "id": "CdFoYZiPjC4K",
        "pycharm": {
          "name": "#%%\n"
        }
      },
      "outputs": [],
      "source": [
        "random_tensor = torch.rand(size=(3,4))"
      ]
    },
    {
      "cell_type": "code",
      "execution_count": 254,
      "metadata": {
        "colab": {
          "base_uri": "https://localhost:8080/"
        },
        "id": "UBDKRxy_kUSO",
        "outputId": "24c6bd9b-b779-439c-9846-1d4320d7bc69",
        "pycharm": {
          "name": "#%%\n"
        }
      },
      "outputs": [
        {
          "output_type": "execute_result",
          "data": {
            "text/plain": [
              "tensor([[0.4148, 0.9271, 0.4203, 0.3157],\n",
              "        [0.2647, 0.7626, 0.7474, 0.1382],\n",
              "        [0.0682, 0.6157, 0.6553, 0.6562]])"
            ]
          },
          "metadata": {},
          "execution_count": 254
        }
      ],
      "source": [
        "random_tensor"
      ]
    },
    {
      "cell_type": "code",
      "execution_count": 255,
      "metadata": {
        "colab": {
          "base_uri": "https://localhost:8080/"
        },
        "id": "Y_qS84T5kVyz",
        "outputId": "e65843ff-053b-4031-eb97-dde26855ce9c",
        "pycharm": {
          "name": "#%%\n"
        }
      },
      "outputs": [
        {
          "output_type": "execute_result",
          "data": {
            "text/plain": [
              "torch.Size([3, 4])"
            ]
          },
          "metadata": {},
          "execution_count": 255
        }
      ],
      "source": [
        "random_tensor.shape"
      ]
    },
    {
      "cell_type": "code",
      "execution_count": 256,
      "metadata": {
        "id": "DwYyfvhakYI3",
        "pycharm": {
          "name": "#%%\n"
        }
      },
      "outputs": [],
      "source": [
        "random_tensor = torch.rand(size=(3,4))"
      ]
    },
    {
      "cell_type": "code",
      "execution_count": 257,
      "metadata": {
        "colab": {
          "base_uri": "https://localhost:8080/"
        },
        "id": "3GNmeYuqke0r",
        "outputId": "25c6ab17-4274-496e-f53d-a1f67fed41a1",
        "pycharm": {
          "name": "#%%\n"
        }
      },
      "outputs": [
        {
          "output_type": "execute_result",
          "data": {
            "text/plain": [
              "tensor([[0.5310, 0.1103, 0.3368, 0.9681],\n",
              "        [0.8205, 0.8183, 0.3061, 0.8058],\n",
              "        [0.8653, 0.1961, 0.4908, 0.8624]])"
            ]
          },
          "metadata": {},
          "execution_count": 257
        }
      ],
      "source": [
        "random_tensor"
      ]
    },
    {
      "cell_type": "code",
      "execution_count": 258,
      "metadata": {
        "id": "cZoizPIukfBq",
        "pycharm": {
          "name": "#%%\n"
        }
      },
      "outputs": [],
      "source": [
        "random_image_size_tensor = torch.rand(size=(3,224,224))"
      ]
    },
    {
      "cell_type": "code",
      "execution_count": 259,
      "metadata": {
        "colab": {
          "base_uri": "https://localhost:8080/"
        },
        "id": "T-ZhWr5fkpWz",
        "outputId": "1ab13b81-e797-4ec8-b9b1-fd398ace9788",
        "pycharm": {
          "name": "#%%\n"
        }
      },
      "outputs": [
        {
          "output_type": "execute_result",
          "data": {
            "text/plain": [
              "tensor([[[0.2774, 0.4980, 0.4531,  ..., 0.0765, 0.8243, 0.7990],\n",
              "         [0.3058, 0.8227, 0.6812,  ..., 0.2000, 0.5401, 0.2724],\n",
              "         [0.8465, 0.3701, 0.4944,  ..., 0.8453, 0.2542, 0.6758],\n",
              "         ...,\n",
              "         [0.1297, 0.3321, 0.2141,  ..., 0.0570, 0.7292, 0.1909],\n",
              "         [0.8205, 0.5774, 0.2676,  ..., 0.9902, 0.3087, 0.1581],\n",
              "         [0.3308, 0.2183, 0.8310,  ..., 0.0574, 0.4852, 0.6464]],\n",
              "\n",
              "        [[0.7753, 0.0538, 0.8131,  ..., 0.5042, 0.0860, 0.0645],\n",
              "         [0.2495, 0.1170, 0.9119,  ..., 0.4525, 0.6792, 0.9947],\n",
              "         [0.0027, 0.4502, 0.3105,  ..., 0.3335, 0.9545, 0.8679],\n",
              "         ...,\n",
              "         [0.1085, 0.6352, 0.1721,  ..., 0.8688, 0.9414, 0.5426],\n",
              "         [0.7987, 0.9711, 0.1871,  ..., 0.3187, 0.8400, 0.8402],\n",
              "         [0.8828, 0.0418, 0.6746,  ..., 0.9036, 0.5836, 0.0772]],\n",
              "\n",
              "        [[0.4209, 0.8834, 0.3797,  ..., 0.5583, 0.9178, 0.8614],\n",
              "         [0.7689, 0.1373, 0.3754,  ..., 0.5524, 0.2434, 0.7621],\n",
              "         [0.5886, 0.9430, 0.9503,  ..., 0.0891, 0.6267, 0.6535],\n",
              "         ...,\n",
              "         [0.3884, 0.3557, 0.9056,  ..., 0.6891, 0.8223, 0.6609],\n",
              "         [0.5127, 0.0548, 0.9352,  ..., 0.5794, 0.0556, 0.4619],\n",
              "         [0.4054, 0.2343, 0.6815,  ..., 0.4206, 0.4924, 0.6151]]])"
            ]
          },
          "metadata": {},
          "execution_count": 259
        }
      ],
      "source": [
        "random_image_size_tensor"
      ]
    },
    {
      "cell_type": "code",
      "execution_count": 260,
      "metadata": {
        "colab": {
          "base_uri": "https://localhost:8080/"
        },
        "id": "-7QVI3JvkqOp",
        "outputId": "14fc4f54-9a42-44ae-e062-fd8869fa0636",
        "pycharm": {
          "name": "#%%\n"
        }
      },
      "outputs": [
        {
          "output_type": "stream",
          "name": "stdout",
          "text": [
            "tensor([0.5859, 0.5627, 0.7510, 0.9620, 0.1438, 0.0864, 0.4993, 0.6414, 0.9840,\n",
            "        0.8416])\n",
            "tensor([-0.4991, -0.8856, -0.5378,  0.2669,  0.9815,  1.1473, -0.9648,  0.2617,\n",
            "        -1.0859,  0.7128])\n",
            "tensor([0.6131, 0.6775, 0.9529, 0.1499, 0.5432, 0.4801, 0.2162, 0.1232, 0.4014,\n",
            "        0.3152])\n",
            "tensor([ 0.4302,  0.4839,  2.3135,  0.5313, -0.8276,  1.5721, -0.0623, -1.4502,\n",
            "         1.4605, -0.5541])\n",
            "tensor([0.0393, 0.3571, 0.9467, 0.2209, 0.4449, 0.2943, 0.9959, 0.0391, 0.7170,\n",
            "        0.8279])\n",
            "tensor([-1.1008,  0.7188,  1.0767,  0.7997,  0.6309,  0.7763, -0.5473,  1.1944,\n",
            "        -0.3260, -0.8638])\n",
            "tensor([0.1340, 0.8106, 0.8159, 0.0824, 0.1696, 0.7821, 0.4116, 0.3511, 0.6939,\n",
            "        0.0909])\n",
            "tensor([ 0.8234,  0.6193, -0.7181,  0.1328, -0.1360,  0.4459, -1.6081, -0.2750,\n",
            "         1.0796, -0.9089])\n",
            "tensor([0.3066, 0.0064, 0.8465, 0.7615, 0.7168, 0.0332, 0.6103, 0.3054, 0.8744,\n",
            "        0.4205])\n",
            "tensor([-1.4002,  0.7716, -0.7062,  1.4212,  2.2234, -1.1102,  1.1823, -0.1254,\n",
            "        -1.4914, -0.8088])\n",
            "tensor([0.6867, 0.2010, 0.9745, 0.2669, 0.7903, 0.2229, 0.2193, 0.3015, 0.1559,\n",
            "        0.1018])\n",
            "tensor([-0.2864, -0.1051, -2.2192,  0.0815, -1.7440, -1.6009,  0.5852,  0.6009,\n",
            "        -0.1211, -0.8506])\n",
            "tensor([0.3479, 0.7180, 0.0274, 0.1674, 0.5026, 0.3421, 0.1745, 0.3657, 0.3127,\n",
            "        0.2490])\n",
            "tensor([-1.4754, -1.2925, -0.7235, -0.7934,  2.0922,  0.6795,  1.0221, -0.5243,\n",
            "        -0.8453,  1.4931])\n",
            "tensor([0.5609, 0.7174, 0.3401, 0.1940, 0.3739, 0.9752, 0.7362, 0.3254, 0.2062,\n",
            "        0.8779])\n",
            "tensor([ 1.1893,  0.7188,  0.0804, -1.0079,  0.7411,  0.3125,  1.3442, -0.9274,\n",
            "        -0.9609, -1.1058])\n",
            "tensor([0.4642, 0.8001, 0.9713, 0.5255, 0.7939, 0.5789, 0.0027, 0.9984, 0.7432,\n",
            "        0.4074])\n",
            "tensor([-1.4248, -0.2232, -1.3757,  1.3420, -1.2918, -1.1662, -0.1011, -1.1989,\n",
            "         0.2906, -0.6672])\n",
            "tensor([0.1508, 0.5152, 0.2203, 0.2994, 0.8675, 0.0067, 0.8454, 0.7964, 0.1973,\n",
            "        0.3017])\n",
            "tensor([ 0.0941,  1.0023,  0.0266, -0.6365, -0.3324,  0.0486,  0.8580,  1.2195,\n",
            "        -0.4990,  0.6645])\n"
          ]
        }
      ],
      "source": [
        "for _ in range(10):\n",
        "  rand_tensor = torch.rand((10))  #生成的数都大于0\n",
        "  randn_tensor = torch.randn(10)  #生成的数符合标准正态分布\n",
        "  print(rand_tensor)\n",
        "  print(randn_tensor)"
      ]
    },
    {
      "cell_type": "code",
      "execution_count": 260,
      "metadata": {
        "id": "GIHXU0valUGH",
        "pycharm": {
          "name": "#%%\n"
        }
      },
      "outputs": [],
      "source": []
    },
    {
      "cell_type": "markdown",
      "metadata": {
        "id": "Rc54aDVwn7aT",
        "pycharm": {
          "name": "#%% md\n"
        }
      },
      "source": [
        "### Tensor运算"
      ]
    },
    {
      "cell_type": "code",
      "execution_count": 261,
      "metadata": {
        "id": "4GswUnkSn81G",
        "pycharm": {
          "name": "#%%\n"
        }
      },
      "outputs": [],
      "source": [
        "tensor = torch.tensor([1,2,3])"
      ]
    },
    {
      "cell_type": "code",
      "execution_count": 262,
      "metadata": {
        "colab": {
          "base_uri": "https://localhost:8080/"
        },
        "id": "dHGsmF1foMRK",
        "outputId": "18a66b40-595a-46d2-ad91-8732e674af02",
        "pycharm": {
          "name": "#%%\n"
        }
      },
      "outputs": [
        {
          "output_type": "execute_result",
          "data": {
            "text/plain": [
              "tensor([1, 2, 3])"
            ]
          },
          "metadata": {},
          "execution_count": 262
        }
      ],
      "source": [
        "tensor"
      ]
    },
    {
      "cell_type": "code",
      "execution_count": 263,
      "metadata": {
        "id": "4AsBur3ioMoF",
        "pycharm": {
          "name": "#%%\n"
        }
      },
      "outputs": [],
      "source": [
        "tensor = tensor + 10  #逐元素相加"
      ]
    },
    {
      "cell_type": "code",
      "execution_count": 264,
      "metadata": {
        "colab": {
          "base_uri": "https://localhost:8080/"
        },
        "id": "Q2aCarTXoOEP",
        "outputId": "4a7326c0-c632-4dbe-9798-d7ea3faa7cf0",
        "pycharm": {
          "name": "#%%\n"
        }
      },
      "outputs": [
        {
          "output_type": "execute_result",
          "data": {
            "text/plain": [
              "tensor([11, 12, 13])"
            ]
          },
          "metadata": {},
          "execution_count": 264
        }
      ],
      "source": [
        "tensor\n",
        "# tensor(?)\n"
      ]
    },
    {
      "cell_type": "code",
      "execution_count": 265,
      "metadata": {
        "colab": {
          "base_uri": "https://localhost:8080/"
        },
        "id": "UlSg6xRWoV4T",
        "outputId": "7917b128-ff7f-4d61-f6c6-b9189ddc59ee",
        "pycharm": {
          "name": "#%%\n"
        }
      },
      "outputs": [
        {
          "output_type": "execute_result",
          "data": {
            "text/plain": [
              "tensor([110, 120, 130])"
            ]
          },
          "metadata": {},
          "execution_count": 265
        }
      ],
      "source": [
        "tensor = tensor * 10\n",
        "tensor"
      ]
    },
    {
      "cell_type": "code",
      "execution_count": 266,
      "metadata": {
        "id": "D_mTYmPZour3",
        "pycharm": {
          "name": "#%%\n"
        }
      },
      "outputs": [],
      "source": [
        "tensorA = torch.tensor([1,4,7])"
      ]
    },
    {
      "cell_type": "code",
      "source": [
        "tensorA.shape"
      ],
      "metadata": {
        "colab": {
          "base_uri": "https://localhost:8080/"
        },
        "id": "pgT-fKpmxoT8",
        "outputId": "47d19b71-70bc-4f9b-f284-1a4e2c68c37b"
      },
      "execution_count": 267,
      "outputs": [
        {
          "output_type": "execute_result",
          "data": {
            "text/plain": [
              "torch.Size([3])"
            ]
          },
          "metadata": {},
          "execution_count": 267
        }
      ]
    },
    {
      "cell_type": "code",
      "execution_count": 268,
      "metadata": {
        "id": "AcV0Rqsio65o",
        "pycharm": {
          "name": "#%%\n"
        }
      },
      "outputs": [],
      "source": [
        "tensorB = torch.tensor([2,5,8])"
      ]
    },
    {
      "cell_type": "code",
      "execution_count": 269,
      "metadata": {
        "colab": {
          "base_uri": "https://localhost:8080/"
        },
        "id": "ZzBRycluo9XH",
        "outputId": "63496909-e81e-4ba8-89eb-ad2b4d5b222a",
        "pycharm": {
          "name": "#%%\n"
        }
      },
      "outputs": [
        {
          "output_type": "execute_result",
          "data": {
            "text/plain": [
              "tensor([ 2, 20, 56])"
            ]
          },
          "metadata": {},
          "execution_count": 269
        }
      ],
      "source": [
        "tensorB * tensorA #对应元素相乘"
      ]
    },
    {
      "cell_type": "code",
      "execution_count": 270,
      "metadata": {
        "id": "uXBmd__fpDze",
        "pycharm": {
          "name": "#%%\n"
        }
      },
      "outputs": [],
      "source": [
        "# Broadcast 广播机制"
      ]
    },
    {
      "cell_type": "code",
      "execution_count": 271,
      "metadata": {
        "id": "fkgxH1NgpVRF",
        "pycharm": {
          "name": "#%%\n"
        }
      },
      "outputs": [],
      "source": [
        "# 矩阵乘法 (a, b) (b, c)"
      ]
    },
    {
      "cell_type": "code",
      "execution_count": 272,
      "metadata": {
        "colab": {
          "base_uri": "https://localhost:8080/"
        },
        "id": "O3DbJo0upYBB",
        "outputId": "b4d1841b-8bd9-43a0-8d96-c7bd449392ee",
        "pycharm": {
          "name": "#%%\n"
        }
      },
      "outputs": [
        {
          "output_type": "execute_result",
          "data": {
            "text/plain": [
              "tensor(78)"
            ]
          },
          "metadata": {},
          "execution_count": 272
        }
      ],
      "source": [
        "tensorA @ tensorB"
      ]
    },
    {
      "cell_type": "code",
      "execution_count": 273,
      "metadata": {
        "id": "V4ZlKOF2poW8",
        "pycharm": {
          "name": "#%%\n"
        }
      },
      "outputs": [],
      "source": [
        "MATRIXA = torch.tensor([[1,2],[3,4]])"
      ]
    },
    {
      "cell_type": "code",
      "execution_count": 274,
      "metadata": {
        "id": "aVBKaESpp0PN",
        "pycharm": {
          "name": "#%%\n"
        }
      },
      "outputs": [],
      "source": [
        "MATRIXB = torch.tensor([[1,1],[1,2]])"
      ]
    },
    {
      "cell_type": "code",
      "source": [
        "MATRIXA.shape"
      ],
      "metadata": {
        "colab": {
          "base_uri": "https://localhost:8080/"
        },
        "id": "C76_EL-5yUV5",
        "outputId": "7c1a5868-45cb-4b16-c406-dc3e5057c6c5"
      },
      "execution_count": 275,
      "outputs": [
        {
          "output_type": "execute_result",
          "data": {
            "text/plain": [
              "torch.Size([2, 2])"
            ]
          },
          "metadata": {},
          "execution_count": 275
        }
      ]
    },
    {
      "cell_type": "code",
      "execution_count": 276,
      "metadata": {
        "colab": {
          "base_uri": "https://localhost:8080/"
        },
        "id": "EXu70aRzp4dF",
        "outputId": "8c7d5aef-81e2-414e-957a-dbb1a0902bb9",
        "pycharm": {
          "name": "#%%\n"
        }
      },
      "outputs": [
        {
          "output_type": "execute_result",
          "data": {
            "text/plain": [
              "tensor([[ 3,  5],\n",
              "        [ 7, 11]])"
            ]
          },
          "metadata": {},
          "execution_count": 276
        }
      ],
      "source": [
        "MATRIXA @ MATRIXB"
      ]
    },
    {
      "cell_type": "code",
      "execution_count": 277,
      "metadata": {
        "colab": {
          "base_uri": "https://localhost:8080/"
        },
        "id": "nKZmrJDlp7Ve",
        "outputId": "30d379ba-0f8a-4521-ff9a-a9a68f8db6dd",
        "pycharm": {
          "name": "#%%\n"
        }
      },
      "outputs": [
        {
          "output_type": "execute_result",
          "data": {
            "text/plain": [
              "tensor([[1, 2],\n",
              "        [3, 4]])"
            ]
          },
          "metadata": {},
          "execution_count": 277
        }
      ],
      "source": [
        "MATRIXA"
      ]
    },
    {
      "cell_type": "code",
      "execution_count": 278,
      "metadata": {
        "colab": {
          "base_uri": "https://localhost:8080/"
        },
        "id": "50XpM3H-p9Bz",
        "outputId": "a079f9be-bf33-4971-9129-194bc97dcefe",
        "pycharm": {
          "name": "#%%\n"
        }
      },
      "outputs": [
        {
          "output_type": "execute_result",
          "data": {
            "text/plain": [
              "tensor([[1, 1],\n",
              "        [1, 2]])"
            ]
          },
          "metadata": {},
          "execution_count": 278
        }
      ],
      "source": [
        "MATRIXB"
      ]
    },
    {
      "cell_type": "code",
      "execution_count": 279,
      "metadata": {
        "colab": {
          "base_uri": "https://localhost:8080/"
        },
        "id": "q9WC82aGp998",
        "outputId": "3d544725-da7e-4597-fda1-4d9a40faa395",
        "pycharm": {
          "name": "#%%\n"
        }
      },
      "outputs": [
        {
          "output_type": "execute_result",
          "data": {
            "text/plain": [
              "tensor([[ 3,  5],\n",
              "        [ 7, 11]])"
            ]
          },
          "metadata": {},
          "execution_count": 279
        }
      ],
      "source": [
        "torch.matmul(MATRIXA, MATRIXB)"
      ]
    },
    {
      "cell_type": "code",
      "execution_count": 280,
      "metadata": {
        "id": "l0K3AZujqNqh",
        "pycharm": {
          "name": "#%%\n"
        }
      },
      "outputs": [],
      "source": [
        "tensor = torch.rand(10000)"
      ]
    },
    {
      "cell_type": "code",
      "execution_count": 281,
      "metadata": {
        "colab": {
          "base_uri": "https://localhost:8080/"
        },
        "id": "AfNoJVLhqZFv",
        "outputId": "02bf7edd-7f96-4d5b-fc9c-d88134e9ae23",
        "pycharm": {
          "name": "#%%\n"
        }
      },
      "outputs": [
        {
          "output_type": "execute_result",
          "data": {
            "text/plain": [
              "tensor([0.7793, 0.5621, 0.5838,  ..., 0.6906, 0.0405, 0.8163])"
            ]
          },
          "metadata": {},
          "execution_count": 281
        }
      ],
      "source": [
        "tensor"
      ]
    },
    {
      "cell_type": "code",
      "execution_count": 282,
      "metadata": {
        "colab": {
          "base_uri": "https://localhost:8080/"
        },
        "id": "qXje3DhLqaMP",
        "outputId": "91086460-9ebb-433e-d289-0603e1a75743",
        "pycharm": {
          "name": "#%%\n"
        }
      },
      "outputs": [
        {
          "output_type": "stream",
          "name": "stdout",
          "text": [
            "CPU times: user 141 ms, sys: 0 ns, total: 141 ms\n",
            "Wall time: 157 ms\n"
          ]
        },
        {
          "output_type": "execute_result",
          "data": {
            "text/plain": [
              "tensor(3389.2021)"
            ]
          },
          "metadata": {},
          "execution_count": 282
        }
      ],
      "source": [
        "%%time\n",
        "\n",
        "value = 0\n",
        "\n",
        "for i in range(len(tensor)):\n",
        "  value += tensor[i] * tensor[i]\n",
        "value"
      ]
    },
    {
      "cell_type": "code",
      "execution_count": 283,
      "metadata": {
        "colab": {
          "base_uri": "https://localhost:8080/"
        },
        "id": "40TrgfSuqnvw",
        "outputId": "1bea006d-bcd1-468d-80d4-39e5a8ac5cb5",
        "pycharm": {
          "name": "#%%\n"
        }
      },
      "outputs": [
        {
          "output_type": "stream",
          "name": "stderr",
          "text": [
            "UsageError: Can't use statement directly after '%%time'!\n"
          ]
        }
      ],
      "source": [
        "%%time  #使用pytorch内置矩阵乘法效率要比自己手算高\n",
        "\n",
        "value = tensor @ tensor\n",
        "value"
      ]
    },
    {
      "cell_type": "code",
      "execution_count": 283,
      "metadata": {
        "id": "Wh5RKE8nqslR",
        "pycharm": {
          "name": "#%%\n"
        }
      },
      "outputs": [],
      "source": []
    },
    {
      "cell_type": "markdown",
      "metadata": {
        "id": "LJHqULuFrAwX",
        "pycharm": {
          "name": "#%% md\n"
        }
      },
      "source": [
        "**如果你想实现某个功能（这个功能看起来是很基本的）， 不要自己实现， Google一下，你就知道**"
      ]
    },
    {
      "cell_type": "code",
      "execution_count": 284,
      "metadata": {
        "id": "phkjBzxnrMLo",
        "pycharm": {
          "name": "#%%\n"
        }
      },
      "outputs": [],
      "source": [
        "tensor_A = torch.rand(3,4)"
      ]
    },
    {
      "cell_type": "code",
      "execution_count": 285,
      "metadata": {
        "colab": {
          "base_uri": "https://localhost:8080/"
        },
        "id": "qr2PoSgcrWnh",
        "outputId": "9fc0be3f-a8a3-44fa-9c50-d868cb6ab59e",
        "pycharm": {
          "name": "#%%\n"
        }
      },
      "outputs": [
        {
          "output_type": "execute_result",
          "data": {
            "text/plain": [
              "torch.Size([3, 4])"
            ]
          },
          "metadata": {},
          "execution_count": 285
        }
      ],
      "source": [
        "tensor_A.shape"
      ]
    },
    {
      "cell_type": "code",
      "execution_count": 286,
      "metadata": {
        "colab": {
          "base_uri": "https://localhost:8080/"
        },
        "id": "Qjf6xGYyrXdV",
        "outputId": "9e3783f7-2bd4-4392-9555-b7c6bfe16b5b",
        "pycharm": {
          "name": "#%%\n"
        }
      },
      "outputs": [
        {
          "output_type": "execute_result",
          "data": {
            "text/plain": [
              "tensor([[0.9552, 0.2267, 0.1174],\n",
              "        [0.5347, 0.3298, 0.0607],\n",
              "        [0.6461, 0.5642, 0.3587],\n",
              "        [0.2896, 0.6306, 0.5459]])"
            ]
          },
          "metadata": {},
          "execution_count": 286
        }
      ],
      "source": [
        "tensor_A.T"
      ]
    },
    {
      "cell_type": "code",
      "execution_count": 287,
      "metadata": {
        "id": "_1bJHIO-raEb",
        "pycharm": {
          "name": "#%%\n"
        }
      },
      "outputs": [],
      "source": [
        "tensor_A_reshape = tensor_A.reshape(2,6)"
      ]
    },
    {
      "cell_type": "code",
      "execution_count": 288,
      "metadata": {
        "colab": {
          "base_uri": "https://localhost:8080/"
        },
        "id": "VjZCEzfwrlwT",
        "outputId": "61ac1a9e-4647-476c-e382-422440e75fd0",
        "pycharm": {
          "name": "#%%\n"
        }
      },
      "outputs": [
        {
          "output_type": "execute_result",
          "data": {
            "text/plain": [
              "tensor([[0.9552, 0.5347, 0.6461, 0.2896],\n",
              "        [0.2267, 0.3298, 0.5642, 0.6306],\n",
              "        [0.1174, 0.0607, 0.3587, 0.5459]])"
            ]
          },
          "metadata": {},
          "execution_count": 288
        }
      ],
      "source": [
        "tensor_A"
      ]
    },
    {
      "cell_type": "code",
      "execution_count": 289,
      "metadata": {
        "colab": {
          "base_uri": "https://localhost:8080/"
        },
        "id": "HGEuYBZfrnw8",
        "outputId": "9e8c308d-aaab-4ab5-ee82-017c6c3b26ff",
        "pycharm": {
          "name": "#%%\n"
        }
      },
      "outputs": [
        {
          "output_type": "execute_result",
          "data": {
            "text/plain": [
              "tensor([[0.9552, 0.5347, 0.6461, 0.2896, 0.2267, 0.3298],\n",
              "        [0.5642, 0.6306, 0.1174, 0.0607, 0.3587, 0.5459]])"
            ]
          },
          "metadata": {},
          "execution_count": 289
        }
      ],
      "source": [
        "tensor_A_reshape"
      ]
    },
    {
      "cell_type": "code",
      "execution_count": 290,
      "metadata": {
        "id": "R0GPjgpCrq6F",
        "pycharm": {
          "name": "#%%\n"
        }
      },
      "outputs": [],
      "source": [
        "tensor_image_random = torch.rand(3,224,224)"
      ]
    },
    {
      "cell_type": "code",
      "execution_count": 291,
      "metadata": {
        "id": "rsD5oOuMr0oM",
        "pycharm": {
          "name": "#%%\n"
        }
      },
      "outputs": [],
      "source": [
        "tensor_re = tensor_image_random.reshape(-1,1,1) #224 224堆到一维，但还是三维，但后面俩1还存在"
      ]
    },
    {
      "cell_type": "code",
      "execution_count": 292,
      "metadata": {
        "colab": {
          "base_uri": "https://localhost:8080/"
        },
        "id": "avDRknVRuORX",
        "outputId": "e94fbfdc-6eb2-481e-8e4c-30293eb1674e",
        "pycharm": {
          "name": "#%%\n"
        }
      },
      "outputs": [
        {
          "output_type": "execute_result",
          "data": {
            "text/plain": [
              "torch.Size([150528, 1, 1])"
            ]
          },
          "metadata": {},
          "execution_count": 292
        }
      ],
      "source": [
        "tensor_re.shape"
      ]
    },
    {
      "cell_type": "code",
      "execution_count": 293,
      "metadata": {
        "id": "tHGIBeXnug05",
        "pycharm": {
          "name": "#%%\n"
        }
      },
      "outputs": [],
      "source": [
        "tensor_sq = torch.squeeze(tensor_re)  #torch.squeeze降到一维了"
      ]
    },
    {
      "cell_type": "code",
      "execution_count": 294,
      "metadata": {
        "colab": {
          "base_uri": "https://localhost:8080/"
        },
        "id": "c_ssfSAUut-A",
        "outputId": "26be655b-4872-4c4c-d43e-a6eeb05cdedd",
        "pycharm": {
          "name": "#%%\n"
        }
      },
      "outputs": [
        {
          "output_type": "execute_result",
          "data": {
            "text/plain": [
              "1"
            ]
          },
          "metadata": {},
          "execution_count": 294
        }
      ],
      "source": [
        "tensor_sq.ndim"
      ]
    },
    {
      "cell_type": "code",
      "execution_count": 295,
      "metadata": {
        "id": "i7IyZODfsEjK",
        "pycharm": {
          "name": "#%%\n"
        }
      },
      "outputs": [],
      "source": [
        "tensorC = torch.randint(1, 10, (3, 3))"
      ]
    },
    {
      "cell_type": "code",
      "execution_count": 296,
      "metadata": {
        "colab": {
          "base_uri": "https://localhost:8080/"
        },
        "id": "jMEUu0WrsSJf",
        "outputId": "a2dad421-94e2-4854-a64c-dd15cc06c5ae",
        "pycharm": {
          "name": "#%%\n"
        }
      },
      "outputs": [
        {
          "output_type": "execute_result",
          "data": {
            "text/plain": [
              "tensor([[8, 6, 4],\n",
              "        [7, 9, 9],\n",
              "        [1, 8, 3]])"
            ]
          },
          "metadata": {},
          "execution_count": 296
        }
      ],
      "source": [
        "tensorC"
      ]
    },
    {
      "cell_type": "code",
      "execution_count": 297,
      "metadata": {
        "id": "wF_fmDuusv1i",
        "pycharm": {
          "name": "#%%\n"
        }
      },
      "outputs": [],
      "source": [
        "value, indices = torch.max(tensorC, 1)  #在第一维度上求"
      ]
    },
    {
      "cell_type": "code",
      "execution_count": 298,
      "metadata": {
        "colab": {
          "base_uri": "https://localhost:8080/"
        },
        "id": "2iRk5d7js3qH",
        "outputId": "dcd1073c-6e6a-47ef-ce79-b938f9c26694",
        "pycharm": {
          "name": "#%%\n"
        }
      },
      "outputs": [
        {
          "output_type": "execute_result",
          "data": {
            "text/plain": [
              "tensor([8, 9, 8])"
            ]
          },
          "metadata": {},
          "execution_count": 298
        }
      ],
      "source": [
        "value"
      ]
    },
    {
      "cell_type": "code",
      "execution_count": 299,
      "metadata": {
        "colab": {
          "base_uri": "https://localhost:8080/"
        },
        "id": "aecoLPLptXmm",
        "outputId": "e9dbb03d-fb0c-4121-9022-98540b991f3e",
        "pycharm": {
          "name": "#%%\n"
        }
      },
      "outputs": [
        {
          "output_type": "execute_result",
          "data": {
            "text/plain": [
              "tensor([0, 1, 1])"
            ]
          },
          "metadata": {},
          "execution_count": 299
        }
      ],
      "source": [
        "indices #最大值下标"
      ]
    },
    {
      "cell_type": "code",
      "execution_count": 300,
      "metadata": {
        "id": "6IP88OSrta7m",
        "pycharm": {
          "name": "#%%\n"
        }
      },
      "outputs": [],
      "source": [
        "tensor = torch.arange(10, 101, 10)  #前两个是range，左闭右开，第三个是长度"
      ]
    },
    {
      "cell_type": "code",
      "execution_count": 301,
      "metadata": {
        "colab": {
          "base_uri": "https://localhost:8080/"
        },
        "id": "2SiP2X-QtmYs",
        "outputId": "2b3a3a89-1337-4560-d07c-0e28d8efa37b",
        "pycharm": {
          "name": "#%%\n"
        }
      },
      "outputs": [
        {
          "output_type": "execute_result",
          "data": {
            "text/plain": [
              "tensor([ 10,  20,  30,  40,  50,  60,  70,  80,  90, 100])"
            ]
          },
          "metadata": {},
          "execution_count": 301
        }
      ],
      "source": [
        "tensor"
      ]
    },
    {
      "cell_type": "code",
      "execution_count": 302,
      "metadata": {
        "id": "6HZN7reetoJ0",
        "pycharm": {
          "name": "#%%\n"
        }
      },
      "outputs": [],
      "source": [
        "TENSOR = torch.tensor([[[1,2,3],[4,5,6],[7,8,9]]])"
      ]
    },
    {
      "cell_type": "code",
      "execution_count": 303,
      "metadata": {
        "id": "wCJm0Kk_vDDG",
        "pycharm": {
          "name": "#%%\n"
        }
      },
      "outputs": [],
      "source": [
        "TENSOR = torch.arange(1,10).reshape(1,3,3)"
      ]
    },
    {
      "cell_type": "code",
      "execution_count": 304,
      "metadata": {
        "colab": {
          "base_uri": "https://localhost:8080/"
        },
        "id": "I8ZpEJvavH5O",
        "outputId": "254c85af-06ca-4e45-e706-745d86f91655",
        "pycharm": {
          "name": "#%%\n"
        }
      },
      "outputs": [
        {
          "output_type": "execute_result",
          "data": {
            "text/plain": [
              "tensor([[[1, 2, 3],\n",
              "         [4, 5, 6],\n",
              "         [7, 8, 9]]])"
            ]
          },
          "metadata": {},
          "execution_count": 304
        }
      ],
      "source": [
        "TENSOR"
      ]
    },
    {
      "cell_type": "code",
      "execution_count": 305,
      "metadata": {
        "colab": {
          "base_uri": "https://localhost:8080/"
        },
        "id": "FvxcTP1KvI1y",
        "outputId": "7d1537b7-970d-431f-d45e-3f0f4f0d18a3",
        "pycharm": {
          "name": "#%%\n"
        }
      },
      "outputs": [
        {
          "output_type": "execute_result",
          "data": {
            "text/plain": [
              "torch.Size([1, 3, 3])"
            ]
          },
          "metadata": {},
          "execution_count": 305
        }
      ],
      "source": [
        "TENSOR.shape"
      ]
    },
    {
      "cell_type": "code",
      "execution_count": 306,
      "metadata": {
        "colab": {
          "base_uri": "https://localhost:8080/"
        },
        "id": "liJhb3MdvNcr",
        "outputId": "0f235369-6dc3-4fb3-ad62-b9c1138d42f2",
        "pycharm": {
          "name": "#%%\n"
        }
      },
      "outputs": [
        {
          "output_type": "execute_result",
          "data": {
            "text/plain": [
              "tensor(5)"
            ]
          },
          "metadata": {},
          "execution_count": 306
        }
      ],
      "source": [
        "TENSOR[0,1,1] #与TENSOR[0][1][1]表示意思一样"
      ]
    },
    {
      "cell_type": "code",
      "execution_count": 308,
      "metadata": {
        "colab": {
          "base_uri": "https://localhost:8080/"
        },
        "id": "_OyK_gssvYd9",
        "outputId": "96c6e670-d947-48d2-d0d6-44c21d8c9985",
        "pycharm": {
          "name": "#%%\n"
        }
      },
      "outputs": [
        {
          "output_type": "execute_result",
          "data": {
            "text/plain": [
              "tensor([[1, 2, 3],\n",
              "        [4, 5, 6],\n",
              "        [7, 8, 9]])"
            ]
          },
          "metadata": {},
          "execution_count": 308
        }
      ],
      "source": [
        "TENSOR[0]"
      ]
    },
    {
      "cell_type": "code",
      "execution_count": 307,
      "metadata": {
        "colab": {
          "base_uri": "https://localhost:8080/"
        },
        "id": "L59zmar8vgUk",
        "outputId": "b001a98f-110e-4a27-cbb4-314992e65d52",
        "pycharm": {
          "name": "#%%\n"
        }
      },
      "outputs": [
        {
          "output_type": "execute_result",
          "data": {
            "text/plain": [
              "tensor([[1, 2, 3]])"
            ]
          },
          "metadata": {},
          "execution_count": 307
        }
      ],
      "source": [
        "# [[1,2,3]] #要取到[1,2,3]，要保持和TENSOR.shape输出的torch.Size([1, 3, 3])对应的位置对齐\n",
        "TENSOR[:,0]"
      ]
    },
    {
      "cell_type": "code",
      "execution_count": 309,
      "metadata": {
        "colab": {
          "base_uri": "https://localhost:8080/"
        },
        "id": "U_L_DYHYvtEv",
        "outputId": "ea90e818-4862-4c43-ad5e-5241e89cf038",
        "pycharm": {
          "name": "#%%\n"
        }
      },
      "outputs": [
        {
          "output_type": "execute_result",
          "data": {
            "text/plain": [
              "tensor([[2, 5, 8]])"
            ]
          },
          "metadata": {},
          "execution_count": 309
        }
      ],
      "source": [
        "TENSOR[:,:,1]"
      ]
    },
    {
      "cell_type": "code",
      "execution_count": 310,
      "metadata": {
        "id": "yUa2Y08jv-ao",
        "pycharm": {
          "name": "#%%\n"
        }
      },
      "outputs": [],
      "source": [
        "MATRIX = torch.arange(0,4).reshape(2,2)"
      ]
    },
    {
      "cell_type": "code",
      "execution_count": 311,
      "metadata": {
        "colab": {
          "base_uri": "https://localhost:8080/"
        },
        "id": "xCDPXnyawIQz",
        "outputId": "05f0b58c-f76d-4fdf-a72f-27c79cbcb1c0",
        "pycharm": {
          "name": "#%%\n"
        }
      },
      "outputs": [
        {
          "output_type": "execute_result",
          "data": {
            "text/plain": [
              "tensor([[0, 1],\n",
              "        [2, 3]])"
            ]
          },
          "metadata": {},
          "execution_count": 311
        }
      ],
      "source": [
        "MATRIX"
      ]
    },
    {
      "cell_type": "code",
      "execution_count": 312,
      "metadata": {
        "colab": {
          "base_uri": "https://localhost:8080/"
        },
        "id": "UvA8K7_uwJWU",
        "outputId": "f11972f0-993a-47fb-abf9-a61f0cc7c843",
        "pycharm": {
          "name": "#%%\n"
        }
      },
      "outputs": [
        {
          "output_type": "execute_result",
          "data": {
            "text/plain": [
              "tensor([0, 1])"
            ]
          },
          "metadata": {},
          "execution_count": 312
        }
      ],
      "source": [
        "MATRIX[0]"
      ]
    },
    {
      "cell_type": "code",
      "execution_count": 313,
      "metadata": {
        "colab": {
          "base_uri": "https://localhost:8080/"
        },
        "id": "WDRKX26awMqC",
        "outputId": "e161d98f-39e1-4315-cbd2-c9cae04dc3db",
        "pycharm": {
          "name": "#%%\n"
        }
      },
      "outputs": [
        {
          "output_type": "execute_result",
          "data": {
            "text/plain": [
              "tensor([0, 1])"
            ]
          },
          "metadata": {},
          "execution_count": 313
        }
      ],
      "source": [
        "MATRIX[0,:]"
      ]
    },
    {
      "cell_type": "code",
      "source": [
        "MATRIX[:,0]"
      ],
      "metadata": {
        "colab": {
          "base_uri": "https://localhost:8080/"
        },
        "id": "20GSgt8S4BUr",
        "outputId": "e4f34dab-33af-4df6-e8ac-9ce3ecede888"
      },
      "execution_count": 314,
      "outputs": [
        {
          "output_type": "execute_result",
          "data": {
            "text/plain": [
              "tensor([0, 2])"
            ]
          },
          "metadata": {},
          "execution_count": 314
        }
      ]
    },
    {
      "cell_type": "code",
      "execution_count": 315,
      "metadata": {
        "colab": {
          "base_uri": "https://localhost:8080/"
        },
        "id": "5GtVjLH2wOJQ",
        "outputId": "cbed3ea9-d203-4c21-d965-3bcd5dab46c6",
        "pycharm": {
          "name": "#%%\n"
        }
      },
      "outputs": [
        {
          "output_type": "execute_result",
          "data": {
            "text/plain": [
              "tensor(1)"
            ]
          },
          "metadata": {},
          "execution_count": 315
        }
      ],
      "source": [
        "MATRIX[0,1]"
      ]
    },
    {
      "cell_type": "code",
      "execution_count": 315,
      "metadata": {
        "id": "LXYdqcb8wa9E",
        "pycharm": {
          "name": "#%%\n"
        }
      },
      "outputs": [],
      "source": []
    },
    {
      "cell_type": "markdown",
      "metadata": {
        "id": "QOVrebFLwvEH",
        "pycharm": {
          "name": "#%% md\n"
        }
      },
      "source": [
        "### 可移植性/可再现性/Reproducibility"
      ]
    },
    {
      "cell_type": "code",
      "execution_count": 316,
      "metadata": {
        "colab": {
          "base_uri": "https://localhost:8080/"
        },
        "id": "WXOB8ghlxBCt",
        "outputId": "6dbff5ec-f51f-4ee6-df2c-57db4df5edf9",
        "pycharm": {
          "name": "#%%\n"
        }
      },
      "outputs": [
        {
          "output_type": "stream",
          "name": "stdout",
          "text": [
            "tensor([[0.8983, 0.7911, 0.1960, 0.9054],\n",
            "        [0.5236, 0.3232, 0.1204, 0.5062],\n",
            "        [0.7753, 0.8666, 0.8832, 0.4887]])\n",
            "tensor([[0.2452, 0.8486, 0.0528, 0.4261],\n",
            "        [0.5238, 0.8116, 0.0723, 0.0744],\n",
            "        [0.0599, 0.2436, 0.3261, 0.6776]])\n",
            "tensor([[False, False, False, False],\n",
            "        [False, False, False, False],\n",
            "        [False, False, False, False]])\n"
          ]
        }
      ],
      "source": [
        "random_tensor_A = torch.rand(3,4)\n",
        "random_tensor_B = torch.rand(3,4)\n",
        "\n",
        "print(random_tensor_A)\n",
        "print(random_tensor_B)\n",
        "print(random_tensor_A == random_tensor_B)"
      ]
    },
    {
      "cell_type": "code",
      "execution_count": 317,
      "metadata": {
        "colab": {
          "base_uri": "https://localhost:8080/"
        },
        "id": "pFkDI4d6xPpg",
        "outputId": "fd4c832d-6a1d-4651-b5d4-23f97cfeea4f",
        "pycharm": {
          "name": "#%%\n"
        }
      },
      "outputs": [
        {
          "output_type": "stream",
          "name": "stdout",
          "text": [
            "tensor([[0.3119, 0.2701, 0.1118, 0.1012],\n",
            "        [0.1877, 0.0181, 0.3317, 0.0846],\n",
            "        [0.5732, 0.0079, 0.2520, 0.5518]])\n",
            "tensor([[0.3119, 0.2701, 0.1118, 0.1012],\n",
            "        [0.1877, 0.0181, 0.3317, 0.0846],\n",
            "        [0.5732, 0.0079, 0.2520, 0.5518]])\n",
            "tensor([[True, True, True, True],\n",
            "        [True, True, True, True],\n",
            "        [True, True, True, True]])\n"
          ]
        }
      ],
      "source": [
        "## 计算机中一切的随机都是伪随机\n",
        "torch.random.manual_seed(seed = 666)\n",
        "random_tensor_C = torch.rand(3,4)\n",
        "\n",
        "torch.random.manual_seed(seed = 666)\n",
        "random_tensor_D = torch.rand(3,4)\n",
        "\n",
        "print(random_tensor_C)\n",
        "print(random_tensor_D)\n",
        "print(random_tensor_C == random_tensor_D)"
      ]
    },
    {
      "cell_type": "code",
      "execution_count": 318,
      "metadata": {
        "colab": {
          "base_uri": "https://localhost:8080/"
        },
        "id": "I-QhwFLaxpo4",
        "outputId": "677da651-f003-419a-8d80-c5e618aa798c",
        "pycharm": {
          "name": "#%%\n"
        }
      },
      "outputs": [
        {
          "output_type": "stream",
          "name": "stdout",
          "text": [
            "Thu Mar 14 03:01:04 2024       \n",
            "+---------------------------------------------------------------------------------------+\n",
            "| NVIDIA-SMI 535.104.05             Driver Version: 535.104.05   CUDA Version: 12.2     |\n",
            "|-----------------------------------------+----------------------+----------------------+\n",
            "| GPU  Name                 Persistence-M | Bus-Id        Disp.A | Volatile Uncorr. ECC |\n",
            "| Fan  Temp   Perf          Pwr:Usage/Cap |         Memory-Usage | GPU-Util  Compute M. |\n",
            "|                                         |                      |               MIG M. |\n",
            "|=========================================+======================+======================|\n",
            "|   0  Tesla T4                       Off | 00000000:00:04.0 Off |                    0 |\n",
            "| N/A   42C    P8              11W /  70W |      0MiB / 15360MiB |      0%      Default |\n",
            "|                                         |                      |                  N/A |\n",
            "+-----------------------------------------+----------------------+----------------------+\n",
            "                                                                                         \n",
            "+---------------------------------------------------------------------------------------+\n",
            "| Processes:                                                                            |\n",
            "|  GPU   GI   CI        PID   Type   Process name                            GPU Memory |\n",
            "|        ID   ID                                                             Usage      |\n",
            "|=======================================================================================|\n",
            "|  No running processes found                                                           |\n",
            "+---------------------------------------------------------------------------------------+\n"
          ]
        }
      ],
      "source": [
        "!nvidia-smi"
      ]
    },
    {
      "cell_type": "code",
      "execution_count": 319,
      "metadata": {
        "colab": {
          "base_uri": "https://localhost:8080/"
        },
        "id": "ILlOj4aSzFeN",
        "outputId": "bb2f5301-b956-4f5e-bb46-dd426b11237a",
        "pycharm": {
          "name": "#%%\n"
        }
      },
      "outputs": [
        {
          "output_type": "execute_result",
          "data": {
            "text/plain": [
              "True"
            ]
          },
          "metadata": {},
          "execution_count": 319
        }
      ],
      "source": [
        "import torch\n",
        "torch.cuda.is_available()"
      ]
    },
    {
      "cell_type": "code",
      "execution_count": 320,
      "metadata": {
        "id": "TosAYLU4zLhV",
        "pycharm": {
          "name": "#%%\n"
        }
      },
      "outputs": [],
      "source": [
        "device = \"cuda\" if torch.cuda.is_available() else \"cpu\""
      ]
    },
    {
      "cell_type": "code",
      "execution_count": 321,
      "metadata": {
        "colab": {
          "base_uri": "https://localhost:8080/",
          "height": 35
        },
        "id": "HElSew1kzdKe",
        "outputId": "e1a03f4f-7e01-418f-fda0-0b67041cca62",
        "pycharm": {
          "name": "#%%\n"
        }
      },
      "outputs": [
        {
          "output_type": "execute_result",
          "data": {
            "text/plain": [
              "'cuda'"
            ],
            "application/vnd.google.colaboratory.intrinsic+json": {
              "type": "string"
            }
          },
          "metadata": {},
          "execution_count": 321
        }
      ],
      "source": [
        "device"
      ]
    },
    {
      "cell_type": "code",
      "execution_count": 322,
      "metadata": {
        "colab": {
          "base_uri": "https://localhost:8080/"
        },
        "id": "3Q484nv8zdzQ",
        "outputId": "5520dc97-1e73-4d96-e90b-8517b06eb288",
        "pycharm": {
          "name": "#%%\n"
        }
      },
      "outputs": [
        {
          "output_type": "execute_result",
          "data": {
            "text/plain": [
              "1"
            ]
          },
          "metadata": {},
          "execution_count": 322
        }
      ],
      "source": [
        "torch.cuda.device_count()"
      ]
    },
    {
      "cell_type": "code",
      "execution_count": 323,
      "metadata": {
        "id": "ZvuDIeATzpX7",
        "pycharm": {
          "name": "#%%\n"
        }
      },
      "outputs": [],
      "source": [
        "tensor = torch.tensor([1,2,3])"
      ]
    },
    {
      "cell_type": "code",
      "execution_count": 324,
      "metadata": {
        "colab": {
          "base_uri": "https://localhost:8080/"
        },
        "id": "tGO52xbrzubS",
        "outputId": "7e468a9f-47ac-47b6-dd66-688437579a45",
        "pycharm": {
          "name": "#%%\n"
        }
      },
      "outputs": [
        {
          "output_type": "execute_result",
          "data": {
            "text/plain": [
              "device(type='cpu')"
            ]
          },
          "metadata": {},
          "execution_count": 324
        }
      ],
      "source": [
        "tensor.device"
      ]
    },
    {
      "cell_type": "code",
      "source": [
        "!nvidia-smi\n"
      ],
      "metadata": {
        "colab": {
          "base_uri": "https://localhost:8080/"
        },
        "id": "rdDX2Y_Y6LG0",
        "outputId": "614fc934-a197-45f5-8ebf-f0978899725e"
      },
      "execution_count": 326,
      "outputs": [
        {
          "output_type": "stream",
          "name": "stdout",
          "text": [
            "Thu Mar 14 03:02:04 2024       \n",
            "+---------------------------------------------------------------------------------------+\n",
            "| NVIDIA-SMI 535.104.05             Driver Version: 535.104.05   CUDA Version: 12.2     |\n",
            "|-----------------------------------------+----------------------+----------------------+\n",
            "| GPU  Name                 Persistence-M | Bus-Id        Disp.A | Volatile Uncorr. ECC |\n",
            "| Fan  Temp   Perf          Pwr:Usage/Cap |         Memory-Usage | GPU-Util  Compute M. |\n",
            "|                                         |                      |               MIG M. |\n",
            "|=========================================+======================+======================|\n",
            "|   0  Tesla T4                       Off | 00000000:00:04.0 Off |                    0 |\n",
            "| N/A   49C    P0              28W /  70W |    105MiB / 15360MiB |      0%      Default |\n",
            "|                                         |                      |                  N/A |\n",
            "+-----------------------------------------+----------------------+----------------------+\n",
            "                                                                                         \n",
            "+---------------------------------------------------------------------------------------+\n",
            "| Processes:                                                                            |\n",
            "|  GPU   GI   CI        PID   Type   Process name                            GPU Memory |\n",
            "|        ID   ID                                                             Usage      |\n",
            "|=======================================================================================|\n",
            "+---------------------------------------------------------------------------------------+\n"
          ]
        }
      ]
    },
    {
      "cell_type": "code",
      "source": [
        "import torch\n",
        "torch.cuda.is_available()"
      ],
      "metadata": {
        "colab": {
          "base_uri": "https://localhost:8080/"
        },
        "id": "LINEAZjq6Pv0",
        "outputId": "470106ff-a2c0-485b-9ecc-adca842b3e53"
      },
      "execution_count": 328,
      "outputs": [
        {
          "output_type": "execute_result",
          "data": {
            "text/plain": [
              "True"
            ]
          },
          "metadata": {},
          "execution_count": 328
        }
      ]
    },
    {
      "cell_type": "code",
      "execution_count": 331,
      "metadata": {
        "id": "r1MjdJn_z2F-",
        "pycharm": {
          "name": "#%%\n"
        },
        "colab": {
          "base_uri": "https://localhost:8080/"
        },
        "outputId": "0350da0a-86cc-4a21-c151-cf158b1553a2"
      },
      "outputs": [
        {
          "output_type": "stream",
          "name": "stdout",
          "text": [
            "cpu\n"
          ]
        }
      ],
      "source": []
    },
    {
      "cell_type": "code",
      "source": [
        "device = \"cuda\" if torch.cuda.is_available() else \"cpu\"\n",
        "device"
      ],
      "metadata": {
        "colab": {
          "base_uri": "https://localhost:8080/",
          "height": 35
        },
        "id": "DkQ3_8w36bHG",
        "outputId": "c889133b-9f88-4153-d3f6-a5da3c9022e2"
      },
      "execution_count": 330,
      "outputs": [
        {
          "output_type": "execute_result",
          "data": {
            "text/plain": [
              "'cuda'"
            ],
            "application/vnd.google.colaboratory.intrinsic+json": {
              "type": "string"
            }
          },
          "metadata": {},
          "execution_count": 330
        }
      ]
    },
    {
      "cell_type": "code",
      "source": [
        "tensor = torch.tensor([1,2,3])\n",
        "print(tensor.device)\n",
        "tensor = tensor.to(device)"
      ],
      "metadata": {
        "colab": {
          "base_uri": "https://localhost:8080/"
        },
        "id": "nLDD9A2q60HJ",
        "outputId": "cd7ea431-40ec-460a-e60d-970e84d6d2cf"
      },
      "execution_count": 332,
      "outputs": [
        {
          "output_type": "stream",
          "name": "stdout",
          "text": [
            "cpu\n"
          ]
        }
      ]
    },
    {
      "cell_type": "code",
      "source": [
        ""
      ],
      "metadata": {
        "id": "p-GMt-5h7BaW"
      },
      "execution_count": null,
      "outputs": []
    }
  ],
  "metadata": {
    "accelerator": "GPU",
    "colab": {
      "gpuType": "T4",
      "provenance": [],
      "collapsed_sections": [
        "8C3hAPRUg3rX",
        "AK9h2P-Hg7v_",
        "lO_iaXLkiDRZ",
        "fO6sRsL3imrO"
      ],
      "include_colab_link": true
    },
    "kernelspec": {
      "display_name": "Python 3 (ipykernel)",
      "language": "python",
      "name": "python3"
    },
    "language_info": {
      "codemirror_mode": {
        "name": "ipython",
        "version": 3
      },
      "file_extension": ".py",
      "mimetype": "text/x-python",
      "name": "python",
      "nbconvert_exporter": "python",
      "pygments_lexer": "ipython3",
      "version": "3.10.4"
    }
  },
  "nbformat": 4,
  "nbformat_minor": 0
}